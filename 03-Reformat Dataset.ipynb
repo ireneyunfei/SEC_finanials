{
 "cells": [
  {
   "cell_type": "code",
   "execution_count": 5,
   "metadata": {},
   "outputs": [],
   "source": [
    "import findspark\n",
    "findspark.init()"
   ]
  },
  {
   "cell_type": "code",
   "execution_count": 6,
   "metadata": {},
   "outputs": [
    {
     "data": {
      "text/html": [
       "\n",
       "            <div>\n",
       "                <p><b>SparkSession - in-memory</b></p>\n",
       "                \n",
       "        <div>\n",
       "            <p><b>SparkContext</b></p>\n",
       "\n",
       "            <p><a href=\"http://ip-172-31-25-35.ec2.internal:4041\">Spark UI</a></p>\n",
       "\n",
       "            <dl>\n",
       "              <dt>Version</dt>\n",
       "                <dd><code>v2.4.4</code></dd>\n",
       "              <dt>Master</dt>\n",
       "                <dd><code>yarn</code></dd>\n",
       "              <dt>AppName</dt>\n",
       "                <dd><code>abc</code></dd>\n",
       "            </dl>\n",
       "        </div>\n",
       "        \n",
       "            </div>\n",
       "        "
      ],
      "text/plain": [
       "<pyspark.sql.session.SparkSession at 0x7fd1fc3c4510>"
      ]
     },
     "execution_count": 6,
     "metadata": {},
     "output_type": "execute_result"
    }
   ],
   "source": [
    "from pyspark.sql import SparkSession\n",
    "spark = SparkSession.builder.appName('abc').getOrCreate()\n",
    "spark"
   ]
  },
  {
   "cell_type": "markdown",
   "metadata": {},
   "source": [
    "## This notebook reformatted the dataset\n",
    "In the cleaned dataset, each record represents a data point, such as \"Revenue\". We aimed to pivot the datapoints into columns so that each record would represent the data of a company for a fiscal year.\n",
    "### read in the cleaned dataset"
   ]
  },
  {
   "cell_type": "code",
   "execution_count": 44,
   "metadata": {},
   "outputs": [],
   "source": [
    "df = spark.read.parquet('s3://sec-finc/uploaded/')"
   ]
  },
  {
   "cell_type": "markdown",
   "metadata": {},
   "source": [
    "### drop duplication"
   ]
  },
  {
   "cell_type": "code",
   "execution_count": 45,
   "metadata": {},
   "outputs": [],
   "source": [
    "df = df.dropDuplicates(['company_name', 'document_fiscal_year_focus','datapoint_name', 'string_value'])"
   ]
  },
  {
   "cell_type": "code",
   "execution_count": 46,
   "metadata": {},
   "outputs": [
    {
     "name": "stdout",
     "output_type": "stream",
     "text": [
      "+-------+--------------------+------------+--------------------+-----------+--------------------------+------------+--------------------+--------------------+----------+----------+------------+------------+-------------+--------+----------+---------------------+--------------+--------------------------+------------+-------------+------------+---------+\n",
      "|    cik|        company_name|assigned_sic|accession_number_int|filing_date|document_fiscal_year_focus|datapoint_id|      datapoint_name|     datapoint_label|start_date|  end_date|period_month|string_value|numeric_value|decimals|      unit|parent_datapoint_name|statement_type|report_section_description|     version|segment_label|segment_hash|footnotes|\n",
      "+-------+--------------------+------------+--------------------+-----------+--------------------------+------------+--------------------+--------------------+----------+----------+------------+------------+-------------+--------+----------+---------------------+--------------+--------------------------+------------+-------------+------------+---------+\n",
      "| 886475|        'MKTG, INC.'|        7310|     101905611001025| 2011-11-04|                      2012|   354536880|IncreaseDecreaseI...| Accounts receivable|2011-04-01|2011-09-30|           6|     8758271|    8758271.0|       0|       USD| ChangesInOperatin...|             C|      Statement - Conde...|us-gaap/2011|         null|        null|     null|\n",
      "| 886475|        'MKTG, INC.'|        7310|     101905613000804| 2013-06-24|                      2013|   178938092|       NetIncomeLoss|          Net income|2011-04-01|2012-03-31|          12|     5399410|    5399410.0|       0|       USD| NetCashProvidedBy...|             C|      Statement - CONSO...|us-gaap/2012|         null|        null|     null|\n",
      "| 886475|        'MKTG, INC.'|        7310|     101905613000180| 2013-02-12|                      2013|    12440511| OperatingIncomeLoss|    Operating income|2011-10-01|2011-12-31|           3|     1014582|    1014582.0|       0|       USD|   StatementLineItems|             I|      Statement - Conde...|us-gaap/2011|         null|        null|     null|\n",
      "| 886475|        'MKTG, INC.'|        7310|     101905613000180| 2013-02-12|                      2013|    12440590|PaymentsToAcquire...|Purchases of prop...|2012-04-01|2012-12-31|           9|      302382|     302382.0|       0|       USD| CashFlowsFromInve...|             C|      Statement - Conde...|us-gaap/2011|         null|        null|     null|\n",
      "| 886475|        'MKTG, INC.'|        7310|     101905613001271| 2013-11-13|                      2014|   229233292|     IncomeTaxesPaid|Income taxes paid...|2013-04-01|2013-09-30|           6|      199711|     199711.0|       0|       USD| SupplementalCashF...|             C|      Statement - Conde...|us-gaap/2012|         null|        null|     null|\n",
      "|1084869|1 800 FLOWERS COM...|        5990|     104746912008848| 2012-09-14|                      2012|    65969852|PaymentsToAcquire...|Acquisitions, net...|2010-06-28|2011-07-03|          12|     4310000|    4310000.0|      -3|       USD| NetCashProvidedBy...|             C|      Statement - Conso...|us-gaap/2012|         null|        null|     null|\n",
      "|1084869|1 800 FLOWERS COM...|        5990|     143774916031049| 2016-05-06|                      2016|   682201455|EarningsPerShareB...|Basic net income ...|2015-06-29|2016-03-27|           9|        0.74|         0.74|    null|USD/shares| OperatingExpenses...|             I|      Statement - Conde...|us-gaap/2016|         null|        null|     null|\n",
      "|1408597|  11 GOOD ENERGY INC|        2860|      93041312002224| 2012-04-16|                      2011|   229886971|NetCashProvidedBy...|Net cash used in ...|2010-01-01|2010-12-31|          12|    -5235978|   -5235978.0|       0|       USD| ChangesInOperatin...|             C|      Statement - CONSO...|us-gaap/2012|         null|        null|     null|\n",
      "|1627611|      12 RETECH CORP|        7371|     164033416001285| 2016-07-01|                      2015|   697311998|NetCashProvidedBy...|Net Cash used in ...|2014-12-01|2015-11-30|          12|      -39270|     -39270.0|       0|       USD| NetCashProvidedBy...|             C|      Statement - State...|us-gaap/2015|         null|        null|     null|\n",
      "|1627611|      12 RETECH CORP|        7371|     164033417001452| 2017-07-21|                      2017|   857113158|   OperatingExpenses|Total Operating E...|2016-12-01|2017-05-31|           6|        9189|       9189.0|       0|       USD| OperatingExpenses...|             I|      Statement - State...|us-gaap/2016|         null|        null|     null|\n",
      "|1591890|1347 PROPERTY INS...|        6331|     149315219012522| 2019-08-14|                      2019|  1151862391|NetCashProvidedBy...|Net cash provided...|2019-01-01|2019-06-30|           6|     -721000|    -721000.0|      -3|       USD| NetCashProvidedBy...|             C|      Statement - Conso...|us-gaap/2019|         null|        null|     null|\n",
      "|1599407|   1847 HOLDINGS LLC|        8742|     147793216010398| 2016-05-16|                      2016|   700978066|GeneralAndAdminis...|General and admin...|2016-01-01|2016-03-31|           3|        1548|       1548.0|       0|       USD| OperatingExpenses...|             I|      Statement - CONDE...|us-gaap/2015|         null|        null|     null|\n",
      "|1599407|   1847 HOLDINGS LLC|        8742|     147793216010398| 2016-05-16|                      2016|   700978061| OperatingIncomeLoss|NET LOSS FROM OPE...|2015-01-01|2015-03-31|           3|      -40900|     -40900.0|       0|       USD| StatementCondense...|             I|      Statement - CONDE...|us-gaap/2015|         null|        null|     null|\n",
      "|1599407|   1847 HOLDINGS LLC|        8742|     147793218001914| 2018-04-17|                      2017|   953497677|              Assets|        TOTAL ASSETS|      null|2017-12-31|        null|     8084455|    8084455.0|       0|       USD|       AssetsAbstract|             B|      Statement - CONSO...|us-gaap/2016|         null|        null|     null|\n",
      "|1599407|   1847 HOLDINGS LLC|        8742|     147793217004310| 2017-09-01|                      2017|   871571518|     CostOfGoodsSold|       COST OF SALES|2017-01-01|2017-06-30|           6|     2272418|    2272418.0|       0|       USD| StatementCondense...|             I|      Statement - CONDE...|us-gaap/2016|         null|        null|     null|\n",
      "|1599407|   1847 HOLDINGS LLC|        8742|     147793218002636| 2018-05-21|                      2018|   971511310|            Revenues|       TOTAL REVENUE|2018-01-01|2018-03-31|           3|      762645|     762645.0|       0|       USD| StatementCondense...|             I|      Statement - CONSO...|us-gaap/2016|         null|        null|     null|\n",
      "|1599407|   1847 HOLDINGS LLC|        8742|     147793219001700| 2019-04-15|                      2018|  1089895007|  StockholdersEquity|TOTAL SHAREHOLDER...|      null|2018-12-31|        null|    -2027067|   -2027067.0|       0|       USD| StockholdersEquit...|             B|      Statement - CONSO...|us-gaap/2018|         null|        null|     null|\n",
      "| 859747|      1PM INDUSTRIES|        2000|     147793216007969| 2016-01-12|                      2016|   628686671|       NetIncomeLoss|            Net loss|2014-09-01|2014-11-30|           3|        -880|       -880.0|       0|       USD| NetCashProvidedBy...|             C|      Statement - Conso...|us-gaap/2014|         null|        null|     null|\n",
      "|1420525|1ST CENTURY BANCS...|        6022|     143774913002434| 2013-03-07|                      2012|    97681385|NetCashProvidedBy...|Net cash provided...|2012-01-01|2012-12-31|          12|    88461000|     8.8461E7|      -3|       USD| PaymentsRelatedTo...|             C|      Statement - Conso...|us-gaap/2012|         null|        null|     null|\n",
      "|1420525|1ST CENTURY BANCS...|        6022|     143774914008438| 2014-05-08|                      2014|   350297517|CashAndCashEquiva...|Cash and cash equ...|      null|2013-03-31|        null|    27508000|     2.7508E7|      -3|       USD|   StatementLineItems|             C|      Statement - Unaud...|us-gaap/2013|         null|        null|     null|\n",
      "+-------+--------------------+------------+--------------------+-----------+--------------------------+------------+--------------------+--------------------+----------+----------+------------+------------+-------------+--------+----------+---------------------+--------------+--------------------------+------------+-------------+------------+---------+\n",
      "only showing top 20 rows\n",
      "\n"
     ]
    }
   ],
   "source": [
    "df.show()"
   ]
  },
  {
   "cell_type": "code",
   "execution_count": 47,
   "metadata": {},
   "outputs": [],
   "source": [
    "df.createOrReplaceTempView('SelectedDF')"
   ]
  },
  {
   "cell_type": "markdown",
   "metadata": {},
   "source": [
    "### only include start_date & end_date is in the fiscal_year + period_month = 12"
   ]
  },
  {
   "cell_type": "code",
   "execution_count": 48,
   "metadata": {},
   "outputs": [],
   "source": [
    "temp = spark.sql('''\n",
    "    SELECT *\n",
    "    FROM SelectedDF\n",
    "    WHERE (YEAR(start_date) = document_fiscal_year_focus)\n",
    "    AND (period_month = 12)\n",
    "''')"
   ]
  },
  {
   "cell_type": "code",
   "execution_count": 49,
   "metadata": {},
   "outputs": [],
   "source": [
    "temp.createOrReplaceTempView('SelectedDF2')"
   ]
  },
  {
   "cell_type": "markdown",
   "metadata": {},
   "source": [
    "### pivot the table"
   ]
  },
  {
   "cell_type": "code",
   "execution_count": 62,
   "metadata": {},
   "outputs": [
    {
     "name": "stdout",
     "output_type": "stream",
     "text": [
      "+-------+--------------------+------------+--------------------------+----------+----------+--------------------------+---------------+--------------+---------------------+-----------------------+-----------------------------+-------------------------------+---------------+---------------------------------+------------------------------------+------------------------------------+-----------------------------+----------------------+------------------------------------------+--------------------------------------------------------------+------------------------------------------+--------------------------------------------------------------+------------------------------------------+--------------------------------------------------------------+-------------+-----------------+-------------------+----------------------------------+-------------------+------------------------------+------------------------+--------------------------------------------+------------------------------------------+------------------------+-----------------------------+----------+--------------------------+----------------------+\n",
      "|    cik|        company_name|assigned_sic|document_fiscal_year_focus|start_date|  end_date|CostOfGoodsAndServicesSold|CostOfGoodsSold|CostOfServices|EarningsPerShareBasic|EarningsPerShareDiluted|GainLossOnDispositionOfAssets|GeneralAndAdministrativeExpense|IncomeTaxesPaid|IncreaseDecreaseInAccountsPayable|IncreaseDecreaseInAccountsReceivable|IncreaseDecreaseInAccruedLiabilities|IncreaseDecreaseInInventories|LaborAndRelatedExpense|NetCashProvidedByUsedInFinancingActivities|NetCashProvidedByUsedInFinancingActivitiesContinuingOperations|NetCashProvidedByUsedInInvestingActivities|NetCashProvidedByUsedInInvestingActivitiesContinuingOperations|NetCashProvidedByUsedInOperatingActivities|NetCashProvidedByUsedInOperatingActivitiesContinuingOperations|NetIncomeLoss|OperatingExpenses|OperatingIncomeLoss|PaymentsForRepurchaseOfCommonStock|PaymentsOfDividends|PaymentsOfDividendsCommonStock|PaymentsOfFinancingCosts|PaymentsToAcquireBusinessesNetOfCashAcquired|PaymentsToAcquirePropertyPlantAndEquipment|RepaymentsOfLongTermDebt|ResearchAndDevelopmentExpense|  Revenues|SellingAndMarketingExpense|ShareBasedCompensation|\n",
      "+-------+--------------------+------------+--------------------------+----------+----------+--------------------------+---------------+--------------+---------------------+-----------------------+-----------------------------+-------------------------------+---------------+---------------------------------+------------------------------------+------------------------------------+-----------------------------+----------------------+------------------------------------------+--------------------------------------------------------------+------------------------------------------+--------------------------------------------------------------+------------------------------------------+--------------------------------------------------------------+-------------+-----------------+-------------------+----------------------------------+-------------------+------------------------------+------------------------+--------------------------------------------+------------------------------------------+------------------------+-----------------------------+----------+--------------------------+----------------------+\n",
      "| 106535|     WEYERHAEUSER CO|        6798|                      2018|2018-01-01|2018-12-31|                   5.592E9|           null|          null|                 0.99|                   0.99|                         null|                         3.18E8|           null|                             null|                                null|                                null|                        1.4E7|                  null|                                  -1.162E9|                                                          null|                                    -4.4E8|                                                          null|                                   1.112E9|                                                          null|       7.48E8|             null|            1.394E9|                            3.66E8|               null|                        9.95E8|                    null|                                        null|                                    3.68E8|                    null|                         null|   7.476E9|                      null|                 4.2E7|\n",
      "|  87347|SCHLUMBERGER LIMI...|        1389|                      2012|2012-01-01|2012-12-31|                 3.3056E10|           null|          null|                 4.13|                    4.1|                         null|                         4.05E8|           null|                             null|                                null|                                null|                       6.43E8|                  null|                                   -3.39E8|                                                          null|                                  -7.174E9|                                                          null|                                   6.814E9|                                                          null|       5.49E9|             null|               null|                              null|            1.432E9|                          null|                    null|                                        null|                                   4.695E9|                 1.817E9|                      1.168E9| 4.2149E10|                      null|                3.35E8|\n",
      "|1306830|       CELANESE CORP|        2820|                      2018|2018-01-01|2018-12-31|                   5.183E9|           null|          null|                 8.99|                   8.91|                   -5000000.0|                           null|           null|                            1.5E7|                                null|                                null|                       1.58E8|                  null|                                  -1.165E9|                                                          null|                                   -5.07E8|                                                          null|                                   1.558E9|                                                          null|      1.207E9|             null|            1.334E9|                            8.05E8|               null|                         2.8E8|                    null|                                        null|                                    3.37E8|                  5.36E8|                        7.2E7|      null|                      null|                 7.1E7|\n",
      "|1101239|         EQUINIX INC|        6798|                      2011|2011-01-01|2011-12-31|                      null|           null|          null|                 1.76|                   1.72|                         null|                      2.65932E8|      9157000.0|                             null|                            2.3061E7|                                null|                         null|                  null|                                 7.48728E8|                                                          null|                               -1.499444E9|                                                          null|                                 5.87609E8|                                                          null|     9.4004E7|             null|          3.07163E8|                          8.6666E7|               null|                          null|                    null|                                        null|                                      null|                    null|                         null|1.606842E9|                 1.59091E8|              7.1532E7|\n",
      "| 816761|  TERADATA CORP /DE/|        7372|                      2013|2013-01-01|2013-12-31|                      null|         4.33E8|        7.86E8|                 2.31|                   2.27|                         null|                           null|         1.24E8|                             null|                                null|                                null|                    9000000.0|                  null|                                   -3.62E8|                                                          null|                                   -1.74E8|                                                          null|                                     5.1E8|                                                          null|       3.77E8|             null|             5.32E8|                            3.82E8|               null|                          null|                    null|                                        null|                                     6.0E7|                   1.5E7|                       1.84E8|   2.692E9|                      null|                 4.9E7|\n",
      "| 749647|        CELSION CORP|        2834|                      2014|2014-01-01|2014-12-31|                      null|           null|          null|                 null|                   null|                         null|                      8860549.0|           null|                        1764563.0|                                null|                                null|                         null|                  null|                                      null|                                                          null|                                 9543477.0|                                                          null|                               -2.135302E7|                                                          null| -2.5494273E7|      2.5215194E7|       -2.4715194E7|                              null|               null|                          null|                    null|                                   2820649.0|                                  672256.0|                    null|                  1.4969382E7|      null|                      null|             2585132.0|\n",
      "| 914156|UFP TECHNOLOGIES INC|        3086|                      2014|2014-01-01|2014-12-31|                      null|      1.02427E8|          null|                 1.08|                   1.05|                      -5000.0|                           null|           null|                        2317000.0|                                null|                          -2243000.0|                    1845000.0|                  null|                                      null|                                                    -1053000.0|                                      null|                                                     -1.3324E7|                                      null|                                                      1.1126E7|         null|             null|           1.1561E7|                              null|               null|                          null|                    null|                                        null|                                  1.3436E7|                977000.0|                         null|      null|                      null|             1119000.0|\n",
      "| 918581|           CIBER INC|        7371|                      2012|2012-01-01|2012-12-31|                      null|           null|          null|                 null|                   null|                         null|                           null|           null|                       -4848000.0|                            1.5987E7|                                null|                         null|                  null|                                      null|                                                     -4.2956E7|                                  3.4511E7|                                                    -3262000.0|                                -1677000.0|                                                     1304000.0|    -1.4627E7|             null|           1.4392E7|                              null|               null|                          null|               3389000.0|                                        null|                                 3262000.0|               3.77617E8|                         null| 8.84438E8|                      null|             7282000.0|\n",
      "|1504008|    BANKUNITED, INC.|        6035|                      2013|2013-01-01|2013-12-31|                      null|           null|          null|                 2.03|                   2.01|                         null|                           null|       9.7631E7|                             null|                                null|                                null|                         null|             1.73763E8|                                2.431487E9|                                                          null|                               -2.606984E9|                                                          null|                                 -6.7107E7|                                                          null|    2.08936E8|             null|               null|                              null|               null|                      6.5225E7|                    null|                                        null|                                  2.2079E7|                    null|                         null|      null|                      null|              1.3429E7|\n",
      "| 842183|          RPT REALTY|        6798|                      2016|2016-01-01|2016-12-31|                      null|           null|          null|                 null|                   null|                         null|                           null|           null|                             null|                                null|                                null|                         null|                  null|                                -1.27903E8|                                                          null|                                 7746000.0|                                                          null|                                 1.17095E8|                                                          null|         null|             null|               null|                              null|               null|                       6.771E7|                698000.0|                                        null|                                      null|                    null|                         null|      null|                      null|             2861000.0|\n",
      "| 102212|UNIVEST FINANCIAL...|        6022|                      2013|2013-01-01|2013-12-31|                      null|           null|          null|                 1.28|                   1.27|                      -6000.0|                           null|           null|                             null|                                null|                                null|                         null|              3.9522E7|                                -1.20154E8|                                                          null|                                  2.1595E7|                                                          null|                                  3.2806E7|                                                          null|     2.1189E7|             null|               null|                          1.2012E7|               null|                      1.0029E7|                    null|                                   2170000.0|                                      null|                    null|                         null|      null|                      null|              978000.0|\n",
      "|1559998|GAUCHO GROUP HOLD...|        6552|                      2016|2016-01-01|2016-12-31|                 1760451.0|           null|          null|                 null|                   null|                         null|                      6107016.0|           null|                             null|                            339739.0|                                null|                     246391.0|                  null|                                 7055735.0|                                                          null|                                 -548834.0|                                                          null|                                -6469560.0|                                                          null| -1.0042141E7|        6326495.0|         -6560871.0|                              null|               null|                          null|                    null|                                        null|                                  548834.0|                    null|                         null|      null|                  154626.0|                  null|\n",
      "| 890465|NPS PHARMACEUTICA...|        2836|                      2014|2014-01-01|2014-12-31|                      null|       1.4648E7|          null|                -0.08|                  -0.08|                          0.0|                           null|       270000.0|                             null|                           7713000.0|                                null|                     898000.0|                  null|                                      null|                                                     8430000.0|                                      null|                                                      2.4298E7|                                      null|                                                      -1.671E7|   -8705000.0|        2.04364E8|          5050000.0|                              null|               null|                          null|                    null|                                        null|                                      null|                    null|                     9.0109E7| 2.24062E8|                      null|                  null|\n",
      "|1329394|SILICON MOTION TE...|        3674|                      2015|2015-01-01|2015-12-31|                      null|      1.76765E8|          null|                 0.44|                   0.43|                         null|                       1.5714E7|       2.0494E7|                             null|                                null|                                null|                     410000.0|                  null|                                      null|                                                     -2.0271E7|                                      null|                                                     -5.8414E7|                                      null|                                                      6.5946E7|     6.0251E7|        1.08099E8|           7.6433E7|                              null|           2.0765E7|                          null|                    null|                                    3.0287E7|                                  2.3664E7|                    null|                     7.1161E7|      null|                  2.0173E7|              1.0418E7|\n",
      "|1316835|BUILDERS FIRSTSOU...|        5211|                      2015|2015-01-01|2015-12-31|                      null|           null|          null|                 null|                   null|                         null|                           null|           null|                             null|                                null|                            2.9709E7|                    -4.6854E7|                  null|                                1.378303E9|                                                          null|                               -1.508047E9|                                                          null|                                 1.77034E8|                                                          null|    -2.2831E7|             null|               null|                              null|               null|                          null|                5.8525E7|                                  1.468511E9|                                  4.3811E7|                    null|                         null|      null|                      null|             6848000.0|\n",
      "|  99070|TRANSCANADA PIPEL...|        4922|                      2012|2012-01-01|2012-12-31|                      null|           null|          null|                 null|                   null|                         null|                           null|           null|                             null|                                null|                                null|                         null|                  null|                                      null|                                                       -3.67E8|                                      null|                                                      -3.256E9|                                      null|                                                       3.546E9|       1.36E9|             null|               null|                              null|               null|                          null|                    null|                                      2.14E8|                                   2.595E9|                   9.8E8|                         null|      null|                      null|                  null|\n",
      "| 904163|AMERICAN NATIONAL...|        6311|                      2011|2011-01-01|2011-12-31|                      null|           null|          null|                 7.24|                    7.2|                         null|                           null|           null|                             null|                                null|                                null|                         null|                  null|                                 5.46092E8|                                                          null|                                -9.68366E8|                                                          null|                                 4.22939E8|                                                          null|    1.92248E8|             null|               null|                              null|               null|                      8.2609E7|                    null|                                        null|                                  1.7588E7|                    null|                         null|3.023027E9|                      null|                  null|\n",
      "|1325676|CERES TACTICAL CO...|        6221|                      2016|2016-01-01|2016-12-31|                      null|           null|          null|                 null|                   null|                         null|                           null|           null|                             null|                                null|                                null|                         null|                  null|                                      null|                                                          null|                                      null|                                                          null|                                      null|                                                          null|    6374655.0|        7857986.0|               null|                              null|               null|                          null|                    null|                                        null|                                      null|                    null|                         null|      null|                      null|                  null|\n",
      "|1572386|GREENWAY TECHNOLO...|        2090|                      2014|2014-01-01|2014-12-31|                   54696.0|           null|          null|                 null|                   null|                         null|                      2092746.0|           null|                             null|                                null|                            262332.0|                         null|                  null|                                 1049855.0|                                                          null|                                      null|                                                          null|                                 -968641.0|                                                          null|   -2685346.0|        2430096.0|         -2460211.0|                              null|               null|                          null|                    null|                                        null|                                      null|                    null|                     218000.0|      null|                      null|                  null|\n",
      "|1527102|HOME TREASURE FIN...|        7389|                      2014|2014-01-01|2014-12-31|                      null|           null|          null|                 null|                   null|                         null|                       244510.0|           null|                           3151.0|                                null|                             23908.0|                         null|                  null|                                  991272.0|                                                          null|                                 -875925.0|                                                          null|                                  -92704.0|                                                          null|    -139482.0|         321346.0|          -131956.0|                              null|               null|                          null|                    null|                                        null|                                      null|                  2078.0|                         null|  189390.0|                      null|                  null|\n",
      "+-------+--------------------+------------+--------------------------+----------+----------+--------------------------+---------------+--------------+---------------------+-----------------------+-----------------------------+-------------------------------+---------------+---------------------------------+------------------------------------+------------------------------------+-----------------------------+----------------------+------------------------------------------+--------------------------------------------------------------+------------------------------------------+--------------------------------------------------------------+------------------------------------------+--------------------------------------------------------------+-------------+-----------------+-------------------+----------------------------------+-------------------+------------------------------+------------------------+--------------------------------------------+------------------------------------------+------------------------+-----------------------------+----------+--------------------------+----------------------+\n",
      "only showing top 20 rows\n",
      "\n"
     ]
    }
   ],
   "source": [
    "from pyspark.sql import functions as F\n",
    "transDF = temp.groupby([\"cik\",\"company_name\",\"assigned_sic\",\n",
    "                        \"document_fiscal_year_focus\",\"start_date\",\"end_date\"])\\\n",
    "    .pivot(\"datapoint_name\")\\\n",
    "    .agg(F.mean(\"numeric_value\"))\n",
    "\n",
    "transDF.show()"
   ]
  },
  {
   "cell_type": "code",
   "execution_count": 63,
   "metadata": {},
   "outputs": [
    {
     "data": {
      "text/plain": [
       "41781"
      ]
     },
     "execution_count": 63,
     "metadata": {},
     "output_type": "execute_result"
    }
   ],
   "source": [
    "transDF.count()"
   ]
  },
  {
   "cell_type": "markdown",
   "metadata": {},
   "source": [
    "### count # of records not null for each column"
   ]
  },
  {
   "cell_type": "code",
   "execution_count": 64,
   "metadata": {},
   "outputs": [
    {
     "name": "stdout",
     "output_type": "stream",
     "text": [
      "+-----+------------+------------+--------------------------+----------+--------+--------------------------+---------------+--------------+---------------------+-----------------------+-----------------------------+-------------------------------+---------------+---------------------------------+------------------------------------+------------------------------------+-----------------------------+----------------------+------------------------------------------+--------------------------------------------------------------+------------------------------------------+--------------------------------------------------------------+------------------------------------------+--------------------------------------------------------------+-------------+-----------------+-------------------+----------------------------------+-------------------+------------------------------+------------------------+--------------------------------------------+------------------------------------------+------------------------+-----------------------------+--------+--------------------------+----------------------+\n",
      "|  cik|company_name|assigned_sic|document_fiscal_year_focus|start_date|end_date|CostOfGoodsAndServicesSold|CostOfGoodsSold|CostOfServices|EarningsPerShareBasic|EarningsPerShareDiluted|GainLossOnDispositionOfAssets|GeneralAndAdministrativeExpense|IncomeTaxesPaid|IncreaseDecreaseInAccountsPayable|IncreaseDecreaseInAccountsReceivable|IncreaseDecreaseInAccruedLiabilities|IncreaseDecreaseInInventories|LaborAndRelatedExpense|NetCashProvidedByUsedInFinancingActivities|NetCashProvidedByUsedInFinancingActivitiesContinuingOperations|NetCashProvidedByUsedInInvestingActivities|NetCashProvidedByUsedInInvestingActivitiesContinuingOperations|NetCashProvidedByUsedInOperatingActivities|NetCashProvidedByUsedInOperatingActivitiesContinuingOperations|NetIncomeLoss|OperatingExpenses|OperatingIncomeLoss|PaymentsForRepurchaseOfCommonStock|PaymentsOfDividends|PaymentsOfDividendsCommonStock|PaymentsOfFinancingCosts|PaymentsToAcquireBusinessesNetOfCashAcquired|PaymentsToAcquirePropertyPlantAndEquipment|RepaymentsOfLongTermDebt|ResearchAndDevelopmentExpense|Revenues|SellingAndMarketingExpense|ShareBasedCompensation|\n",
      "+-----+------------+------------+--------------------------+----------+--------+--------------------------+---------------+--------------+---------------------+-----------------------+-----------------------------+-------------------------------+---------------+---------------------------------+------------------------------------+------------------------------------+-----------------------------+----------------------+------------------------------------------+--------------------------------------------------------------+------------------------------------------+--------------------------------------------------------------+------------------------------------------+--------------------------------------------------------------+-------------+-----------------+-------------------+----------------------------------+-------------------+------------------------------+------------------------+--------------------------------------------+------------------------------------------+------------------------+-----------------------------+--------+--------------------------+----------------------+\n",
      "|41781|       41781|       41770|                     41781|     41781|   41781|                      4087|           5718|          2350|                18683|                  17957|                         3546|                          15326|          10616|                            15441|                               19994|                                9399|                        15556|                  5532|                                     29328|                                                         10682|                                     27260|                                                         10650|                                     30592|                                                         11849|        34741|            14982|              23646|                             11051|               5185|                          7874|                    4093|                                        7665|                                     24827|                    9337|                         7709|   13139|                      3958|                 26577|\n",
      "+-----+------------+------------+--------------------------+----------+--------+--------------------------+---------------+--------------+---------------------+-----------------------+-----------------------------+-------------------------------+---------------+---------------------------------+------------------------------------+------------------------------------+-----------------------------+----------------------+------------------------------------------+--------------------------------------------------------------+------------------------------------------+--------------------------------------------------------------+------------------------------------------+--------------------------------------------------------------+-------------+-----------------+-------------------+----------------------------------+-------------------+------------------------------+------------------------+--------------------------------------------+------------------------------------------+------------------------+-----------------------------+--------+--------------------------+----------------------+\n",
      "\n"
     ]
    }
   ],
   "source": [
    "from pyspark.sql.functions import col, count, isnan, lit, sum\n",
    "def count_not_null(c, nan_as_null=False):\n",
    "    \"\"\"Use conversion between boolean and integer\n",
    "    - False -> 0\n",
    "    - True ->  1\n",
    "    \"\"\"\n",
    "    pred = col(c).isNotNull() & (~isnan(c) if nan_as_null else lit(True))\n",
    "    return sum(pred.cast(\"integer\")).alias(c)\n",
    "transDF.agg(*[count_not_null(c) for c in transDF.columns]).show()"
   ]
  },
  {
   "cell_type": "code",
   "execution_count": 65,
   "metadata": {},
   "outputs": [],
   "source": [
    "transDF.createOrReplaceTempView('transDF')"
   ]
  },
  {
   "cell_type": "code",
   "execution_count": 2,
   "metadata": {},
   "outputs": [],
   "source": [
    "### discover bad cases for still containing duplication"
   ]
  },
  {
   "cell_type": "code",
   "execution_count": 66,
   "metadata": {},
   "outputs": [
    {
     "name": "stdout",
     "output_type": "stream",
     "text": [
      "+--------------------+--------------------------+---+\n",
      "|        company_name|document_fiscal_year_focus|cnt|\n",
      "+--------------------+--------------------------+---+\n",
      "|        US FUEL CORP|                      2012|  2|\n",
      "|HERITAGE-CRYSTAL ...|                      2012|  2|\n",
      "|UNITED FINANCIAL ...|                      2013|  2|\n",
      "|CONNECTONE BANCOR...|                      2013|  2|\n",
      "|XENITH BANKSHARES...|                      2011|  2|\n",
      "|GRIFFIN CAPITAL E...|                      2017|  2|\n",
      "|    BBX CAPITAL CORP|                      2013|  2|\n",
      "|DOLAT VENTURES, INC.|                      2011|  2|\n",
      "|    BBX CAPITAL CORP|                      2011|  2|\n",
      "|UNITED FINANCIAL ...|                      2011|  2|\n",
      "|PANACEA GLOBAL, INC.|                      2013|  2|\n",
      "|    BBX CAPITAL CORP|                      2012|  2|\n",
      "|CHART INDUSTRIES INC|                      2018|  2|\n",
      "| SYNEOS HEALTH, INC.|                      2016|  2|\n",
      "| CENTRUS ENERGY CORP|                      2018|  2|\n",
      "|MISSION COMMUNITY...|                      2012|  2|\n",
      "|XENITH BANKSHARES...|                      2012|  2|\n",
      "|GIGGLES N' HUGS, ...|                      2013|  2|\n",
      "|WASTE CONNECTIONS...|                      2014|  2|\n",
      "|     SOUTHERN CO GAS|                      2013|  2|\n",
      "+--------------------+--------------------------+---+\n",
      "only showing top 20 rows\n",
      "\n"
     ]
    }
   ],
   "source": [
    "spark.sql('''\n",
    "select \n",
    "company_name,\n",
    "document_fiscal_year_focus,\n",
    "cnt\n",
    "from\n",
    "    (SELECT company_name,\n",
    "    document_fiscal_year_focus,\n",
    "    count(*) as cnt\n",
    "    FROM transDF\n",
    "    group by company_name,document_fiscal_year_focus) as a\n",
    "where a.cnt >=2\n",
    "''').show()"
   ]
  },
  {
   "cell_type": "code",
   "execution_count": 69,
   "metadata": {},
   "outputs": [
    {
     "name": "stdout",
     "output_type": "stream",
     "text": [
      "+-------+------------+------------+--------------------------+----------+----------+--------------------------+---------------+--------------+---------------------+-----------------------+-----------------------------+-------------------------------+---------------+---------------------------------+------------------------------------+------------------------------------+-----------------------------+----------------------+------------------------------------------+--------------------------------------------------------------+------------------------------------------+--------------------------------------------------------------+------------------------------------------+--------------------------------------------------------------+-------------+-----------------+-------------------+----------------------------------+-------------------+------------------------------+------------------------+--------------------------------------------+------------------------------------------+------------------------+-----------------------------+--------+--------------------------+----------------------+\n",
      "|    cik|company_name|assigned_sic|document_fiscal_year_focus|start_date|  end_date|CostOfGoodsAndServicesSold|CostOfGoodsSold|CostOfServices|EarningsPerShareBasic|EarningsPerShareDiluted|GainLossOnDispositionOfAssets|GeneralAndAdministrativeExpense|IncomeTaxesPaid|IncreaseDecreaseInAccountsPayable|IncreaseDecreaseInAccountsReceivable|IncreaseDecreaseInAccruedLiabilities|IncreaseDecreaseInInventories|LaborAndRelatedExpense|NetCashProvidedByUsedInFinancingActivities|NetCashProvidedByUsedInFinancingActivitiesContinuingOperations|NetCashProvidedByUsedInInvestingActivities|NetCashProvidedByUsedInInvestingActivitiesContinuingOperations|NetCashProvidedByUsedInOperatingActivities|NetCashProvidedByUsedInOperatingActivitiesContinuingOperations|NetIncomeLoss|OperatingExpenses|OperatingIncomeLoss|PaymentsForRepurchaseOfCommonStock|PaymentsOfDividends|PaymentsOfDividendsCommonStock|PaymentsOfFinancingCosts|PaymentsToAcquireBusinessesNetOfCashAcquired|PaymentsToAcquirePropertyPlantAndEquipment|RepaymentsOfLongTermDebt|ResearchAndDevelopmentExpense|Revenues|SellingAndMarketingExpense|ShareBasedCompensation|\n",
      "+-------+------------+------------+--------------------------+----------+----------+--------------------------+---------------+--------------+---------------------+-----------------------+-----------------------------+-------------------------------+---------------+---------------------------------+------------------------------------+------------------------------------+-----------------------------+----------------------+------------------------------------------+--------------------------------------------------------------+------------------------------------------+--------------------------------------------------------------+------------------------------------------+--------------------------------------------------------------+-------------+-----------------+-------------------+----------------------------------+-------------------+------------------------------+------------------------+--------------------------------------------+------------------------------------------+------------------------+-----------------------------+--------+--------------------------+----------------------+\n",
      "|1116112|US FUEL CORP|        2911|                      2012|2012-01-01|2012-12-31|                      null|           null|          null|                 null|                   null|                         null|                      9923957.0|            0.0|                             null|                                null|                                null|                         null|                  null|                                    6250.0|                                                          null|                                       0.0|                                                          null|                                       0.0|                                                          null|         null|             null|               null|                              null|               null|                          null|                    null|                                        null|                                       0.0|                    null|                         null|     0.0|                      null|                  null|\n",
      "|1116112|US FUEL CORP|        2911|                      2012|2012-01-02|2012-12-31|                      null|           null|          null|                 null|                   null|                         null|                           null|           null|                             null|                                null|                                null|                         null|                  null|                                      null|                                                          null|                                      null|                                                          null|                                      null|                                                          null| -1.0006558E7|        9926651.0|         -9926651.0|                              null|               null|                          null|                    null|                                        null|                                      null|                    null|                         null|    null|                      null|             8971615.0|\n",
      "+-------+------------+------------+--------------------------+----------+----------+--------------------------+---------------+--------------+---------------------+-----------------------+-----------------------------+-------------------------------+---------------+---------------------------------+------------------------------------+------------------------------------+-----------------------------+----------------------+------------------------------------------+--------------------------------------------------------------+------------------------------------------+--------------------------------------------------------------+------------------------------------------+--------------------------------------------------------------+-------------+-----------------+-------------------+----------------------------------+-------------------+------------------------------+------------------------+--------------------------------------------+------------------------------------------+------------------------+-----------------------------+--------+--------------------------+----------------------+\n",
      "\n"
     ]
    }
   ],
   "source": [
    "a = spark.sql('''\n",
    "    SELECT *\n",
    "    FROM transDF\n",
    "    WHERE document_fiscal_year_focus=2012\n",
    "    AND company_name like '%US FUEL%'\n",
    "''')\n",
    "a.show()"
   ]
  },
  {
   "cell_type": "code",
   "execution_count": 80,
   "metadata": {},
   "outputs": [
    {
     "name": "stdout",
     "output_type": "stream",
     "text": [
      "+--------------------+------------+--------------------------+--------------------------+---------------+--------------+---------------------+-----------------------+-----------------------------+-------------------------------+---------------+---------------------------------+------------------------------------+------------------------------------+-----------------------------+----------------------+------------------------------------------+--------------------------------------------------------------+------------------------------------------+--------------------------------------------------------------+------------------------------------------+--------------------------------------------------------------+-------------+-----------------+-------------------+----------------------------------+-------------------+------------------------------+------------------------+--------------------------------------------+------------------------------------------+------------------------+-----------------------------+-----------+--------------------------+----------------------+\n",
      "|        company_name|assigned_sic|document_fiscal_year_focus|CostOfGoodsAndServicesSold|CostOfGoodsSold|CostOfServices|EarningsPerShareBasic|EarningsPerShareDiluted|GainLossOnDispositionOfAssets|GeneralAndAdministrativeExpense|IncomeTaxesPaid|IncreaseDecreaseInAccountsPayable|IncreaseDecreaseInAccountsReceivable|IncreaseDecreaseInAccruedLiabilities|IncreaseDecreaseInInventories|LaborAndRelatedExpense|NetCashProvidedByUsedInFinancingActivities|NetCashProvidedByUsedInFinancingActivitiesContinuingOperations|NetCashProvidedByUsedInInvestingActivities|NetCashProvidedByUsedInInvestingActivitiesContinuingOperations|NetCashProvidedByUsedInOperatingActivities|NetCashProvidedByUsedInOperatingActivitiesContinuingOperations|NetIncomeLoss|OperatingExpenses|OperatingIncomeLoss|PaymentsForRepurchaseOfCommonStock|PaymentsOfDividends|PaymentsOfDividendsCommonStock|PaymentsOfFinancingCosts|PaymentsToAcquireBusinessesNetOfCashAcquired|PaymentsToAcquirePropertyPlantAndEquipment|RepaymentsOfLongTermDebt|ResearchAndDevelopmentExpense|   Revenues|SellingAndMarketingExpense|ShareBasedCompensation|\n",
      "+--------------------+------------+--------------------------+--------------------------+---------------+--------------+---------------------+-----------------------+-----------------------------+-------------------------------+---------------+---------------------------------+------------------------------------+------------------------------------+-----------------------------+----------------------+------------------------------------------+--------------------------------------------------------------+------------------------------------------+--------------------------------------------------------------+------------------------------------------+--------------------------------------------------------------+-------------+-----------------+-------------------+----------------------------------+-------------------+------------------------------+------------------------+--------------------------------------------+------------------------------------------+------------------------+-----------------------------+-----------+--------------------------+----------------------+\n",
      "|MDU RESOURCES GRO...|        1400|                      2018|                      null|           null|          null|                 1.39|                   1.39|                         null|                           null|           null|                         2.1109E7|                                null|                                null|                     4.6796E7|                  null|                                 2.30376E8|                                                     2.30376E8|                                -7.10907E8|                                                    -7.12143E8|                                 4.99881E8|                                                     5.03823E8|         null|       4.129829E9|          4.01723E8|                              null|          1.54573E8|                          null|                    null|                                   1.67692E8|                                      null|                1.7452E8|                         null| 4.531552E9|                      null|                  null|\n",
      "|LA QUINTA HOLDING...|        7011|                      2014|                      null|           null|          null|                 null|                   null|                         null|                      1.42636E8|           null|                       -9494000.0|                           2853000.0|                            1.5693E7|                         null|                  null|                                      null|                                                    -1.65521E8|                                      null|                                                     -4.4116E7|                                      null|                                                     2.86082E8|   -3.37297E8|        8.40269E8|          1.36669E8|                              null|               null|                          null|                    null|                                        null|                                   7.863E7|                    null|                         null|  9.76938E8|                      null|              5.7983E7|\n",
      "|TOA DISTRIBUTION ...|        1000|                      2013|                      null|           null|          null|                 null|                   null|                         null|                           null|           null|                          -2650.0|                                null|                                null|                         null|                  null|                                      null|                                                          null|                                      null|                                                          null|                                      null|                                                        -518.0|     -13620.0|             null|           -11472.0|                              null|               null|                          null|                    null|                                        null|                                      null|                    null|                         null|       null|                      null|                  null|\n",
      "|  COEUR MINING, INC.|        1040|                      2012|                      null|           null|          null|                 null|                   null|                    1101000.0|                           null|           null|                             null|                                null|                                null|                     4.8305E7|                  null|                                -1.88091E8|                                                          null|                                -1.33115E8|                                                          null|                                 2.71634E8|                                                          null|     4.8677E7|             null|               null|                          1.9971E7|               null|                          null|                    null|                                        null|                                      null|                    null|                         null|       null|                      null|             8010000.0|\n",
      "|STURM RUGER & CO INC|        3480|                      2014|                      null|           null|          null|                 null|                   null|                         null|                           null|           null|                             null|                           -1.7649E7|                                null|                     2.2775E7|                  null|                                 -5.6167E7|                                                          null|                                 -4.5547E7|                                                          null|                                  5.5551E7|                                                          null|     3.8628E7|             null|               null|                          2.4002E7|               null|                      3.1446E7|                    null|                                        null|                                  4.5571E7|                    null|                         null|       null|                      null|             5647000.0|\n",
      "|      VERIFYME, INC.|        6794|                      2014|                      null|       113024.0|          null|                -0.03|                  -0.03|                         null|                       811916.0|            0.0|                             null|                             -3573.0|                                null|                      63089.0|                  null|                                      null|                                                      798000.0|                                      null|                                                          null|                                      null|                                                    -2020017.0|   -7918495.0|      1.3576909E7|       -1.3565335E7|                              null|               null|                          null|                    null|                                        null|                                      null|                    null|                  1.0590271E7|       null|                  218443.0|                  null|\n",
      "|        BEMIS CO INC|        2670|                      2013|                      null|       4.0577E9|          null|                 2.06|                   2.04|                         null|                           null|           null|                          -1.02E7|                           7600000.0|                                null|                    -400000.0|                  null|                                      null|                                                      -1.847E8|                                      null|                                                      -1.558E8|                                      null|                                                       3.732E8|      2.126E8|             null|            3.806E8|                            7.73E7|               null|                       1.075E8|                    null|                                      5.97E7|                                   1.398E8|                    null|                        4.6E7|       null|                      null|                1.64E7|\n",
      "|CONSOLIDATED EDIS...|        4931|                      2017|                      null|           null|          null|                 4.97|                   4.94|                         null|                           null|           null|                            9.5E7|                           6000000.0|                                null|                   -5000000.0|                  null|                                    3.57E8|                                                          null|                                  -3.703E9|                                                          null|                                   3.367E9|                                                          null|      1.525E9|          9.424E9|             2.61E9|                              null|               null|                        8.03E8|                    null|                                        null|                                    4.15E8|                  4.34E8|                         null|  1.2033E10|                      null|                  null|\n",
      "|CIM COMMERCIAL TR...|        6798|                      2012|                      null|           null|          null|                 null|                   null|                         null|                      2127000.0|           null|                             null|                                null|                                null|                         null|             4273000.0|                                -6306000.0|                                                          null|                                 2809000.0|                                                          null|                                -1775000.0|                                                          null|   -2179000.0|         1.7856E7|               null|                              null|               null|                     6752000.0|                    null|                                        null|                                   33000.0|                    null|                         null|   1.7065E7|                      null|              138000.0|\n",
      "| SILGAN HOLDINGS INC|        3411|                      2016|                      null|     3.079378E9|          null|                 2.56|                   2.55|                         null|                           null|           null|                             null|                            1.0867E7|                           -2.0145E7|                     -1.996E7|                  null|                                -2.89468E8|                                                          null|                                -1.80338E8|                                                          null|                                 3.94551E8|                                                          null|         null|             null|           2.9973E8|                         2.77306E8|               null|                      4.0877E7|                    null|                                        null|                                 1.91893E8|                6.7412E7|                         null|       null|                      null|              1.3018E7|\n",
      "|         VIRTRA, INC|        7900|                      2017|                      null|      6290879.0|          null|                 0.41|                   0.39|                         null|                      7641765.0|           null|                             null|                          -1766716.0|                                null|                     400494.0|                  null|                                -1141404.0|                                                          null|                                 -133831.0|                                                          null|                                 2652101.0|                                                          null|    3262282.0|        8926829.0|          1306517.0|                              null|               null|                          null|                    null|                                        null|                                  133831.0|                    null|                    1285064.0|1.6524225E7|                      null|              167475.0|\n",
      "|       ACTAVIS, INC.|        2834|                      2012|                      null|       3.3904E9|          null|                 0.77|                   0.76|                         null|                        6.248E8|           null|                             null|                            -3.711E8|                                null|                    6200000.0|                  null|                                  5.1896E9|                                                          null|                                  -5.749E9|                                                          null|                                   6.658E8|                                                          null|       9.73E7|             null|            3.208E8|                            1.61E7|               null|                          null|                    null|                                    5.7428E9|                                   1.375E8|                    null|                      4.018E8|       null|                   5.465E8|                4.88E7|\n",
      "|    FUTURELAND CORP.|        5900|                      2016|                      null|           null|          null|                 null|                   null|                         null|                          254.0|           null|                             null|                                null|                                null|                         null|                  null|                                  -13360.0|                                                          null|                                 -394091.0|                                                          null|                                   19284.0|                                                          null|   -2637228.0|            254.0|             -254.0|                              null|               null|                          null|                    null|                                        null|                                      null|                    null|                         null|       null|                      null|                  null|\n",
      "|NTELOS HOLDINGS C...|        4813|                      2010|                 1.74975E8|           null|          null|                 1.08|                   1.07|                         null|                           null|           null|                       -5194000.0|                           2961000.0|                                null|                   -4402000.0|                  null|                                  6.7755E7|                                                          null|                                -2.62878E8|                                                          null|                                 1.59702E8|                                                          null|     4.4808E7|        4.24548E8|          1.21136E8|                              null|               null|                      4.6582E7|                    null|                                   1.62283E8|                                  9.0693E7|               6975000.0|                         null|  5.45684E8|                      null|             5726000.0|\n",
      "|   TRIMOL GROUP INC.|        2750|                      2013|                      null|           null|          null|                 null|                   null|                         null|                       217000.0|           null|                             null|                                null|                                null|                         null|                  null|                                      null|                                                      151000.0|                                      null|                                                          null|                                      null|                                                     -154000.0|    -217000.0|             null|               null|                              null|               null|                          null|                    null|                                        null|                                      null|                    null|                         null|       null|                      null|                  null|\n",
      "|BLUEKNIGHT ENERGY...|        4610|                      2011|                      null|           null|          null|                 null|                   null|                         null|                       1.7311E7|       209000.0|                             null|                          -5320000.0|                                null|                         null|                  null|                                 -3.0123E7|                                                          null|                                  -1.064E7|                                                          null|                                  3.7162E7|                                                          null|     3.3475E7|        1.32154E8|           4.4553E7|                              null|           1.1615E7|                          null|                    null|                                        null|                                  1.7998E7|                2.8862E7|                         null|  1.76707E8|                      null|              544000.0|\n",
      "|  P&F INDUSTRIES INC|        3540|                      2012|                  3.7729E7|           null|          null|                 1.49|                   1.44|                      -2000.0|                           null|       164000.0|                        2614000.0|                            401000.0|                            975000.0|                    5485000.0|                  null|                                      null|                                                     -857000.0|                                      null|                                                    -2161000.0|                                      null|                                                     3328000.0|    5411000.0|             null|          3861000.0|                              null|               null|                          null|                    null|                                        null|                                 1969000.0|                    null|                         null|       null|                      null|              192000.0|\n",
      "|GAMING PARTNERS I...|        3944|                      2011|                      null|        4.155E7|          null|                 0.45|                   0.45|                         null|                      9971000.0|           null|                        -839000.0|                           -641000.0|                           -216000.0|                     192000.0|                  null|                                -8544000.0|                                                          null|                                  887000.0|                                                          null|                                 5716000.0|                                                          null|    3669000.0|             null|          4468000.0|                           71000.0|               null|                          null|                    null|                                        null|                                 1669000.0|                    null|                         null|       null|                 5095000.0|              205000.0|\n",
      "|DENBURY RESOURCES...|        1311|                      2012|                      null|           null|          null|                 1.36|                   1.35|                         null|                      1.44019E8|           null|                             null|                                null|                                null|                         null|                  null|                                  4.5768E7|                                                          null|                               -1.376841E9|                                                          null|                                1.410891E9|                                                          null|     5.2536E8|             null|               null|                          2.5148E8|               null|                          null|                 34000.0|                                         0.0|                                      null|                    null|                         null|       null|                      null|               2.931E7|\n",
      "|      SPAR GROUP INC|        7389|                      2015|                      null|           null|          null|                 null|                   null|                         null|                           null|       187000.0|                       -1105000.0|                          -2792000.0|                                null|                         null|                  null|                                 -659000.0|                                                          null|                                -1575000.0|                                                          null|                                 4890000.0|                                                          null|         null|             null|               null|                          109000.0|               null|                          null|                    null|                                        null|                                      null|                    null|                         null|       null|                      null|              434000.0|\n",
      "+--------------------+------------+--------------------------+--------------------------+---------------+--------------+---------------------+-----------------------+-----------------------------+-------------------------------+---------------+---------------------------------+------------------------------------+------------------------------------+-----------------------------+----------------------+------------------------------------------+--------------------------------------------------------------+------------------------------------------+--------------------------------------------------------------+------------------------------------------+--------------------------------------------------------------+-------------+-----------------+-------------------+----------------------------------+-------------------+------------------------------+------------------------+--------------------------------------------+------------------------------------------+------------------------+-----------------------------+-----------+--------------------------+----------------------+\n",
      "only showing top 20 rows\n",
      "\n"
     ]
    }
   ],
   "source": [
    "# pivot the table\n",
    "from pyspark.sql import functions as F\n",
    "transDF = temp.groupby([\"company_name\",\"assigned_sic\",\n",
    "                        \"document_fiscal_year_focus\"])\\\n",
    "    .pivot(\"datapoint_name\")\\\n",
    "    .agg(F.mean(\"numeric_value\"))\n",
    "\n",
    "transDF.show()"
   ]
  },
  {
   "cell_type": "code",
   "execution_count": 81,
   "metadata": {},
   "outputs": [
    {
     "data": {
      "text/plain": [
       "41741"
      ]
     },
     "execution_count": 81,
     "metadata": {},
     "output_type": "execute_result"
    }
   ],
   "source": [
    "transDF.count()"
   ]
  },
  {
   "cell_type": "code",
   "execution_count": 82,
   "metadata": {},
   "outputs": [
    {
     "name": "stdout",
     "output_type": "stream",
     "text": [
      "+------------+------------+--------------------------+--------------------------+---------------+--------------+---------------------+-----------------------+-----------------------------+-------------------------------+---------------+---------------------------------+------------------------------------+------------------------------------+-----------------------------+----------------------+------------------------------------------+--------------------------------------------------------------+------------------------------------------+--------------------------------------------------------------+------------------------------------------+--------------------------------------------------------------+-------------+-----------------+-------------------+----------------------------------+-------------------+------------------------------+------------------------+--------------------------------------------+------------------------------------------+------------------------+-----------------------------+--------+--------------------------+----------------------+\n",
      "|company_name|assigned_sic|document_fiscal_year_focus|CostOfGoodsAndServicesSold|CostOfGoodsSold|CostOfServices|EarningsPerShareBasic|EarningsPerShareDiluted|GainLossOnDispositionOfAssets|GeneralAndAdministrativeExpense|IncomeTaxesPaid|IncreaseDecreaseInAccountsPayable|IncreaseDecreaseInAccountsReceivable|IncreaseDecreaseInAccruedLiabilities|IncreaseDecreaseInInventories|LaborAndRelatedExpense|NetCashProvidedByUsedInFinancingActivities|NetCashProvidedByUsedInFinancingActivitiesContinuingOperations|NetCashProvidedByUsedInInvestingActivities|NetCashProvidedByUsedInInvestingActivitiesContinuingOperations|NetCashProvidedByUsedInOperatingActivities|NetCashProvidedByUsedInOperatingActivitiesContinuingOperations|NetIncomeLoss|OperatingExpenses|OperatingIncomeLoss|PaymentsForRepurchaseOfCommonStock|PaymentsOfDividends|PaymentsOfDividendsCommonStock|PaymentsOfFinancingCosts|PaymentsToAcquireBusinessesNetOfCashAcquired|PaymentsToAcquirePropertyPlantAndEquipment|RepaymentsOfLongTermDebt|ResearchAndDevelopmentExpense|Revenues|SellingAndMarketingExpense|ShareBasedCompensation|\n",
      "+------------+------------+--------------------------+--------------------------+---------------+--------------+---------------------+-----------------------+-----------------------------+-------------------------------+---------------+---------------------------------+------------------------------------+------------------------------------+-----------------------------+----------------------+------------------------------------------+--------------------------------------------------------------+------------------------------------------+--------------------------------------------------------------+------------------------------------------+--------------------------------------------------------------+-------------+-----------------+-------------------+----------------------------------+-------------------+------------------------------+------------------------+--------------------------------------------+------------------------------------------+------------------------+-----------------------------+--------+--------------------------+----------------------+\n",
      "|       41740|       41729|                     41740|                      4089|           5711|          2353|                18681|                  17942|                         3536|                          15322|          10604|                            15435|                               19991|                                9393|                        15546|                  5531|                                     29284|                                                         10651|                                     27257|                                                         10640|                                     30579|                                                         11852|        34729|            14978|              23636|                             11096|               5199|                          7870|                    4081|                                        7623|                                     24842|                    9299|                         7704|   13150|                      3957|                 26579|\n",
      "+------------+------------+--------------------------+--------------------------+---------------+--------------+---------------------+-----------------------+-----------------------------+-------------------------------+---------------+---------------------------------+------------------------------------+------------------------------------+-----------------------------+----------------------+------------------------------------------+--------------------------------------------------------------+------------------------------------------+--------------------------------------------------------------+------------------------------------------+--------------------------------------------------------------+-------------+-----------------+-------------------+----------------------------------+-------------------+------------------------------+------------------------+--------------------------------------------+------------------------------------------+------------------------+-----------------------------+--------+--------------------------+----------------------+\n",
      "\n"
     ]
    }
   ],
   "source": [
    "from pyspark.sql.functions import col, count, isnan, lit, sum\n",
    "## count # of records not null for each column\n",
    "def count_not_null(c, nan_as_null=False):\n",
    "    \"\"\"Use conversion between boolean and integer\n",
    "    - False -> 0\n",
    "    - True ->  1\n",
    "    \"\"\"\n",
    "    pred = col(c).isNotNull() & (~isnan(c) if nan_as_null else lit(True))\n",
    "    return sum(pred.cast(\"integer\")).alias(c)\n",
    "transDF.agg(*[count_not_null(c) for c in transDF.columns]).show()"
   ]
  },
  {
   "cell_type": "code",
   "execution_count": 83,
   "metadata": {},
   "outputs": [],
   "source": [
    "transDF.createOrReplaceTempView('transDF')"
   ]
  },
  {
   "cell_type": "code",
   "execution_count": 84,
   "metadata": {},
   "outputs": [
    {
     "name": "stdout",
     "output_type": "stream",
     "text": [
      "+--------------------+--------------------------+---+\n",
      "|        company_name|document_fiscal_year_focus|cnt|\n",
      "+--------------------+--------------------------+---+\n",
      "|UNITED FINANCIAL ...|                      2013|  2|\n",
      "|XENITH BANKSHARES...|                      2011|  2|\n",
      "|UNITED FINANCIAL ...|                      2011|  2|\n",
      "|XENITH BANKSHARES...|                      2012|  2|\n",
      "|XENITH BANKSHARES...|                      2013|  2|\n",
      "|XENITH BANKSHARES...|                      2014|  2|\n",
      "|SPIRIT REALTY CAP...|                      2012|  2|\n",
      "|XENITH BANKSHARES...|                      2015|  2|\n",
      "|UNITED FINANCIAL ...|                      2012|  2|\n",
      "+--------------------+--------------------------+---+\n",
      "\n"
     ]
    }
   ],
   "source": [
    "spark.sql('''\n",
    "select \n",
    "company_name,\n",
    "document_fiscal_year_focus,\n",
    "cnt\n",
    "from\n",
    "    (SELECT company_name,\n",
    "    document_fiscal_year_focus,\n",
    "    count(*) as cnt\n",
    "    FROM transDF\n",
    "    group by company_name,document_fiscal_year_focus) as a\n",
    "where a.cnt >=2\n",
    "''').show()"
   ]
  },
  {
   "cell_type": "code",
   "execution_count": 86,
   "metadata": {},
   "outputs": [
    {
     "name": "stdout",
     "output_type": "stream",
     "text": [
      "+--------------------+------------+--------------------------+--------------------------+---------------+--------------+---------------------+-----------------------+-----------------------------+-------------------------------+---------------+---------------------------------+------------------------------------+------------------------------------+-----------------------------+----------------------+------------------------------------------+--------------------------------------------------------------+------------------------------------------+--------------------------------------------------------------+------------------------------------------+--------------------------------------------------------------+-------------+-----------------+-------------------+----------------------------------+-------------------+------------------------------+------------------------+--------------------------------------------+------------------------------------------+------------------------+-----------------------------+--------+--------------------------+----------------------+\n",
      "|        company_name|assigned_sic|document_fiscal_year_focus|CostOfGoodsAndServicesSold|CostOfGoodsSold|CostOfServices|EarningsPerShareBasic|EarningsPerShareDiluted|GainLossOnDispositionOfAssets|GeneralAndAdministrativeExpense|IncomeTaxesPaid|IncreaseDecreaseInAccountsPayable|IncreaseDecreaseInAccountsReceivable|IncreaseDecreaseInAccruedLiabilities|IncreaseDecreaseInInventories|LaborAndRelatedExpense|NetCashProvidedByUsedInFinancingActivities|NetCashProvidedByUsedInFinancingActivitiesContinuingOperations|NetCashProvidedByUsedInInvestingActivities|NetCashProvidedByUsedInInvestingActivitiesContinuingOperations|NetCashProvidedByUsedInOperatingActivities|NetCashProvidedByUsedInOperatingActivitiesContinuingOperations|NetIncomeLoss|OperatingExpenses|OperatingIncomeLoss|PaymentsForRepurchaseOfCommonStock|PaymentsOfDividends|PaymentsOfDividendsCommonStock|PaymentsOfFinancingCosts|PaymentsToAcquireBusinessesNetOfCashAcquired|PaymentsToAcquirePropertyPlantAndEquipment|RepaymentsOfLongTermDebt|ResearchAndDevelopmentExpense|Revenues|SellingAndMarketingExpense|ShareBasedCompensation|\n",
      "+--------------------+------------+--------------------------+--------------------------+---------------+--------------+---------------------+-----------------------+-----------------------------+-------------------------------+---------------+---------------------------------+------------------------------------+------------------------------------+-----------------------------+----------------------+------------------------------------------+--------------------------------------------------------------+------------------------------------------+--------------------------------------------------------------+------------------------------------------+--------------------------------------------------------------+-------------+-----------------+-------------------+----------------------------------+-------------------+------------------------------+------------------------+--------------------------------------------+------------------------------------------+------------------------+-----------------------------+--------+--------------------------+----------------------+\n",
      "|XENITH BANKSHARES...|        6022|                      2013|                      null|           null|          null|                 null|                   null|                         null|                           null|       295000.0|                             null|                                null|                                null|                         null|              1.1317E7|                                      null|                                                     1.15587E8|                                      null|                                                    -1.77864E8|                                      null|                                                      8.0607E7|    1986000.0|             null|               null|                          296000.0|               null|                          null|                    null|                                        null|                                      null|                    null|                         null|    null|                      null|              629000.0|\n",
      "|XENITH BANKSHARES...|        6021|                      2013|                      null|           null|          null|                 null|                   null|                     580000.0|                           null|           null|                             null|                                null|                                null|                         null|              4.1223E7|                                -1.06963E8|                                                          null|                                 -2.2701E7|                                                          null|                                  9.0748E7|                                                          null|    4076000.0|             null|               null|                            3000.0|               null|                          null|                    null|                                        null|                                 2433000.0|                    null|                         null|    null|                      null|             1080000.0|\n",
      "+--------------------+------------+--------------------------+--------------------------+---------------+--------------+---------------------+-----------------------+-----------------------------+-------------------------------+---------------+---------------------------------+------------------------------------+------------------------------------+-----------------------------+----------------------+------------------------------------------+--------------------------------------------------------------+------------------------------------------+--------------------------------------------------------------+------------------------------------------+--------------------------------------------------------------+-------------+-----------------+-------------------+----------------------------------+-------------------+------------------------------+------------------------+--------------------------------------------+------------------------------------------+------------------------+-----------------------------+--------+--------------------------+----------------------+\n",
      "\n"
     ]
    }
   ],
   "source": [
    "a = spark.sql('''\n",
    "    SELECT *\n",
    "    FROM transDF\n",
    "    WHERE document_fiscal_year_focus=2013\n",
    "    AND company_name like '%XENITH BANKSHARES%'\n",
    "''')\n",
    "a.show()"
   ]
  },
  {
   "cell_type": "markdown",
   "metadata": {},
   "source": [
    "Bad cases have different assigned_sic (identify which industry a company belongs) for the same company, this is most likely happened due to one company has two sectors which were assigned to different industries. In addition, there's only 2 cases for around 10,000 companies, so we did not apply further cleaning towards those cases."
   ]
  },
  {
   "cell_type": "code",
   "execution_count": null,
   "metadata": {},
   "outputs": [],
   "source": []
  }
 ],
 "metadata": {
  "kernelspec": {
   "display_name": "Python 3",
   "language": "python",
   "name": "python3"
  },
  "language_info": {
   "codemirror_mode": {
    "name": "ipython",
    "version": 3
   },
   "file_extension": ".py",
   "mimetype": "text/x-python",
   "name": "python",
   "nbconvert_exporter": "python",
   "pygments_lexer": "ipython3",
   "version": "3.7.6"
  }
 },
 "nbformat": 4,
 "nbformat_minor": 4
}
