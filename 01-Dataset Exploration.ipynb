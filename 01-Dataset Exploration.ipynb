{
 "cells": [
  {
   "cell_type": "code",
   "execution_count": 1,
   "metadata": {},
   "outputs": [],
   "source": [
    "import findspark\n",
    "findspark.init()"
   ]
  },
  {
   "cell_type": "code",
   "execution_count": 2,
   "metadata": {},
   "outputs": [
    {
     "data": {
      "text/html": [
       "\n",
       "            <div>\n",
       "                <p><b>SparkSession - in-memory</b></p>\n",
       "                \n",
       "        <div>\n",
       "            <p><b>SparkContext</b></p>\n",
       "\n",
       "            <p><a href=\"http://ip-172-31-25-35.ec2.internal:4040\">Spark UI</a></p>\n",
       "\n",
       "            <dl>\n",
       "              <dt>Version</dt>\n",
       "                <dd><code>v2.4.4</code></dd>\n",
       "              <dt>Master</dt>\n",
       "                <dd><code>yarn</code></dd>\n",
       "              <dt>AppName</dt>\n",
       "                <dd><code>abc</code></dd>\n",
       "            </dl>\n",
       "        </div>\n",
       "        \n",
       "            </div>\n",
       "        "
      ],
      "text/plain": [
       "<pyspark.sql.session.SparkSession at 0x7fbd6c6e74d0>"
      ]
     },
     "execution_count": 2,
     "metadata": {},
     "output_type": "execute_result"
    }
   ],
   "source": [
    "from pyspark.sql import SparkSession\n",
    "spark = SparkSession.builder.appName('abc').getOrCreate()\n",
    "spark"
   ]
  },
  {
   "cell_type": "markdown",
   "metadata": {},
   "source": [
    "## PART 1 READ IN THE DATASETS\n",
    "We have 7 datasets from the data source of U.S. Securities and Exchange Commission\n",
    "First we read in the datasets we need and parse them. The followings are the 3 main data tables we used"
   ]
  },
  {
   "cell_type": "markdown",
   "metadata": {},
   "source": [
    "### Table 1  company_submission\n",
    "#### read in and parse"
   ]
  },
  {
   "cell_type": "code",
   "execution_count": 3,
   "metadata": {},
   "outputs": [],
   "source": [
    "df1 = spark.read.csv('s3://sec-finc/t1/',header = False)"
   ]
  },
  {
   "cell_type": "code",
   "execution_count": 4,
   "metadata": {},
   "outputs": [],
   "source": [
    "from pyspark.sql.functions import split, explode,col\n",
    "col_names = ['accession_number_int','accession_number','cik','company_name',\n",
    "             'filing_date','document_type','document_period_end_date','current_fiscal_year_end_date',\n",
    "             'document_fiscal_year_focus','document_fiscal_period_focus','current_fiscal_year_end_month',\n",
    "             'amendment_flag','assigned_sic','irs_number','state_of_incorporation','mailing_address_street1',\n",
    "             'mailing_address_street2','mailing_address_city','mailing_address_state','mailing_address_zip',\n",
    "             'business_address_street1','business_address_street2','business_address_city','business_address_state',\n",
    "             'business_address_zip','mailing_phone_number','business_phone_number']\n",
    "for i in range(0,len(col_names)):\n",
    "    df1 = df1.withColumn(col_names[i], split(col(\"_c0\"), \"\\t\")[i]).cache()"
   ]
  },
  {
   "cell_type": "code",
   "execution_count": 5,
   "metadata": {},
   "outputs": [
    {
     "data": {
      "text/plain": [
       "Row(accession_number_int='147793216011396', accession_number='0001477932-16-011396', cik='1528697', company_name='BOOKEDBYUS INC.', filing_date='2016-07-15', document_type='10-Q', document_period_end_date='2016-05-31', current_fiscal_year_end_date='--08-31', document_fiscal_year_focus='2016', document_fiscal_period_focus='Q3', current_fiscal_year_end_month='8', amendment_flag='false', assigned_sic='5045', irs_number='261679929 ', state_of_incorporation='NV', mailing_address_street1='619 S. RIDGELEY DRIVE', mailing_address_street2='\\\\N', mailing_address_city='LOS ANGELES', mailing_address_state='CA', mailing_address_zip='90036', business_address_street1='619 S. RIDGELEY DRIVE', business_address_street2='\\\\N', business_address_city='LOS ANGELES', business_address_state='CA', business_address_zip='90036', mailing_phone_number='\\\\N', business_phone_number='(323) 634-10')"
      ]
     },
     "execution_count": 5,
     "metadata": {},
     "output_type": "execute_result"
    }
   ],
   "source": [
    "df1 = df1.drop('_c0')\n",
    "df1.first()"
   ]
  },
  {
   "cell_type": "code",
   "execution_count": null,
   "metadata": {},
   "outputs": [],
   "source": []
  },
  {
   "cell_type": "markdown",
   "metadata": {},
   "source": [
    "#### Explore table 1"
   ]
  },
  {
   "cell_type": "code",
   "execution_count": 5,
   "metadata": {},
   "outputs": [],
   "source": [
    "df1.createOrReplaceTempView('company_submission')"
   ]
  },
  {
   "cell_type": "code",
   "execution_count": 6,
   "metadata": {},
   "outputs": [
    {
     "name": "stdout",
     "output_type": "stream",
     "text": [
      "+----------------------------+\n",
      "|count(DISTINCT company_name)|\n",
      "+----------------------------+\n",
      "|                       15807|\n",
      "+----------------------------+\n",
      "\n"
     ]
    }
   ],
   "source": [
    "## number of companies:\n",
    "spark.sql('''\n",
    "    SELECT count(distinct a.company_name)\n",
    "    FROM company_submission as a\n",
    "''').show()"
   ]
  },
  {
   "cell_type": "code",
   "execution_count": 7,
   "metadata": {},
   "outputs": [
    {
     "name": "stdout",
     "output_type": "stream",
     "text": [
      "+-------------+----+\n",
      "|document_type| cnt|\n",
      "+-------------+----+\n",
      "|         10-Q|9318|\n",
      "|         10-K|8423|\n",
      "|         null|5330|\n",
      "|       10-Q/A|3103|\n",
      "|       10-K/A|1558|\n",
      "|         20-F| 847|\n",
      "|       20-F/A| 338|\n",
      "|         40-F| 149|\n",
      "|        10-KT| 124|\n",
      "|       40-F/A|  33|\n",
      "|        10-QT|  27|\n",
      "|      10-KT/A|  11|\n",
      "|        424B3|   6|\n",
      "|     10-12G/A|   3|\n",
      "|      10-QT/A|   3|\n",
      "|      DEF 14A|   1|\n",
      "|       10-12G|   1|\n",
      "|         10-D|   1|\n",
      "+-------------+----+\n",
      "\n"
     ]
    }
   ],
   "source": [
    "## type of document\n",
    "spark.sql('''\n",
    "    SELECT a.document_type,count(*) as cnt\n",
    "    FROM company_submission as a\n",
    "    group by a.document_type\n",
    "    order by cnt DESC\n",
    "''').show()"
   ]
  },
  {
   "cell_type": "markdown",
   "metadata": {},
   "source": [
    "Based on the distribution of type of document, we decided to only include 10-K, as it contained a wide range of annual financial data while most of the companies submitted the 10-K form."
   ]
  },
  {
   "cell_type": "code",
   "execution_count": 19,
   "metadata": {},
   "outputs": [
    {
     "name": "stdout",
     "output_type": "stream",
     "text": [
      "+--------------------------+----+\n",
      "|document_fiscal_year_focus| cnt|\n",
      "+--------------------------+----+\n",
      "|                      2010|1327|\n",
      "|                      2011|5775|\n",
      "|                      2012|6444|\n",
      "|                      2013|6037|\n",
      "|                      2014|5757|\n",
      "|                      2015|5416|\n",
      "|                      2016|5043|\n",
      "|                      2017|5147|\n",
      "|                      2018|5032|\n",
      "|                      2019|3944|\n",
      "+--------------------------+----+\n",
      "\n"
     ]
    }
   ],
   "source": [
    "## number of companies by year\n",
    "nofcor_year = spark.sql('''\n",
    "    SELECT a.document_fiscal_year_focus,count(distinct a.company_name) as cnt\n",
    "    FROM company_submission as a\n",
    "    where document_fiscal_year_focus>=2010 and document_fiscal_year_focus<=2019\n",
    "    group by a.document_fiscal_year_focus\n",
    "    order by document_fiscal_year_focus\n",
    "''')\n",
    "nofcor_year.show()"
   ]
  },
  {
   "cell_type": "code",
   "execution_count": 20,
   "metadata": {},
   "outputs": [
    {
     "data": {
      "text/plain": [
       "<matplotlib.axes._subplots.AxesSubplot at 0x7f12ed5fb750>"
      ]
     },
     "execution_count": 20,
     "metadata": {},
     "output_type": "execute_result"
    },
    {
     "data": {
      "image/png": "[encoded data removed]",
      "text/plain": [
       "<Figure size 432x288 with 1 Axes>"
      ]
     },
     "metadata": {
      "needs_background": "light"
     },
     "output_type": "display_data"
    }
   ],
   "source": [
    "from matplotlib import pyplot as plt\n",
    "##Visualizing number of companies submitted documents by year\n",
    "nofcor_year=nofcor_year.toPandas()\n",
    "nofcor_year.plot(kind='barh',x='document_fiscal_year_focus',y='cnt')"
   ]
  },
  {
   "cell_type": "code",
   "execution_count": 43,
   "metadata": {},
   "outputs": [
    {
     "name": "stdout",
     "output_type": "stream",
     "text": [
      "+------+----+\n",
      "|STUSPS| cnt|\n",
      "+------+----+\n",
      "|  null|7802|\n",
      "|    CA|1270|\n",
      "|    NY| 859|\n",
      "|    TX| 719|\n",
      "|    FL| 483|\n",
      "|    NV| 337|\n",
      "|    PA| 324|\n",
      "|    MA| 323|\n",
      "|    NJ| 310|\n",
      "|    IL| 278|\n",
      "|    \\N| 257|\n",
      "|    CO| 256|\n",
      "|    A1| 214|\n",
      "|    OH| 201|\n",
      "|    VA| 184|\n",
      "|    GA| 175|\n",
      "|    A6| 171|\n",
      "|    MN| 162|\n",
      "|    NC| 157|\n",
      "|    CT| 154|\n",
      "+------+----+\n",
      "only showing top 20 rows\n",
      "\n"
     ]
    }
   ],
   "source": [
    "## number of companies by state\n",
    "nofcor = spark.sql('''\n",
    "    SELECT a.mailing_address_state as STUSPS,count(distinct a.company_name) as cnt\n",
    "    FROM company_submission as a\n",
    "    group by a.mailing_address_state\n",
    "    order by cnt DESC\n",
    "''')\n",
    "nofcor.show()"
   ]
  },
  {
   "cell_type": "code",
   "execution_count": 35,
   "metadata": {},
   "outputs": [],
   "source": [
    "# plot number of companies by state\n",
    "import pandas as pd\n",
    "from geopandas import GeoDataFrame"
   ]
  },
  {
   "cell_type": "code",
   "execution_count": 28,
   "metadata": {},
   "outputs": [],
   "source": [
    "# load in shapefile\n",
    "geo_df = GeoDataFrame.from_file('s3://sec-finc/shapefile/')"
   ]
  },
  {
   "cell_type": "code",
   "execution_count": 29,
   "metadata": {},
   "outputs": [
    {
     "data": {
      "text/plain": [
       "Index(['STATEFP', 'STATENS', 'AFFGEOID', 'GEOID', 'STUSPS', 'NAME', 'LSAD',\n",
       "       'ALAND', 'AWATER', 'geometry'],\n",
       "      dtype='object')"
      ]
     },
     "execution_count": 29,
     "metadata": {},
     "output_type": "execute_result"
    }
   ],
   "source": [
    "geo_df.columns"
   ]
  },
  {
   "cell_type": "code",
   "execution_count": 30,
   "metadata": {},
   "outputs": [
    {
     "data": {
      "text/html": [
       "<div>\n",
       "<style scoped>\n",
       "    .dataframe tbody tr th:only-of-type {\n",
       "        vertical-align: middle;\n",
       "    }\n",
       "\n",
       "    .dataframe tbody tr th {\n",
       "        vertical-align: top;\n",
       "    }\n",
       "\n",
       "    .dataframe thead th {\n",
       "        text-align: right;\n",
       "    }\n",
       "</style>\n",
       "<table border=\"1\" class=\"dataframe\">\n",
       "  <thead>\n",
       "    <tr style=\"text-align: right;\">\n",
       "      <th></th>\n",
       "      <th>STATEFP</th>\n",
       "      <th>STATENS</th>\n",
       "      <th>AFFGEOID</th>\n",
       "      <th>GEOID</th>\n",
       "      <th>STUSPS</th>\n",
       "      <th>NAME</th>\n",
       "      <th>LSAD</th>\n",
       "      <th>ALAND</th>\n",
       "      <th>AWATER</th>\n",
       "      <th>geometry</th>\n",
       "    </tr>\n",
       "  </thead>\n",
       "  <tbody>\n",
       "    <tr>\n",
       "      <th>0</th>\n",
       "      <td>28</td>\n",
       "      <td>01779790</td>\n",
       "      <td>0400000US28</td>\n",
       "      <td>28</td>\n",
       "      <td>MS</td>\n",
       "      <td>Mississippi</td>\n",
       "      <td>00</td>\n",
       "      <td>121533519481</td>\n",
       "      <td>3926919758</td>\n",
       "      <td>MULTIPOLYGON (((-88.50297 30.21523, -88.49176 ...</td>\n",
       "    </tr>\n",
       "    <tr>\n",
       "      <th>1</th>\n",
       "      <td>37</td>\n",
       "      <td>01027616</td>\n",
       "      <td>0400000US37</td>\n",
       "      <td>37</td>\n",
       "      <td>NC</td>\n",
       "      <td>North Carolina</td>\n",
       "      <td>00</td>\n",
       "      <td>125923656064</td>\n",
       "      <td>13466071395</td>\n",
       "      <td>MULTIPOLYGON (((-75.72681 35.93584, -75.71827 ...</td>\n",
       "    </tr>\n",
       "    <tr>\n",
       "      <th>2</th>\n",
       "      <td>40</td>\n",
       "      <td>01102857</td>\n",
       "      <td>0400000US40</td>\n",
       "      <td>40</td>\n",
       "      <td>OK</td>\n",
       "      <td>Oklahoma</td>\n",
       "      <td>00</td>\n",
       "      <td>177662925723</td>\n",
       "      <td>3374587997</td>\n",
       "      <td>POLYGON ((-103.00257 36.52659, -103.00219 36.6...</td>\n",
       "    </tr>\n",
       "    <tr>\n",
       "      <th>3</th>\n",
       "      <td>51</td>\n",
       "      <td>01779803</td>\n",
       "      <td>0400000US51</td>\n",
       "      <td>51</td>\n",
       "      <td>VA</td>\n",
       "      <td>Virginia</td>\n",
       "      <td>00</td>\n",
       "      <td>102257717110</td>\n",
       "      <td>8528531774</td>\n",
       "      <td>MULTIPOLYGON (((-75.74241 37.80835, -75.74151 ...</td>\n",
       "    </tr>\n",
       "    <tr>\n",
       "      <th>4</th>\n",
       "      <td>54</td>\n",
       "      <td>01779805</td>\n",
       "      <td>0400000US54</td>\n",
       "      <td>54</td>\n",
       "      <td>WV</td>\n",
       "      <td>West Virginia</td>\n",
       "      <td>00</td>\n",
       "      <td>62266474513</td>\n",
       "      <td>489028543</td>\n",
       "      <td>POLYGON ((-82.64320 38.16909, -82.64300 38.169...</td>\n",
       "    </tr>\n",
       "  </tbody>\n",
       "</table>\n",
       "</div>"
      ],
      "text/plain": [
       "  STATEFP   STATENS     AFFGEOID GEOID STUSPS            NAME LSAD  \\\n",
       "0      28  01779790  0400000US28    28     MS     Mississippi   00   \n",
       "1      37  01027616  0400000US37    37     NC  North Carolina   00   \n",
       "2      40  01102857  0400000US40    40     OK        Oklahoma   00   \n",
       "3      51  01779803  0400000US51    51     VA        Virginia   00   \n",
       "4      54  01779805  0400000US54    54     WV   West Virginia   00   \n",
       "\n",
       "          ALAND       AWATER  \\\n",
       "0  121533519481   3926919758   \n",
       "1  125923656064  13466071395   \n",
       "2  177662925723   3374587997   \n",
       "3  102257717110   8528531774   \n",
       "4   62266474513    489028543   \n",
       "\n",
       "                                            geometry  \n",
       "0  MULTIPOLYGON (((-88.50297 30.21523, -88.49176 ...  \n",
       "1  MULTIPOLYGON (((-75.72681 35.93584, -75.71827 ...  \n",
       "2  POLYGON ((-103.00257 36.52659, -103.00219 36.6...  \n",
       "3  MULTIPOLYGON (((-75.74241 37.80835, -75.74151 ...  \n",
       "4  POLYGON ((-82.64320 38.16909, -82.64300 38.169...  "
      ]
     },
     "execution_count": 30,
     "metadata": {},
     "output_type": "execute_result"
    }
   ],
   "source": [
    "geo_df.head()"
   ]
  },
  {
   "cell_type": "code",
   "execution_count": 44,
   "metadata": {},
   "outputs": [],
   "source": [
    "nofcor = nofcor.toPandas()"
   ]
  },
  {
   "cell_type": "code",
   "execution_count": 46,
   "metadata": {},
   "outputs": [
    {
     "data": {
      "text/html": [
       "<div>\n",
       "<style scoped>\n",
       "    .dataframe tbody tr th:only-of-type {\n",
       "        vertical-align: middle;\n",
       "    }\n",
       "\n",
       "    .dataframe tbody tr th {\n",
       "        vertical-align: top;\n",
       "    }\n",
       "\n",
       "    .dataframe thead th {\n",
       "        text-align: right;\n",
       "    }\n",
       "</style>\n",
       "<table border=\"1\" class=\"dataframe\">\n",
       "  <thead>\n",
       "    <tr style=\"text-align: right;\">\n",
       "      <th></th>\n",
       "      <th>STATEFP</th>\n",
       "      <th>STATENS</th>\n",
       "      <th>AFFGEOID</th>\n",
       "      <th>GEOID</th>\n",
       "      <th>STUSPS</th>\n",
       "      <th>NAME</th>\n",
       "      <th>LSAD</th>\n",
       "      <th>ALAND</th>\n",
       "      <th>AWATER</th>\n",
       "      <th>geometry</th>\n",
       "      <th>cnt</th>\n",
       "    </tr>\n",
       "  </thead>\n",
       "  <tbody>\n",
       "    <tr>\n",
       "      <th>0</th>\n",
       "      <td>28</td>\n",
       "      <td>01779790</td>\n",
       "      <td>0400000US28</td>\n",
       "      <td>28</td>\n",
       "      <td>MS</td>\n",
       "      <td>Mississippi</td>\n",
       "      <td>00</td>\n",
       "      <td>121533519481</td>\n",
       "      <td>3926919758</td>\n",
       "      <td>MULTIPOLYGON (((-88.50297 30.21523, -88.49176 ...</td>\n",
       "      <td>20</td>\n",
       "    </tr>\n",
       "    <tr>\n",
       "      <th>1</th>\n",
       "      <td>37</td>\n",
       "      <td>01027616</td>\n",
       "      <td>0400000US37</td>\n",
       "      <td>37</td>\n",
       "      <td>NC</td>\n",
       "      <td>North Carolina</td>\n",
       "      <td>00</td>\n",
       "      <td>125923656064</td>\n",
       "      <td>13466071395</td>\n",
       "      <td>MULTIPOLYGON (((-75.72681 35.93584, -75.71827 ...</td>\n",
       "      <td>157</td>\n",
       "    </tr>\n",
       "    <tr>\n",
       "      <th>2</th>\n",
       "      <td>40</td>\n",
       "      <td>01102857</td>\n",
       "      <td>0400000US40</td>\n",
       "      <td>40</td>\n",
       "      <td>OK</td>\n",
       "      <td>Oklahoma</td>\n",
       "      <td>00</td>\n",
       "      <td>177662925723</td>\n",
       "      <td>3374587997</td>\n",
       "      <td>POLYGON ((-103.00257 36.52659, -103.00219 36.6...</td>\n",
       "      <td>61</td>\n",
       "    </tr>\n",
       "    <tr>\n",
       "      <th>3</th>\n",
       "      <td>51</td>\n",
       "      <td>01779803</td>\n",
       "      <td>0400000US51</td>\n",
       "      <td>51</td>\n",
       "      <td>VA</td>\n",
       "      <td>Virginia</td>\n",
       "      <td>00</td>\n",
       "      <td>102257717110</td>\n",
       "      <td>8528531774</td>\n",
       "      <td>MULTIPOLYGON (((-75.74241 37.80835, -75.74151 ...</td>\n",
       "      <td>184</td>\n",
       "    </tr>\n",
       "    <tr>\n",
       "      <th>4</th>\n",
       "      <td>54</td>\n",
       "      <td>01779805</td>\n",
       "      <td>0400000US54</td>\n",
       "      <td>54</td>\n",
       "      <td>WV</td>\n",
       "      <td>West Virginia</td>\n",
       "      <td>00</td>\n",
       "      <td>62266474513</td>\n",
       "      <td>489028543</td>\n",
       "      <td>POLYGON ((-82.64320 38.16909, -82.64300 38.169...</td>\n",
       "      <td>20</td>\n",
       "    </tr>\n",
       "  </tbody>\n",
       "</table>\n",
       "</div>"
      ],
      "text/plain": [
       "  STATEFP   STATENS     AFFGEOID GEOID STUSPS            NAME LSAD  \\\n",
       "0      28  01779790  0400000US28    28     MS     Mississippi   00   \n",
       "1      37  01027616  0400000US37    37     NC  North Carolina   00   \n",
       "2      40  01102857  0400000US40    40     OK        Oklahoma   00   \n",
       "3      51  01779803  0400000US51    51     VA        Virginia   00   \n",
       "4      54  01779805  0400000US54    54     WV   West Virginia   00   \n",
       "\n",
       "          ALAND       AWATER  \\\n",
       "0  121533519481   3926919758   \n",
       "1  125923656064  13466071395   \n",
       "2  177662925723   3374587997   \n",
       "3  102257717110   8528531774   \n",
       "4   62266474513    489028543   \n",
       "\n",
       "                                            geometry  cnt  \n",
       "0  MULTIPOLYGON (((-88.50297 30.21523, -88.49176 ...   20  \n",
       "1  MULTIPOLYGON (((-75.72681 35.93584, -75.71827 ...  157  \n",
       "2  POLYGON ((-103.00257 36.52659, -103.00219 36.6...   61  \n",
       "3  MULTIPOLYGON (((-75.74241 37.80835, -75.74151 ...  184  \n",
       "4  POLYGON ((-82.64320 38.16909, -82.64300 38.169...   20  "
      ]
     },
     "execution_count": 46,
     "metadata": {},
     "output_type": "execute_result"
    }
   ],
   "source": [
    "shape_df = geo_df.merge(nofcor, on='STUSPS',how ='inner')\n",
    "shape_df.head()"
   ]
  },
  {
   "cell_type": "code",
   "execution_count": 52,
   "metadata": {},
   "outputs": [
    {
     "data": {
      "image/png": "[encoded data removed]",
      "text/plain": [
       "<Figure size 720x576 with 2 Axes>"
      ]
     },
     "metadata": {
      "needs_background": "light"
     },
     "output_type": "display_data"
    }
   ],
   "source": [
    "shape_df.plot(column='cnt',figsize=[10,8],legend = True)\n",
    "plt.title('# number of companies by state')\n",
    "plt.xlim(-130, -60) \n",
    "plt.show()"
   ]
  },
  {
   "cell_type": "code",
   "execution_count": null,
   "metadata": {},
   "outputs": [],
   "source": []
  },
  {
   "cell_type": "markdown",
   "metadata": {},
   "source": []
  },
  {
   "cell_type": "markdown",
   "metadata": {},
   "source": [
    "### Table 2  report_presentation_section\n",
    "I     -  Statement of Income\n",
    "IP    -  Statement of Income (Parenthetical)\n",
    "CI    -  Statement of Comprehensive Income\n",
    "CIP   -  Statement of Comprehensive Income (Parenthetical)\n",
    "B     -  Balance Sheet\n",
    "BP    -  Balance Sheet (Parenthetical)\n",
    "C     -  Statement of Cash Flows\n",
    "CP    -  Statement of Cash Flows (Parenthetical)\n",
    "SE    -  Statement of Equity\n",
    "SEP   -  Statement of Equity (Parenthetical)\n",
    "#### read in and parse"
   ]
  },
  {
   "cell_type": "code",
   "execution_count": 7,
   "metadata": {},
   "outputs": [],
   "source": [
    "df2 = spark.read.csv('s3://sec-finc/t2/',header = False)"
   ]
  },
  {
   "cell_type": "code",
   "execution_count": 8,
   "metadata": {},
   "outputs": [
    {
     "name": "stdout",
     "output_type": "stream",
     "text": [
      "+-------+-----------+--------------------+-------------------+--------------+--------------------------+\n",
      "|    cik|filing_date|accession_number_int|section_sequence_id|statement_type|report_section_description|\n",
      "+-------+-----------+--------------------+-------------------+--------------+--------------------------+\n",
      "| 831259| 2010-11-05|      83125910000070|                 42|            \\N|      Disclosure - ACCO...|\n",
      "| 842162| 2018-10-25|      84216218000036|                 12|            \\N|         Disclosure - Debt|\n",
      "| 842162| 2018-10-25|      84216218000036|                 50|            \\N|      Disclosure - Debt...|\n",
      "| 842162| 2018-10-25|      84216218000036|                 74|            \\N|      Disclosure - Fina...|\n",
      "| 920448| 2014-11-06|      92044814000074|                 15|            \\N|      Disclosure - Fair...|\n",
      "| 920448| 2014-11-06|      92044814000074|                 25|            \\N|      Disclosure - Comm...|\n",
      "| 936395| 2015-06-10|      93639515000038|                 28|            \\N|      Disclosure - Subs...|\n",
      "| 936395| 2015-06-10|      93639515000038|                 32|            \\N|      Disclosure - Shor...|\n",
      "| 733076| 2014-03-31|      93783414000023|                  5|            CI|      Statement - Conso...|\n",
      "| 733076| 2014-03-31|      93783414000023|                 11|            \\N|      Disclosure - Disp...|\n",
      "| 733076| 2014-03-31|      93783414000023|                 26|            \\N|      Schedule - Consol...|\n",
      "| 733076| 2014-03-31|      93783414000023|                 88|            \\N|      Disclosure - Inve...|\n",
      "| 733076| 2014-03-31|      93783414000023|                100|            \\N|      Disclosure - Inve...|\n",
      "| 733076| 2014-03-31|      93783414000023|                166|            \\N|      Schedule - Consol...|\n",
      "|1084580| 2010-10-12|      95012310092469|                  3|            BP|      Statement - Conso...|\n",
      "|1182129| 2013-02-26|     104746913001688|                 46|            \\N|      Disclosure - Prop...|\n",
      "|1369241| 2018-03-07|     104746918001368|                 18|            \\N|      Disclosure - Long...|\n",
      "|1369241| 2018-03-07|     104746918001368|                 43|            \\N|      Disclosure - Sign...|\n",
      "|1369241| 2018-03-07|     104746918001368|                 45|            \\N|      Disclosure - Sign...|\n",
      "|1369241| 2018-03-07|     104746918001368|                 54|            \\N|      Disclosure - Sign...|\n",
      "+-------+-----------+--------------------+-------------------+--------------+--------------------------+\n",
      "only showing top 20 rows\n",
      "\n"
     ]
    }
   ],
   "source": [
    "from pyspark.sql.functions import split, explode,col\n",
    "col_names1 = ['cik','filing_date','accession_number_int','section_sequence_id','statement_type','report_section_description']\n",
    "for i in range(0,len(col_names1)):\n",
    "    df2 = df2.withColumn(col_names1[i], split(col(\"_c0\"), \"\\t\")[i]).cache()\n",
    "df2 = df2.drop('_c0')\n",
    "df2.show()"
   ]
  },
  {
   "cell_type": "markdown",
   "metadata": {},
   "source": [
    "#### Explore Table2"
   ]
  },
  {
   "cell_type": "code",
   "execution_count": 9,
   "metadata": {},
   "outputs": [],
   "source": [
    "df2.createOrReplaceTempView('report_section')"
   ]
  },
  {
   "cell_type": "code",
   "execution_count": 12,
   "metadata": {},
   "outputs": [
    {
     "name": "stdout",
     "output_type": "stream",
     "text": [
      "+--------------+--------+\n",
      "|statement_type|     cnt|\n",
      "+--------------+--------+\n",
      "|            \\N|10857756|\n",
      "|             B|  242149|\n",
      "|             C|  240038|\n",
      "|            BP|  226214|\n",
      "|             I|  199841|\n",
      "|            SE|  151089|\n",
      "|            CI|  134102|\n",
      "|           SEP|   47356|\n",
      "|           CIP|   27601|\n",
      "|            IP|   15550|\n",
      "|            CP|   15103|\n",
      "+--------------+--------+\n",
      "\n"
     ]
    }
   ],
   "source": [
    "## number of documents by statement type\n",
    "nofcor_year = spark.sql('''\n",
    "    SELECT statement_type,count(accession_number_int) as cnt\n",
    "    FROM report_section\n",
    "    group by statement_type\n",
    "    order by cnt DESC\n",
    "''')\n",
    "nofcor_year.show()"
   ]
  },
  {
   "cell_type": "markdown",
   "metadata": {},
   "source": [
    "Based on this result, we only chose the most important and comprehensive statements: I, B, and C (income statement, balance sheet, and cash flow)"
   ]
  },
  {
   "cell_type": "markdown",
   "metadata": {},
   "source": [
    "### Table 3 data_point"
   ]
  },
  {
   "cell_type": "code",
   "execution_count": 3,
   "metadata": {},
   "outputs": [],
   "source": [
    "df3 = spark.read.csv('s3://sec-finc/t3/',header = False)"
   ]
  },
  {
   "cell_type": "code",
   "execution_count": 14,
   "metadata": {},
   "outputs": [],
   "source": [
    "from pyspark.sql.functions import split, explode,col\n",
    "col_names2 = ['cik','accession_number_int','filing_date','datapoint_id','datapoint_name','version',\n",
    "              'segment_label','segment_hash','start_date','end_date','period_month','string_value','numeric_value',\n",
    "              'decimals','unit','footnotes']\n",
    "for i in range(0,len(col_names2)):\n",
    "    df3 = df3.withColumn(col_names2[i], split(col(\"value\"), \"\\t\")[i]).cache()"
   ]
  },
  {
   "cell_type": "code",
   "execution_count": 15,
   "metadata": {},
   "outputs": [],
   "source": [
    "df3 = df3.drop('value')"
   ]
  },
  {
   "cell_type": "code",
   "execution_count": 21,
   "metadata": {},
   "outputs": [
    {
     "name": "stdout",
     "output_type": "stream",
     "text": [
      "+-------+--------------------+-----------+------------+--------------+------------+--------------------+--------------------+----------+----------+------------+------------+-------------+--------+----+---------+\n",
      "|    cik|accession_number_int|filing_date|datapoint_id|datapoint_name|     version|       segment_label|        segment_hash|start_date|  end_date|period_month|string_value|numeric_value|decimals|unit|footnotes|\n",
      "+-------+--------------------+-----------+------------+--------------+------------+--------------------+--------------------+----------+----------+------------+------------+-------------+--------+----+---------+\n",
      "| 885639|     156459019009005| 2019-03-22|  1082251202| NetIncomeLoss|us-gaap/2018|                  \\N|                  \\N|2018-02-04|2018-05-05|           3|    75000000|        7.5E7|      -6| USD|       \\N|\n",
      "|1572758|     157275813000011| 2013-11-13|   239064150| NetIncomeLoss|us-gaap/2013|                  \\N|                  \\N|2013-02-27|2013-09-30|           7|      -18417|     -18417.0|       0| USD|       \\N|\n",
      "|1059131|     119312514043282| 2014-02-10|   269316027| NetIncomeLoss|us-gaap/2013|                  \\N|                  \\N|2012-10-01|2012-12-31|           3|     8317000|    8317000.0|      -3| USD|       \\N|\n",
      "|1559053|     155905313000010| 2013-11-12|   225364903| NetIncomeLoss|us-gaap/2013|                  \\N|                  \\N|2012-07-01|2012-09-30|           3|    -8668000|   -8668000.0|      -3| USD|       \\N|\n",
      "| 930803|     114420413028609| 2013-05-14|   149415843| NetIncomeLoss|us-gaap/2012|                  \\N|                  \\N|2011-10-01|2012-03-31|           6|       96751|      96751.0|       0| USD|       \\N|\n",
      "| 730464|     114420415052225| 2015-08-27|   599714197| NetIncomeLoss|us-gaap/2015|                  \\N|                  \\N|2014-07-01|2014-09-30|           3|    20440000|      2.044E7|      -3| USD|       \\N|\n",
      "| 788784|      78878419000028| 2019-07-31|  1128627075| NetIncomeLoss|us-gaap/2019|Operating Segment...|3b4164f3-4d9f-5a2...|2019-01-01|2019-06-30|           6|   256000000|       2.56E8|      -6| USD|       \\N|\n",
      "| 788784|      78878419000028| 2019-07-31|  1128624612| NetIncomeLoss|us-gaap/2019|         PSEG Power |38ee71c4-adbb-9c2...|2018-04-01|2018-06-30|           3|    41000000|        4.1E7|      -6| USD|       \\N|\n",
      "| 788784|      78878419000028| 2019-07-31|  1128627297| NetIncomeLoss|us-gaap/2019|Guarantor Subsidi...|45fb20ce-d9e6-dde...|2019-01-01|2019-06-30|           6|   286000000|       2.86E8|      -6| USD|       \\N|\n",
      "|1594805|     159480519000010| 2019-02-12|  1047181592| NetIncomeLoss|us-gaap/2018|                  \\N|                  \\N|2018-01-01|2018-12-31|          12|   -64553000|    -6.4553E7|      -3| USD|       \\N|\n",
      "|1489644|     149315212001260| 2012-09-12|    65752508| NetIncomeLoss|us-gaap/2012|                  \\N|                  \\N|2011-05-01|2011-07-31|           3|       -6350|      -6350.0|       0| USD|       \\N|\n",
      "|1362703|     106299312000172| 2012-01-17|   465216551| NetIncomeLoss|us-gaap/2011|                  \\N|                  \\N|2010-09-01|2010-11-30|           3|     -301241|    -301241.0|       0| USD|       \\N|\n",
      "| 930803|     114420413028609| 2013-05-14|   149415842| NetIncomeLoss|us-gaap/2012|                  \\N|                  \\N|2012-01-01|2012-03-31|           3|     -347181|    -347181.0|       0| USD|       \\N|\n",
      "|1079282|     155479513000418| 2013-07-31|   169408766| NetIncomeLoss|us-gaap/2013|                  \\N|                  \\N|2009-10-01|2009-12-31|           3|     -395848|    -395848.0|       0| USD|       \\N|\n",
      "|1649338|     164933818000027| 2018-03-15|   940154347| NetIncomeLoss|us-gaap/2016|                  \\N|                  \\N|2016-10-31|2017-01-29|           3|   239000000|       2.39E8|      -6| USD|       \\N|\n",
      "|1333274|     119312512335017| 2012-08-03|    48267474| NetIncomeLoss|us-gaap/2012|       Eliminations |e0abcf5c-eef9-f36...|2011-04-01|2011-06-30|           3|           0|          0.0|      -3| EUR|       \\N|\n",
      "|1333274|     119312512335017| 2012-08-03|    48267482| NetIncomeLoss|us-gaap/2012|       Eliminations |e0abcf5c-eef9-f36...|2012-04-01|2012-06-30|           3|           0|          0.0|      -3| EUR|       \\N|\n",
      "|1082198|     110465911046573| 2011-08-12|   115000308| NetIncomeLoss|us-gaap/2011|                  \\N|                  \\N|2011-01-01|2011-06-30|           6|      322785|     322785.0|       0| USD|       \\N|\n",
      "|1344736|     144586612000666| 2012-08-20|    56772202| NetIncomeLoss|us-gaap/2012|                  \\N|                  \\N|2009-01-01|2012-06-30|          42|    -2455294|   -2455294.0|      \\N| USD|       \\N|\n",
      "|1532930|     153293015000081| 2015-07-29|   570008081| NetIncomeLoss|us-gaap/2015|       Common Stock |a6a13d2c-1456-d80...|2015-01-01|2015-06-30|           6|           0|          0.0|      -3| USD|       \\N|\n",
      "+-------+--------------------+-----------+------------+--------------+------------+--------------------+--------------------+----------+----------+------------+------------+-------------+--------+----+---------+\n",
      "only showing top 20 rows\n",
      "\n"
     ]
    }
   ],
   "source": [
    "## look at the datapoint \"NetIncomeLoss\", our projected response\n",
    "df3.createOrReplaceTempView('data_point')\n",
    "NIL = spark.sql('''\n",
    "    SELECT *\n",
    "    FROM data_point as c\n",
    "    Where datapoint_name =='NetIncomeLoss'\n",
    "    limit 100\n",
    "''')\n",
    "NIL.show()"
   ]
  },
  {
   "cell_type": "markdown",
   "metadata": {},
   "source": [
    "By looking at the response, we noticed that files can represent different period of time, e.g. some of them are 3-month period and others are 12 months. Also, there're duplications. So, in our further data cleaning procedure, we mainly focused on those two issues."
   ]
  },
  {
   "cell_type": "code",
   "execution_count": null,
   "metadata": {},
   "outputs": [],
   "source": []
  }
 ],
 "metadata": {
  "kernelspec": {
   "display_name": "Python 3",
   "language": "python",
   "name": "python3"
  },
  "language_info": {
   "codemirror_mode": {
    "name": "ipython",
    "version": 3
   },
   "file_extension": ".py",
   "mimetype": "text/x-python",
   "name": "python",
   "nbconvert_exporter": "python",
   "pygments_lexer": "ipython3",
   "version": "3.7.6"
  }
 },
 "nbformat": 4,
 "nbformat_minor": 4
}
