{
 "cells": [
  {
   "cell_type": "markdown",
   "metadata": {},
   "source": [
    "# This task is to predict company's increase in profitability compared to the previous year"
   ]
  },
  {
   "cell_type": "code",
   "execution_count": 1,
   "metadata": {},
   "outputs": [
    {
     "data": {
      "text/html": [
       "\n",
       "            <div>\n",
       "                <p><b>SparkSession - in-memory</b></p>\n",
       "                \n",
       "        <div>\n",
       "            <p><b>SparkContext</b></p>\n",
       "\n",
       "            <p><a href=\"http://ip-172-31-35-117.ec2.internal:4042\">Spark UI</a></p>\n",
       "\n",
       "            <dl>\n",
       "              <dt>Version</dt>\n",
       "                <dd><code>v2.4.4</code></dd>\n",
       "              <dt>Master</dt>\n",
       "                <dd><code>yarn</code></dd>\n",
       "              <dt>AppName</dt>\n",
       "                <dd><code>abc</code></dd>\n",
       "            </dl>\n",
       "        </div>\n",
       "        \n",
       "            </div>\n",
       "        "
      ],
      "text/plain": [
       "<pyspark.sql.session.SparkSession at 0x7f0a247379d0>"
      ]
     },
     "execution_count": 1,
     "metadata": {},
     "output_type": "execute_result"
    }
   ],
   "source": [
    "import findspark\n",
    "findspark.init()\n",
    "from pyspark.sql import SparkSession\n",
    "spark = SparkSession.builder.appName('abc').config(\"spark.jars.packages\", \"com.microsoft.ml.spark:mmlspark_2.11:1.0.0-rc1\").config(\"spark.jars.repositories\", \"https://mmlspark.azureedge.net/maven\").getOrCreate()\n",
    "spark"
   ]
  },
  {
   "cell_type": "markdown",
   "metadata": {},
   "source": [
    "read data from s3"
   ]
  },
  {
   "cell_type": "code",
   "execution_count": 2,
   "metadata": {
    "collapsed": true
   },
   "outputs": [],
   "source": [
    "df = spark.read.parquet(\"s3://502-project-1/data\")"
   ]
  },
  {
   "cell_type": "markdown",
   "metadata": {},
   "source": [
    "drop null values in columns \"operatingIncomeLoss\" and \"profit\", as these two columns will be used as labels\n",
    "<br>\n",
    "replace null with zero in other columns\n",
    "<br>\n",
    "add a new column \"profit_increase\" represents difference between this year's profit and last year's profit"
   ]
  },
  {
   "cell_type": "code",
   "execution_count": 3,
   "metadata": {
    "collapsed": true
   },
   "outputs": [],
   "source": [
    "df = df.na.drop(subset=['OperatingIncomeLoss', 'profit'])\n",
    "df = df.na.fill(0)\n",
    "df = df.withColumn('profit_increase', df.profit - df.OperatingIncomeLoss)"
   ]
  },
  {
   "cell_type": "markdown",
   "metadata": {},
   "source": [
    "create label column which depends on the profit_increase column"
   ]
  },
  {
   "cell_type": "code",
   "execution_count": 4,
   "metadata": {
    "collapsed": true
   },
   "outputs": [],
   "source": [
    "df.createOrReplaceTempView(\"dfTable\")\n",
    "df = spark.sql(\"select *, CASE \\\n",
    "                   when profit_increase > 0 then 1 \\\n",
    "                   when profit_increase <= 0 then 0 \\\n",
    "                   end as label from dfTable\")"
   ]
  },
  {
   "cell_type": "markdown",
   "metadata": {},
   "source": [
    "columns and numeric columns"
   ]
  },
  {
   "cell_type": "code",
   "execution_count": 7,
   "metadata": {
    "collapsed": true
   },
   "outputs": [],
   "source": [
    "cols = ['cik', 'company_name', 'assigned_sic', 'accession_number_int', 'filing_date', \n",
    "        'CostOfGoodsAndServicesSold', 'CostOfGoodsSold', 'CostOfServices', 'EarningsPerShareBasic', \n",
    "        'EarningsPerShareDiluted', 'GainLossOnDispositionOfAssets', 'GeneralAndAdministrativeExpense', \n",
    "        'IncomeTaxesPaid', 'IncreaseDecreaseInAccountsPayable', 'IncreaseDecreaseInAccountsReceivable', \n",
    "        'IncreaseDecreaseInAccruedLiabilities', 'IncreaseDecreaseInInventories', 'LaborAndRelatedExpense', \n",
    "        'NetCashProvidedByUsedInFinancingActivities', \n",
    "        'NetCashProvidedByUsedInFinancingActivitiesContinuingOperations', \n",
    "        'NetCashProvidedByUsedInInvestingActivities', \n",
    "        'NetCashProvidedByUsedInInvestingActivitiesContinuingOperations', \n",
    "        'NetCashProvidedByUsedInOperatingActivities', \n",
    "        'NetCashProvidedByUsedInOperatingActivitiesContinuingOperations', 'NetIncomeLoss', 'OperatingExpenses', \n",
    "        'PaymentsForRepurchaseOfCommonStock', 'PaymentsOfDividends', \n",
    "        'PaymentsOfDividendsCommonStock', 'PaymentsOfFinancingCosts', \n",
    "        'PaymentsToAcquireBusinessesNetOfCashAcquired', 'PaymentsToAcquirePropertyPlantAndEquipment', \n",
    "        'RepaymentsOfLongTermDebt', 'ResearchAndDevelopmentExpense', 'Revenues', 'SellingAndMarketingExpense', \n",
    "        'ShareBasedCompensation', 'year', 'profit_year', 'profit', 'profit_increase', 'label']\n",
    "\n",
    "numericCols = ['CostOfGoodsAndServicesSold', 'CostOfGoodsSold', 'CostOfServices', 'EarningsPerShareBasic', \n",
    "               'EarningsPerShareDiluted', 'GainLossOnDispositionOfAssets', 'GeneralAndAdministrativeExpense', \n",
    "               'IncomeTaxesPaid', 'IncreaseDecreaseInAccountsPayable', 'IncreaseDecreaseInAccountsReceivable', \n",
    "               'IncreaseDecreaseInAccruedLiabilities', 'IncreaseDecreaseInInventories', \n",
    "               'LaborAndRelatedExpense', 'NetCashProvidedByUsedInFinancingActivities', \n",
    "               'NetCashProvidedByUsedInFinancingActivitiesContinuingOperations', \n",
    "               'NetCashProvidedByUsedInInvestingActivities', 'NetCashProvidedByUsedInInvestingActivitiesContinuingOperations', \n",
    "               'NetCashProvidedByUsedInOperatingActivities', 'NetCashProvidedByUsedInOperatingActivitiesContinuingOperations', \n",
    "               'NetIncomeLoss', 'OperatingExpenses', 'PaymentsForRepurchaseOfCommonStock', \n",
    "               'PaymentsOfDividends', 'PaymentsOfDividendsCommonStock', 'PaymentsOfFinancingCosts', 'PaymentsToAcquireBusinessesNetOfCashAcquired', \n",
    "               'PaymentsToAcquirePropertyPlantAndEquipment', 'RepaymentsOfLongTermDebt', 'ResearchAndDevelopmentExpense', \n",
    "               'Revenues', 'SellingAndMarketingExpense', 'ShareBasedCompensation']"
   ]
  },
  {
   "cell_type": "markdown",
   "metadata": {},
   "source": [
    "using vectorassembler and pipline to create \"features\" columns"
   ]
  },
  {
   "cell_type": "code",
   "execution_count": 13,
   "metadata": {
    "collapsed": true
   },
   "outputs": [],
   "source": [
    "from pyspark.ml.feature import VectorAssembler\n",
    "from pyspark.ml import Pipeline\n",
    "assembler = VectorAssembler(inputCols=numericCols, outputCol=\"features\", handleInvalid=\"keep\")\n",
    "pipeline = Pipeline(stages=[assembler])\n",
    "pipelineModel = pipeline.fit(df)"
   ]
  },
  {
   "cell_type": "code",
   "execution_count": 14,
   "metadata": {},
   "outputs": [
    {
     "name": "stdout",
     "output_type": "stream",
     "text": [
      "root\n",
      " |-- features: vector (nullable = true)\n",
      " |-- cik: integer (nullable = true)\n",
      " |-- company_name: string (nullable = true)\n",
      " |-- assigned_sic: integer (nullable = true)\n",
      " |-- accession_number_int: long (nullable = true)\n",
      " |-- filing_date: date (nullable = true)\n",
      " |-- CostOfGoodsAndServicesSold: double (nullable = false)\n",
      " |-- CostOfGoodsSold: double (nullable = false)\n",
      " |-- CostOfServices: double (nullable = false)\n",
      " |-- EarningsPerShareBasic: double (nullable = false)\n",
      " |-- EarningsPerShareDiluted: double (nullable = false)\n",
      " |-- GainLossOnDispositionOfAssets: double (nullable = false)\n",
      " |-- GeneralAndAdministrativeExpense: double (nullable = false)\n",
      " |-- IncomeTaxesPaid: double (nullable = false)\n",
      " |-- IncreaseDecreaseInAccountsPayable: double (nullable = false)\n",
      " |-- IncreaseDecreaseInAccountsReceivable: double (nullable = false)\n",
      " |-- IncreaseDecreaseInAccruedLiabilities: double (nullable = false)\n",
      " |-- IncreaseDecreaseInInventories: double (nullable = false)\n",
      " |-- LaborAndRelatedExpense: double (nullable = false)\n",
      " |-- NetCashProvidedByUsedInFinancingActivities: double (nullable = false)\n",
      " |-- NetCashProvidedByUsedInFinancingActivitiesContinuingOperations: double (nullable = false)\n",
      " |-- NetCashProvidedByUsedInInvestingActivities: double (nullable = false)\n",
      " |-- NetCashProvidedByUsedInInvestingActivitiesContinuingOperations: double (nullable = false)\n",
      " |-- NetCashProvidedByUsedInOperatingActivities: double (nullable = false)\n",
      " |-- NetCashProvidedByUsedInOperatingActivitiesContinuingOperations: double (nullable = false)\n",
      " |-- NetIncomeLoss: double (nullable = false)\n",
      " |-- OperatingExpenses: double (nullable = false)\n",
      " |-- OperatingIncomeLoss: double (nullable = false)\n",
      " |-- PaymentsForRepurchaseOfCommonStock: double (nullable = false)\n",
      " |-- PaymentsOfDividends: double (nullable = false)\n",
      " |-- PaymentsOfDividendsCommonStock: double (nullable = false)\n",
      " |-- PaymentsOfFinancingCosts: double (nullable = false)\n",
      " |-- PaymentsToAcquireBusinessesNetOfCashAcquired: double (nullable = false)\n",
      " |-- PaymentsToAcquirePropertyPlantAndEquipment: double (nullable = false)\n",
      " |-- RepaymentsOfLongTermDebt: double (nullable = false)\n",
      " |-- ResearchAndDevelopmentExpense: double (nullable = false)\n",
      " |-- Revenues: double (nullable = false)\n",
      " |-- SellingAndMarketingExpense: double (nullable = false)\n",
      " |-- ShareBasedCompensation: double (nullable = false)\n",
      " |-- year: integer (nullable = true)\n",
      " |-- profit_year: integer (nullable = true)\n",
      " |-- profit: double (nullable = false)\n",
      " |-- profit_increase: double (nullable = false)\n",
      " |-- label: integer (nullable = true)\n",
      "\n"
     ]
    }
   ],
   "source": [
    "df = pipelineModel.transform(df)\n",
    "selectedCols = ['features'] + cols\n",
    "df = df.select(selectedCols)\n",
    "df.printSchema()"
   ]
  },
  {
   "cell_type": "markdown",
   "metadata": {},
   "source": [
    "Given the outstanding performance of lightGBM model in task 1, we use lightGBM model first"
   ]
  },
  {
   "cell_type": "markdown",
   "metadata": {},
   "source": [
    "## Regression using lightGBM model "
   ]
  },
  {
   "cell_type": "code",
   "execution_count": 10,
   "metadata": {
    "collapsed": true
   },
   "outputs": [],
   "source": [
    "import mmlspark\n",
    "from mmlspark.lightgbm import LightGBMRegressor\n",
    "\n",
    "train, test = df.randomSplit([0.85, 0.15], seed=1)\n",
    "lgb = LightGBMRegressor(alpha=0.3, learningRate=0.3, numIterations=100, numLeaves=31, featuresCol='features',labelCol='profit_increase')\n",
    "lgbModel = lgb.fit(train)\n",
    "test_model = lgbModel.transform(test)"
   ]
  },
  {
   "cell_type": "markdown",
   "metadata": {},
   "source": [
    "the result is not satisfying, further jobs need to be done.\n",
    "<br>\n",
    "try feature engineering first"
   ]
  },
  {
   "cell_type": "code",
   "execution_count": 12,
   "metadata": {},
   "outputs": [
    {
     "name": "stderr",
     "output_type": "stream",
     "text": [
      "/usr/lib/spark/python/pyspark/sql/dataframe.py:2103: UserWarning: toPandas attempted Arrow optimization because 'spark.sql.execution.arrow.enabled' is set to true; however, failed by the reason below:\n",
      "  PyArrow >= 0.8.0 must be installed; however, it was not found.\n",
      "Attempting non-optimization as 'spark.sql.execution.arrow.fallback.enabled' is set to true.\n",
      "  warnings.warn(msg)\n"
     ]
    },
    {
     "data": {
      "text/html": [
       "<div>\n",
       "<style scoped>\n",
       "    .dataframe tbody tr th:only-of-type {\n",
       "        vertical-align: middle;\n",
       "    }\n",
       "\n",
       "    .dataframe tbody tr th {\n",
       "        vertical-align: top;\n",
       "    }\n",
       "\n",
       "    .dataframe thead th {\n",
       "        text-align: right;\n",
       "    }\n",
       "</style>\n",
       "<table border=\"1\" class=\"dataframe\">\n",
       "  <thead>\n",
       "    <tr style=\"text-align: right;\">\n",
       "      <th></th>\n",
       "      <th>mean_squared_error</th>\n",
       "      <th>root_mean_squared_error</th>\n",
       "      <th>R^2</th>\n",
       "      <th>mean_absolute_error</th>\n",
       "    </tr>\n",
       "  </thead>\n",
       "  <tbody>\n",
       "    <tr>\n",
       "      <th>0</th>\n",
       "      <td>1.476673e+19</td>\n",
       "      <td>3.842750e+09</td>\n",
       "      <td>-0.230962</td>\n",
       "      <td>2.685616e+08</td>\n",
       "    </tr>\n",
       "  </tbody>\n",
       "</table>\n",
       "</div>"
      ],
      "text/plain": [
       "   mean_squared_error  root_mean_squared_error       R^2  mean_absolute_error\n",
       "0        1.476673e+19             3.842750e+09 -0.230962         2.685616e+08"
      ]
     },
     "execution_count": 12,
     "metadata": {},
     "output_type": "execute_result"
    }
   ],
   "source": [
    "from mmlspark.train import ComputeModelStatistics\n",
    "metrics = ComputeModelStatistics(evaluationMetric='regression',\n",
    "                                 labelCol='profit_increase',\n",
    "                                 scoresCol='prediction') \\\n",
    "            .transform(test_model)\n",
    "metrics.toPandas()"
   ]
  },
  {
   "cell_type": "markdown",
   "metadata": {},
   "source": [
    "## Feature Engineering"
   ]
  },
  {
   "cell_type": "markdown",
   "metadata": {},
   "source": [
    "See feature importance"
   ]
  },
  {
   "cell_type": "code",
   "execution_count": 17,
   "metadata": {},
   "outputs": [
    {
     "name": "stdout",
     "output_type": "stream",
     "text": [
      "[66.0, 35.0, 16.0, 108.0, 36.0, 23.0, 53.0, 31.0, 166.0, 138.0, 54.0, 142.0, 16.0, 183.0, 28.0, 138.0, 81.0, 165.0, 83.0, 172.0, 18.0, 204.0, 138.0, 36.0, 149.0, 6.0, 172.0, 161.0, 90.0, 37.0, 138.0, 25.0, 92.0]\n"
     ]
    }
   ],
   "source": [
    "feature_importance = lgbModel.getFeatureImportances()\n",
    "print(feature_importance)"
   ]
  },
  {
   "cell_type": "markdown",
   "metadata": {},
   "source": [
    "sort features according to their importance from high to low"
   ]
  },
  {
   "cell_type": "code",
   "execution_count": 5,
   "metadata": {
    "collapsed": true
   },
   "outputs": [],
   "source": [
    "feature_importance = [99.0, 36.0, 12.0, 196.0, 81.0, 4.0, 58.0, 22.0, 156.0, 134.0, 17.0, 138.0, 8.0, 254.0, 35.0, 129.0, 67.0, 191.0, 38.0, 191.0, 22.0, 177.0, 127.0, 23.0, 104.0, 5.0, 209.0, 149.0, 94.0, 17.0, 101.0, 0.0, 106.0]"
   ]
  },
  {
   "cell_type": "code",
   "execution_count": 8,
   "metadata": {
    "collapsed": true
   },
   "outputs": [],
   "source": [
    "sorted_feature = [x for _,x in sorted(zip(feature_importance, numericCols), reverse=True)]"
   ]
  },
  {
   "cell_type": "markdown",
   "metadata": {},
   "source": [
    "select top 15 most important features"
   ]
  },
  {
   "cell_type": "code",
   "execution_count": 9,
   "metadata": {},
   "outputs": [
    {
     "name": "stdout",
     "output_type": "stream",
     "text": [
      "['NetCashProvidedByUsedInFinancingActivities', 'PaymentsToAcquireBusinessesNetOfCashAcquired', 'EarningsPerShareBasic', 'NetIncomeLoss', 'NetCashProvidedByUsedInOperatingActivities', 'OperatingIncomeLoss', 'IncreaseDecreaseInAccountsPayable', 'PaymentsToAcquirePropertyPlantAndEquipment', 'IncreaseDecreaseInInventories', 'IncreaseDecreaseInAccountsReceivable', 'NetCashProvidedByUsedInInvestingActivities', 'PaymentsForRepurchaseOfCommonStock', 'ShareBasedCompensation', 'PaymentsOfDividendsCommonStock', 'Revenues']\n"
     ]
    }
   ],
   "source": [
    "selected_features = sorted_feature[:15]\n",
    "print(selected_features)"
   ]
  },
  {
   "cell_type": "markdown",
   "metadata": {},
   "source": [
    "update new columns and numeric columns"
   ]
  },
  {
   "cell_type": "code",
   "execution_count": 10,
   "metadata": {
    "collapsed": true
   },
   "outputs": [],
   "source": [
    "cols = ['cik', 'company_name', 'assigned_sic', 'accession_number_int', 'filing_date', \n",
    "        'CostOfGoodsAndServicesSold', 'CostOfGoodsSold', 'CostOfServices', 'EarningsPerShareBasic', \n",
    "        'EarningsPerShareDiluted', 'GainLossOnDispositionOfAssets', 'GeneralAndAdministrativeExpense', \n",
    "        'IncomeTaxesPaid', 'IncreaseDecreaseInAccountsPayable', 'IncreaseDecreaseInAccountsReceivable', \n",
    "        'IncreaseDecreaseInAccruedLiabilities', 'IncreaseDecreaseInInventories', 'LaborAndRelatedExpense', \n",
    "        'NetCashProvidedByUsedInFinancingActivities', \n",
    "        'NetCashProvidedByUsedInFinancingActivitiesContinuingOperations', \n",
    "        'NetCashProvidedByUsedInInvestingActivities', \n",
    "        'NetCashProvidedByUsedInInvestingActivitiesContinuingOperations', \n",
    "        'NetCashProvidedByUsedInOperatingActivities', \n",
    "        'NetCashProvidedByUsedInOperatingActivitiesContinuingOperations', 'NetIncomeLoss', 'OperatingExpenses', \n",
    "        'OperatingIncomeLoss', 'PaymentsForRepurchaseOfCommonStock', 'PaymentsOfDividends', \n",
    "        'PaymentsOfDividendsCommonStock', 'PaymentsOfFinancingCosts', \n",
    "        'PaymentsToAcquireBusinessesNetOfCashAcquired', 'PaymentsToAcquirePropertyPlantAndEquipment', \n",
    "        'RepaymentsOfLongTermDebt', 'ResearchAndDevelopmentExpense', 'Revenues', 'SellingAndMarketingExpense', \n",
    "        'ShareBasedCompensation', 'year', 'profit_year', 'profit', 'profit_increase', 'label']\n",
    "\n",
    "numericCols = ['CostOfGoodsAndServicesSold', 'CostOfGoodsSold', 'CostOfServices', 'EarningsPerShareBasic', \n",
    "               'EarningsPerShareDiluted', 'GainLossOnDispositionOfAssets', 'GeneralAndAdministrativeExpense', \n",
    "               'IncomeTaxesPaid', 'IncreaseDecreaseInAccountsPayable', 'IncreaseDecreaseInAccountsReceivable', \n",
    "               'IncreaseDecreaseInAccruedLiabilities', 'IncreaseDecreaseInInventories', \n",
    "               'LaborAndRelatedExpense', 'NetCashProvidedByUsedInFinancingActivities', \n",
    "               'NetCashProvidedByUsedInFinancingActivitiesContinuingOperations', \n",
    "               'NetCashProvidedByUsedInInvestingActivities', 'NetCashProvidedByUsedInInvestingActivitiesContinuingOperations', \n",
    "               'NetCashProvidedByUsedInOperatingActivities', 'NetCashProvidedByUsedInOperatingActivitiesContinuingOperations', \n",
    "               'NetIncomeLoss', 'OperatingExpenses', 'OperatingIncomeLoss', 'PaymentsForRepurchaseOfCommonStock', \n",
    "               'PaymentsOfDividends', 'PaymentsOfDividendsCommonStock', 'PaymentsOfFinancingCosts', 'PaymentsToAcquireBusinessesNetOfCashAcquired', \n",
    "               'PaymentsToAcquirePropertyPlantAndEquipment', 'RepaymentsOfLongTermDebt', 'ResearchAndDevelopmentExpense', \n",
    "               'Revenues', 'SellingAndMarketingExpense', 'ShareBasedCompensation']"
   ]
  },
  {
   "cell_type": "markdown",
   "metadata": {},
   "source": [
    "drop previously created features column first"
   ]
  },
  {
   "cell_type": "code",
   "execution_count": 15,
   "metadata": {
    "collapsed": true
   },
   "outputs": [],
   "source": [
    "df = df.drop(df.features)"
   ]
  },
  {
   "cell_type": "code",
   "execution_count": 16,
   "metadata": {},
   "outputs": [
    {
     "name": "stdout",
     "output_type": "stream",
     "text": [
      "root\n",
      " |-- features: vector (nullable = true)\n",
      " |-- cik: integer (nullable = true)\n",
      " |-- company_name: string (nullable = true)\n",
      " |-- assigned_sic: integer (nullable = true)\n",
      " |-- accession_number_int: long (nullable = true)\n",
      " |-- filing_date: date (nullable = true)\n",
      " |-- CostOfGoodsAndServicesSold: double (nullable = false)\n",
      " |-- CostOfGoodsSold: double (nullable = false)\n",
      " |-- CostOfServices: double (nullable = false)\n",
      " |-- EarningsPerShareBasic: double (nullable = false)\n",
      " |-- EarningsPerShareDiluted: double (nullable = false)\n",
      " |-- GainLossOnDispositionOfAssets: double (nullable = false)\n",
      " |-- GeneralAndAdministrativeExpense: double (nullable = false)\n",
      " |-- IncomeTaxesPaid: double (nullable = false)\n",
      " |-- IncreaseDecreaseInAccountsPayable: double (nullable = false)\n",
      " |-- IncreaseDecreaseInAccountsReceivable: double (nullable = false)\n",
      " |-- IncreaseDecreaseInAccruedLiabilities: double (nullable = false)\n",
      " |-- IncreaseDecreaseInInventories: double (nullable = false)\n",
      " |-- LaborAndRelatedExpense: double (nullable = false)\n",
      " |-- NetCashProvidedByUsedInFinancingActivities: double (nullable = false)\n",
      " |-- NetCashProvidedByUsedInFinancingActivitiesContinuingOperations: double (nullable = false)\n",
      " |-- NetCashProvidedByUsedInInvestingActivities: double (nullable = false)\n",
      " |-- NetCashProvidedByUsedInInvestingActivitiesContinuingOperations: double (nullable = false)\n",
      " |-- NetCashProvidedByUsedInOperatingActivities: double (nullable = false)\n",
      " |-- NetCashProvidedByUsedInOperatingActivitiesContinuingOperations: double (nullable = false)\n",
      " |-- NetIncomeLoss: double (nullable = false)\n",
      " |-- OperatingExpenses: double (nullable = false)\n",
      " |-- OperatingIncomeLoss: double (nullable = false)\n",
      " |-- PaymentsForRepurchaseOfCommonStock: double (nullable = false)\n",
      " |-- PaymentsOfDividends: double (nullable = false)\n",
      " |-- PaymentsOfDividendsCommonStock: double (nullable = false)\n",
      " |-- PaymentsOfFinancingCosts: double (nullable = false)\n",
      " |-- PaymentsToAcquireBusinessesNetOfCashAcquired: double (nullable = false)\n",
      " |-- PaymentsToAcquirePropertyPlantAndEquipment: double (nullable = false)\n",
      " |-- RepaymentsOfLongTermDebt: double (nullable = false)\n",
      " |-- ResearchAndDevelopmentExpense: double (nullable = false)\n",
      " |-- Revenues: double (nullable = false)\n",
      " |-- SellingAndMarketingExpense: double (nullable = false)\n",
      " |-- ShareBasedCompensation: double (nullable = false)\n",
      " |-- year: integer (nullable = true)\n",
      " |-- profit_year: integer (nullable = true)\n",
      " |-- profit: double (nullable = false)\n",
      " |-- profit_increase: double (nullable = false)\n",
      " |-- label: integer (nullable = true)\n",
      "\n"
     ]
    }
   ],
   "source": [
    "assembler = VectorAssembler(inputCols=selected_features, outputCol=\"features\", handleInvalid=\"keep\")\n",
    "pipeline = Pipeline(stages=[assembler])\n",
    "pipelineModel = pipeline.fit(df)\n",
    "df = pipelineModel.transform(df)\n",
    "selectedCols = ['features'] + cols\n",
    "df = df.select(selectedCols)\n",
    "df.printSchema()"
   ]
  },
  {
   "cell_type": "markdown",
   "metadata": {},
   "source": [
    "redo the regression job"
   ]
  },
  {
   "cell_type": "code",
   "execution_count": 21,
   "metadata": {
    "collapsed": true
   },
   "outputs": [],
   "source": [
    "lgb = LightGBMRegressor(alpha=0.3, learningRate=0.3, numIterations=100, numLeaves=31, featuresCol='features',labelCol='profit_increase')\n",
    "lgbModel = lgb.fit(train)\n",
    "test_model = lgbModel.transform(test)"
   ]
  },
  {
   "cell_type": "markdown",
   "metadata": {},
   "source": [
    "we can see slight improvement after feature engineering"
   ]
  },
  {
   "cell_type": "code",
   "execution_count": 22,
   "metadata": {},
   "outputs": [
    {
     "name": "stderr",
     "output_type": "stream",
     "text": [
      "/usr/lib/spark/python/pyspark/sql/dataframe.py:2103: UserWarning: toPandas attempted Arrow optimization because 'spark.sql.execution.arrow.enabled' is set to true; however, failed by the reason below:\n",
      "  PyArrow >= 0.8.0 must be installed; however, it was not found.\n",
      "Attempting non-optimization as 'spark.sql.execution.arrow.fallback.enabled' is set to true.\n",
      "  warnings.warn(msg)\n"
     ]
    },
    {
     "data": {
      "text/html": [
       "<div>\n",
       "<style scoped>\n",
       "    .dataframe tbody tr th:only-of-type {\n",
       "        vertical-align: middle;\n",
       "    }\n",
       "\n",
       "    .dataframe tbody tr th {\n",
       "        vertical-align: top;\n",
       "    }\n",
       "\n",
       "    .dataframe thead th {\n",
       "        text-align: right;\n",
       "    }\n",
       "</style>\n",
       "<table border=\"1\" class=\"dataframe\">\n",
       "  <thead>\n",
       "    <tr style=\"text-align: right;\">\n",
       "      <th></th>\n",
       "      <th>mean_squared_error</th>\n",
       "      <th>root_mean_squared_error</th>\n",
       "      <th>R^2</th>\n",
       "      <th>mean_absolute_error</th>\n",
       "    </tr>\n",
       "  </thead>\n",
       "  <tbody>\n",
       "    <tr>\n",
       "      <th>0</th>\n",
       "      <td>5.322156e+18</td>\n",
       "      <td>2.306980e+09</td>\n",
       "      <td>-0.043436</td>\n",
       "      <td>2.336532e+08</td>\n",
       "    </tr>\n",
       "  </tbody>\n",
       "</table>\n",
       "</div>"
      ],
      "text/plain": [
       "   mean_squared_error  root_mean_squared_error       R^2  mean_absolute_error\n",
       "0        5.322156e+18             2.306980e+09 -0.043436         2.336532e+08"
      ]
     },
     "execution_count": 22,
     "metadata": {},
     "output_type": "execute_result"
    }
   ],
   "source": [
    "from mmlspark.train import ComputeModelStatistics\n",
    "metrics = ComputeModelStatistics(evaluationMetric='regression',\n",
    "                                 labelCol='profit_increase',\n",
    "                                 scoresCol='prediction') \\\n",
    "            .transform(test_model)\n",
    "metrics.toPandas()"
   ]
  },
  {
   "cell_type": "markdown",
   "metadata": {},
   "source": [
    "## Now we will do the classification job\n",
    "### LightGBM Classifier"
   ]
  },
  {
   "cell_type": "code",
   "execution_count": 23,
   "metadata": {
    "collapsed": true
   },
   "outputs": [],
   "source": [
    "from mmlspark.lightgbm import LightGBMClassifier\n",
    "lgbClassifier = LightGBMClassifier(learningRate=0.3,\n",
    "                           numIterations=100,\n",
    "                           numLeaves=31,\n",
    "                           featuresCol = 'features',\n",
    "                            labelCol = 'label')"
   ]
  },
  {
   "cell_type": "code",
   "execution_count": 24,
   "metadata": {
    "collapsed": true
   },
   "outputs": [],
   "source": [
    "lgbClassifierModel = lgbClassifier.fit(train)\n",
    "test_class = lgbClassifierModel.transform(test)"
   ]
  },
  {
   "cell_type": "markdown",
   "metadata": {},
   "source": [
    "get AUC value"
   ]
  },
  {
   "cell_type": "code",
   "execution_count": 26,
   "metadata": {},
   "outputs": [
    {
     "name": "stdout",
     "output_type": "stream",
     "text": [
      "0.5478801056749568\n",
      "0.5860782591293228\n"
     ]
    }
   ],
   "source": [
    "from pyspark.ml.evaluation import BinaryClassificationEvaluator as bce\n",
    "evaluator = bce(rawPredictionCol='probability', labelCol='profit')\n",
    "print(evaluator.evaluate(test_class, {evaluator.metricName: 'areaUnderROC'}))\n",
    "print(evaluator.evaluate(test_class, {evaluator.metricName: 'areaUnderPR'}))"
   ]
  },
  {
   "cell_type": "markdown",
   "metadata": {},
   "source": [
    "output predicted value and confusion matrix"
   ]
  },
  {
   "cell_type": "code",
   "execution_count": 27,
   "metadata": {
    "collapsed": true
   },
   "outputs": [],
   "source": [
    "y_true = test_class.select(['label']).collect()\n",
    "y_pred = test_class.select(['prediction']).collect()"
   ]
  },
  {
   "cell_type": "code",
   "execution_count": 28,
   "metadata": {},
   "outputs": [
    {
     "name": "stdout",
     "output_type": "stream",
     "text": [
      "              precision    recall  f1-score   support\n",
      "\n",
      "           0       0.50      0.48      0.49      1089\n",
      "           1       0.62      0.64      0.63      1443\n",
      "\n",
      "    accuracy                           0.57      2532\n",
      "   macro avg       0.56      0.56      0.56      2532\n",
      "weighted avg       0.57      0.57      0.57      2532\n",
      "\n"
     ]
    }
   ],
   "source": [
    "from sklearn.metrics import classification_report, confusion_matrix\n",
    "print(classification_report(y_true, y_pred))"
   ]
  },
  {
   "cell_type": "code",
   "execution_count": 29,
   "metadata": {},
   "outputs": [
    {
     "data": {
      "text/plain": [
       "array([[524, 565],\n",
       "       [517, 926]])"
      ]
     },
     "execution_count": 29,
     "metadata": {},
     "output_type": "execute_result"
    }
   ],
   "source": [
    "confusion_matrix(y_true, y_pred, labels=[0, 1])"
   ]
  },
  {
   "cell_type": "markdown",
   "metadata": {},
   "source": [
    "### logistic regression model"
   ]
  },
  {
   "cell_type": "code",
   "execution_count": 30,
   "metadata": {
    "collapsed": true
   },
   "outputs": [],
   "source": [
    "from pyspark.ml.classification import LogisticRegression\n",
    "lr = LogisticRegression(featuresCol = 'features', labelCol = 'label', maxIter=10)\n",
    "lrModel = lr.fit(train)"
   ]
  },
  {
   "cell_type": "code",
   "execution_count": 31,
   "metadata": {},
   "outputs": [
    {
     "data": {
      "image/png": "[encoded data removed]",
      "text/plain": [
       "<Figure size 432x288 with 1 Axes>"
      ]
     },
     "metadata": {
      "needs_background": "light"
     },
     "output_type": "display_data"
    }
   ],
   "source": [
    "import matplotlib.pyplot as plt\n",
    "import numpy as np\n",
    "beta = np.sort(lrModel.coefficients)\n",
    "plt.plot(beta)\n",
    "plt.ylabel('Beta Coefficients')\n",
    "plt.show()"
   ]
  },
  {
   "cell_type": "markdown",
   "metadata": {},
   "source": [
    "output AUC, F1 and Confusion Matrix"
   ]
  },
  {
   "cell_type": "code",
   "execution_count": 32,
   "metadata": {},
   "outputs": [
    {
     "name": "stdout",
     "output_type": "stream",
     "text": [
      "Test Area Under ROC 0.5433532706259978\n"
     ]
    }
   ],
   "source": [
    "predictions = lrModel.transform(test)\n",
    "from pyspark.ml.evaluation import BinaryClassificationEvaluator\n",
    "evaluator = BinaryClassificationEvaluator()\n",
    "print('Test Area Under ROC', evaluator.evaluate(predictions))"
   ]
  },
  {
   "cell_type": "code",
   "execution_count": 33,
   "metadata": {
    "collapsed": true
   },
   "outputs": [],
   "source": [
    "y_true = predictions.select(['label']).collect()\n",
    "y_pred = predictions.select(['prediction']).collect()"
   ]
  },
  {
   "cell_type": "code",
   "execution_count": 34,
   "metadata": {},
   "outputs": [
    {
     "name": "stdout",
     "output_type": "stream",
     "text": [
      "              precision    recall  f1-score   support\n",
      "\n",
      "           0       0.39      0.01      0.02      1089\n",
      "           1       0.57      0.99      0.72      1443\n",
      "\n",
      "    accuracy                           0.57      2532\n",
      "   macro avg       0.48      0.50      0.37      2532\n",
      "weighted avg       0.49      0.57      0.42      2532\n",
      "\n"
     ]
    },
    {
     "data": {
      "text/plain": [
       "array([[  12, 1077],\n",
       "       [  19, 1424]])"
      ]
     },
     "execution_count": 34,
     "metadata": {},
     "output_type": "execute_result"
    }
   ],
   "source": [
    "from sklearn.metrics import classification_report, confusion_matrix\n",
    "print(classification_report(y_true, y_pred))\n",
    "confusion_matrix(y_true, y_pred, labels=[0, 1])"
   ]
  },
  {
   "cell_type": "markdown",
   "metadata": {},
   "source": [
    "#### We can see LightGBM Classifier again outperforms Logistic Regression Model."
   ]
  }
 ],
 "metadata": {
  "kernelspec": {
   "display_name": "Python 3",
   "language": "python",
   "name": "python3"
  },
  "language_info": {
   "codemirror_mode": {
    "name": "ipython",
    "version": 3
   },
   "file_extension": ".py",
   "mimetype": "text/x-python",
   "name": "python",
   "nbconvert_exporter": "python",
   "pygments_lexer": "ipython3",
   "version": "3.6.1"
  }
 },
 "nbformat": 4,
 "nbformat_minor": 4
}
