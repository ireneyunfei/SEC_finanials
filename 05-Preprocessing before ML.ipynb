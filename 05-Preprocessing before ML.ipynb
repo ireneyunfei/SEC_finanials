{
 "cells": [
  {
   "cell_type": "markdown",
   "metadata": {},
   "source": [
    "## Data Preprocessing"
   ]
  },
  {
   "cell_type": "code",
   "execution_count": 1,
   "metadata": {},
   "outputs": [],
   "source": [
    "import findspark\n",
    "findspark.init()"
   ]
  },
  {
   "cell_type": "code",
   "execution_count": 2,
   "metadata": {},
   "outputs": [
    {
     "data": {
      "text/html": [
       "\n",
       "            <div>\n",
       "                <p><b>SparkSession - in-memory</b></p>\n",
       "                \n",
       "        <div>\n",
       "            <p><b>SparkContext</b></p>\n",
       "\n",
       "            <p><a href=\"http://ip-172-31-35-117.ec2.internal:4041\">Spark UI</a></p>\n",
       "\n",
       "            <dl>\n",
       "              <dt>Version</dt>\n",
       "                <dd><code>v2.4.4</code></dd>\n",
       "              <dt>Master</dt>\n",
       "                <dd><code>yarn</code></dd>\n",
       "              <dt>AppName</dt>\n",
       "                <dd><code>abc</code></dd>\n",
       "            </dl>\n",
       "        </div>\n",
       "        \n",
       "            </div>\n",
       "        "
      ],
      "text/plain": [
       "<pyspark.sql.session.SparkSession at 0x7faf800cf4d0>"
      ]
     },
     "execution_count": 2,
     "metadata": {},
     "output_type": "execute_result"
    }
   ],
   "source": [
    "from pyspark.sql import SparkSession\n",
    "spark = SparkSession.builder.appName('abc').getOrCreate()\n",
    "spark"
   ]
  },
  {
   "cell_type": "code",
   "execution_count": 54,
   "metadata": {},
   "outputs": [],
   "source": [
    "df = spark.read.parquet('s3://sec-finc/pivot_data_vpq/')"
   ]
  },
  {
   "cell_type": "code",
   "execution_count": 5,
   "metadata": {},
   "outputs": [
    {
     "data": {
      "text/plain": [
       "(477717, 45)"
      ]
     },
     "execution_count": 5,
     "metadata": {},
     "output_type": "execute_result"
    }
   ],
   "source": [
    "df.count(), len(df.columns)"
   ]
  },
  {
   "cell_type": "markdown",
   "metadata": {},
   "source": [
    "drop two columns filled with null values"
   ]
  },
  {
   "cell_type": "code",
   "execution_count": 8,
   "metadata": {},
   "outputs": [],
   "source": [
    "df = df.drop('segment_label')\n",
    "df = df.drop('segment_hash')"
   ]
  },
  {
   "cell_type": "code",
   "execution_count": 9,
   "metadata": {},
   "outputs": [],
   "source": [
    "from pyspark.sql.functions import isnan, count, when, col, isnull"
   ]
  },
  {
   "cell_type": "code",
   "execution_count": 10,
   "metadata": {},
   "outputs": [],
   "source": [
    "col = ['cik',\n",
    " 'company_name',\n",
    " 'assigned_sic',\n",
    " 'accession_number_int',\n",
    " 'document_fiscal_year_focus',\n",
    " 'datapoint_label',\n",
    " 'statement_type',\n",
    " 'CostOfGoodsAndServicesSold',\n",
    " 'CostOfGoodsSold',\n",
    " 'CostOfServices',\n",
    " 'EarningsPerShareBasic',\n",
    " 'EarningsPerShareDiluted',\n",
    " 'GainLossOnDispositionOfAssets',\n",
    " 'GeneralAndAdministrativeExpense',\n",
    " 'IncomeTaxesPaid',\n",
    " 'IncreaseDecreaseInAccountsPayable',\n",
    " 'IncreaseDecreaseInAccountsReceivable',\n",
    " 'IncreaseDecreaseInAccruedLiabilities',\n",
    " 'IncreaseDecreaseInInventories',\n",
    " 'LaborAndRelatedExpense',\n",
    " 'NetCashProvidedByUsedInFinancingActivities',\n",
    " 'NetCashProvidedByUsedInFinancingActivitiesContinuingOperations',\n",
    " 'NetCashProvidedByUsedInInvestingActivities',\n",
    " 'NetCashProvidedByUsedInInvestingActivitiesContinuingOperations',\n",
    " 'NetCashProvidedByUsedInOperatingActivities',\n",
    " 'NetCashProvidedByUsedInOperatingActivitiesContinuingOperations',\n",
    " 'NetIncomeLoss',\n",
    " 'OperatingExpenses',\n",
    " 'OperatingIncomeLoss',\n",
    " 'PaymentsForRepurchaseOfCommonStock',\n",
    " 'PaymentsOfDividends',\n",
    " 'PaymentsOfDividendsCommonStock',\n",
    " 'PaymentsOfFinancingCosts',\n",
    " 'PaymentsToAcquireBusinessesNetOfCashAcquired',\n",
    " 'PaymentsToAcquirePropertyPlantAndEquipment',\n",
    " 'RepaymentsOfLongTermDebt',\n",
    " 'ResearchAndDevelopmentExpense',\n",
    " 'Revenues',\n",
    " 'SellingAndMarketingExpense',\n",
    " 'ShareBasedCompensation']"
   ]
  },
  {
   "cell_type": "markdown",
   "metadata": {},
   "source": [
    "show number of nulls in each columns"
   ]
  },
  {
   "cell_type": "code",
   "execution_count": 11,
   "metadata": {},
   "outputs": [
    {
     "name": "stdout",
     "output_type": "stream",
     "text": [
      "+---+------------+------------+--------------------+--------------------------+---------------+--------------+--------------------------+---------------+--------------+---------------------+-----------------------+-----------------------------+-------------------------------+---------------+---------------------------------+------------------------------------+------------------------------------+-----------------------------+----------------------+------------------------------------------+--------------------------------------------------------------+------------------------------------------+--------------------------------------------------------------+------------------------------------------+--------------------------------------------------------------+-------------+-----------------+-------------------+----------------------------------+-------------------+------------------------------+------------------------+--------------------------------------------+------------------------------------------+------------------------+-----------------------------+--------+--------------------------+----------------------+\n",
      "|cik|company_name|assigned_sic|accession_number_int|document_fiscal_year_focus|datapoint_label|statement_type|CostOfGoodsAndServicesSold|CostOfGoodsSold|CostOfServices|EarningsPerShareBasic|EarningsPerShareDiluted|GainLossOnDispositionOfAssets|GeneralAndAdministrativeExpense|IncomeTaxesPaid|IncreaseDecreaseInAccountsPayable|IncreaseDecreaseInAccountsReceivable|IncreaseDecreaseInAccruedLiabilities|IncreaseDecreaseInInventories|LaborAndRelatedExpense|NetCashProvidedByUsedInFinancingActivities|NetCashProvidedByUsedInFinancingActivitiesContinuingOperations|NetCashProvidedByUsedInInvestingActivities|NetCashProvidedByUsedInInvestingActivitiesContinuingOperations|NetCashProvidedByUsedInOperatingActivities|NetCashProvidedByUsedInOperatingActivitiesContinuingOperations|NetIncomeLoss|OperatingExpenses|OperatingIncomeLoss|PaymentsForRepurchaseOfCommonStock|PaymentsOfDividends|PaymentsOfDividendsCommonStock|PaymentsOfFinancingCosts|PaymentsToAcquireBusinessesNetOfCashAcquired|PaymentsToAcquirePropertyPlantAndEquipment|RepaymentsOfLongTermDebt|ResearchAndDevelopmentExpense|Revenues|SellingAndMarketingExpense|ShareBasedCompensation|\n",
      "+---+------------+------------+--------------------+--------------------------+---------------+--------------+--------------------------+---------------+--------------+---------------------+-----------------------+-----------------------------+-------------------------------+---------------+---------------------------------+------------------------------------+------------------------------------+-----------------------------+----------------------+------------------------------------------+--------------------------------------------------------------+------------------------------------------+--------------------------------------------------------------+------------------------------------------+--------------------------------------------------------------+-------------+-----------------+-------------------+----------------------------------+-------------------+------------------------------+------------------------+--------------------------------------------+------------------------------------------+------------------------+-----------------------------+--------+--------------------------+----------------------+\n",
      "|  0|           0|         126|                   0|                         0|            175|             0|                    473682|         472084|        475319|               458778|                 459634|                       473792|                         461982|         465629|                           462176|                              457177|                              468231|                       462142|                472099|                                    447288|                                                        466878|                                    449343|                                                        466923|                                    446668|                                                        465862|       442620|           462389|             454013|                            464838|             472378|                        469730|                  472875|                                      468075|                                    452117|                  467375|                       469773|  463809|                    473688|                450651|\n",
      "+---+------------+------------+--------------------+--------------------------+---------------+--------------+--------------------------+---------------+--------------+---------------------+-----------------------+-----------------------------+-------------------------------+---------------+---------------------------------+------------------------------------+------------------------------------+-----------------------------+----------------------+------------------------------------------+--------------------------------------------------------------+------------------------------------------+--------------------------------------------------------------+------------------------------------------+--------------------------------------------------------------+-------------+-----------------+-------------------+----------------------------------+-------------------+------------------------------+------------------------+--------------------------------------------+------------------------------------------+------------------------+-----------------------------+--------+--------------------------+----------------------+\n",
      "\n"
     ]
    }
   ],
   "source": [
    "df.select([count(when(isnull(c), c)).alias(c) for c in col]).show()"
   ]
  },
  {
   "cell_type": "markdown",
   "metadata": {},
   "source": [
    "print datatype of each column"
   ]
  },
  {
   "cell_type": "code",
   "execution_count": 12,
   "metadata": {},
   "outputs": [
    {
     "name": "stdout",
     "output_type": "stream",
     "text": [
      "cik IntegerType\n",
      "company_name StringType\n",
      "assigned_sic IntegerType\n",
      "accession_number_int LongType\n",
      "filing_date DateType\n",
      "document_fiscal_year_focus IntegerType\n",
      "datapoint_label StringType\n",
      "start_date DateType\n",
      "end_date DateType\n",
      "statement_type StringType\n",
      "CostOfGoodsAndServicesSold DoubleType\n",
      "CostOfGoodsSold DoubleType\n",
      "CostOfServices DoubleType\n",
      "EarningsPerShareBasic DoubleType\n",
      "EarningsPerShareDiluted DoubleType\n",
      "GainLossOnDispositionOfAssets DoubleType\n",
      "GeneralAndAdministrativeExpense DoubleType\n",
      "IncomeTaxesPaid DoubleType\n",
      "IncreaseDecreaseInAccountsPayable DoubleType\n",
      "IncreaseDecreaseInAccountsReceivable DoubleType\n",
      "IncreaseDecreaseInAccruedLiabilities DoubleType\n",
      "IncreaseDecreaseInInventories DoubleType\n",
      "LaborAndRelatedExpense DoubleType\n",
      "NetCashProvidedByUsedInFinancingActivities DoubleType\n",
      "NetCashProvidedByUsedInFinancingActivitiesContinuingOperations DoubleType\n",
      "NetCashProvidedByUsedInInvestingActivities DoubleType\n",
      "NetCashProvidedByUsedInInvestingActivitiesContinuingOperations DoubleType\n",
      "NetCashProvidedByUsedInOperatingActivities DoubleType\n",
      "NetCashProvidedByUsedInOperatingActivitiesContinuingOperations DoubleType\n",
      "NetIncomeLoss DoubleType\n",
      "OperatingExpenses DoubleType\n",
      "OperatingIncomeLoss DoubleType\n",
      "PaymentsForRepurchaseOfCommonStock DoubleType\n",
      "PaymentsOfDividends DoubleType\n",
      "PaymentsOfDividendsCommonStock DoubleType\n",
      "PaymentsOfFinancingCosts DoubleType\n",
      "PaymentsToAcquireBusinessesNetOfCashAcquired DoubleType\n",
      "PaymentsToAcquirePropertyPlantAndEquipment DoubleType\n",
      "RepaymentsOfLongTermDebt DoubleType\n",
      "ResearchAndDevelopmentExpense DoubleType\n",
      "Revenues DoubleType\n",
      "SellingAndMarketingExpense DoubleType\n",
      "ShareBasedCompensation DoubleType\n"
     ]
    }
   ],
   "source": [
    "for c in df.columns:\n",
    "    print(c, df.schema[c].dataType)"
   ]
  },
  {
   "cell_type": "code",
   "execution_count": 13,
   "metadata": {},
   "outputs": [],
   "source": [
    "from pyspark import sql"
   ]
  },
  {
   "cell_type": "code",
   "execution_count": 14,
   "metadata": {},
   "outputs": [],
   "source": [
    "df.createOrReplaceTempView(\"dfTable\")"
   ]
  },
  {
   "cell_type": "markdown",
   "metadata": {},
   "source": [
    "create a table df_merged, in which each row is the financial data of one company in one fiscal year"
   ]
  },
  {
   "cell_type": "code",
   "execution_count": 15,
   "metadata": {},
   "outputs": [],
   "source": [
    "df_merged = spark.sql(\"select company_name, document_fiscal_year_focus, max(cik) as cik,\\\n",
    "                  max(assigned_sic) as assigned_sic, max(accession_number_int) as accession_number_int, \\\n",
    "                  max(filing_date) as filing_date, max(CostOfGoodsAndServicesSold) as CostOfGoodsAndServicesSold, \\\n",
    "                  max(CostOfGoodsSold) as CostOfGoodsSold, max(CostOfServices) as CostOfServices, max(EarningsPerShareBasic) as EarningsPerShareBasic, \\\n",
    "                  max(EarningsPerShareDiluted) as EarningsPerShareDiluted, max(GainLossOnDispositionOfAssets) as GainLossOnDispositionOfAssets, \\\n",
    "                  max(GeneralAndAdministrativeExpense) as GeneralAndAdministrativeExpense, max(IncomeTaxesPaid) as IncomeTaxesPaid, \\\n",
    "                  max(IncreaseDecreaseInAccountsPayable) as IncreaseDecreaseInAccountsPayable, max(IncreaseDecreaseInAccountsReceivable) as IncreaseDecreaseInAccountsReceivable, \\\n",
    "                  max(IncreaseDecreaseInAccruedLiabilities) as IncreaseDecreaseInAccruedLiabilities, max(IncreaseDecreaseInInventories) as IncreaseDecreaseInInventories, \\\n",
    "                  max(LaborAndRelatedExpense) as LaborAndRelatedExpense, max(NetCashProvidedByUsedInFinancingActivities) as NetCashProvidedByUsedInFinancingActivities, \\\n",
    "                  max(NetCashProvidedByUsedInFinancingActivitiesContinuingOperations) as NetCashProvidedByUsedInFinancingActivitiesContinuingOperations, \\\n",
    "                  max(NetCashProvidedByUsedInInvestingActivities) as NetCashProvidedByUsedInInvestingActivities, \\\n",
    "                  max(NetCashProvidedByUsedInInvestingActivitiesContinuingOperations) as NetCashProvidedByUsedInInvestingActivitiesContinuingOperations, \\\n",
    "                  max(NetCashProvidedByUsedInOperatingActivities) as NetCashProvidedByUsedInOperatingActivities, \\\n",
    "                  max(NetCashProvidedByUsedInOperatingActivitiesContinuingOperations) as NetCashProvidedByUsedInOperatingActivitiesContinuingOperations, max(NetIncomeLoss) as NetIncomeLoss, \\\n",
    "                  max(OperatingExpenses) as OperatingExpenses, max(OperatingIncomeLoss) as OperatingIncomeLoss, max(PaymentsForRepurchaseOfCommonStock) as PaymentsForRepurchaseOfCommonStock, \\\n",
    "                  max(PaymentsOfDividends) as PaymentsOfDividends, max(PaymentsOfDividendsCommonStock) as PaymentsOfDividendsCommonStock, \\\n",
    "                  max(PaymentsOfFinancingCosts) as PaymentsOfFinancingCosts, max(PaymentsToAcquireBusinessesNetOfCashAcquired) as PaymentsToAcquireBusinessesNetOfCashAcquired, \\\n",
    "                  max(PaymentsToAcquirePropertyPlantAndEquipment) as PaymentsToAcquirePropertyPlantAndEquipment, max(RepaymentsOfLongTermDebt) as RepaymentsOfLongTermDebt, \\\n",
    "                  max(ResearchAndDevelopmentExpense) as ResearchAndDevelopmentExpense, max(Revenues) as Revenues, max(SellingAndMarketingExpense) as SellingAndMarketingExpense, \\\n",
    "                  max(ShareBasedCompensation) as ShareBasedCompensation\\\n",
    "                  from dfTable group by company_name, document_fiscal_year_focus\")"
   ]
  },
  {
   "cell_type": "markdown",
   "metadata": {},
   "source": [
    "create another table df_temp which is identical to df_merged table but has one more column \"profit year\""
   ]
  },
  {
   "cell_type": "code",
   "execution_count": 16,
   "metadata": {},
   "outputs": [],
   "source": [
    "df_temp = df_merged.withColumn('profit_year', df_merged['document_fiscal_year_focus']+1)"
   ]
  },
  {
   "cell_type": "code",
   "execution_count": 17,
   "metadata": {},
   "outputs": [],
   "source": [
    "df_merged.createOrReplaceTempView(\"dfMergedTable\")\n",
    "df_temp.createOrReplaceTempView(\"dfTempTable\")"
   ]
  },
  {
   "cell_type": "markdown",
   "metadata": {},
   "source": [
    "join df_temp and df_merged together on condition company names are same and fiscal year and profit year are same"
   ]
  },
  {
   "cell_type": "code",
   "execution_count": 28,
   "metadata": {},
   "outputs": [],
   "source": [
    "df_temp1 = spark.sql(\"select b.cik, b.company_name, b.assigned_sic, b.accession_number_int, b.filing_date, b.CostOfGoodsAndServicesSold, b.CostOfGoodsSold, b.CostOfServices, b.EarningsPerShareBasic, b.EarningsPerShareDiluted, b.GainLossOnDispositionOfAssets, b.GeneralAndAdministrativeExpense, b.IncomeTaxesPaid, b.IncreaseDecreaseInAccountsPayable, b.IncreaseDecreaseInAccountsReceivable, b.IncreaseDecreaseInAccruedLiabilities, b.IncreaseDecreaseInInventories, b.LaborAndRelatedExpense, b.NetCashProvidedByUsedInFinancingActivities, b.NetCashProvidedByUsedInFinancingActivitiesContinuingOperations, b.NetCashProvidedByUsedInInvestingActivities, b.NetCashProvidedByUsedInInvestingActivitiesContinuingOperations, b.NetCashProvidedByUsedInOperatingActivities, b.NetCashProvidedByUsedInOperatingActivitiesContinuingOperations, b.NetIncomeLoss, b.OperatingExpenses, b.OperatingIncomeLoss, b.PaymentsForRepurchaseOfCommonStock, b.PaymentsOfDividends, b.PaymentsOfDividendsCommonStock, b.PaymentsOfFinancingCosts, b.PaymentsToAcquireBusinessesNetOfCashAcquired, b.PaymentsToAcquirePropertyPlantAndEquipment, b.RepaymentsOfLongTermDebt, b.ResearchAndDevelopmentExpense, b.Revenues, b.SellingAndMarketingExpense, b.ShareBasedCompensation, \\\n",
    "                     b.document_fiscal_year_focus as year, b.profit_year, a.OperatingIncomeLoss as profit \\\n",
    "                     from dfMergedTable a inner join dfTempTable b \\\n",
    "                     on a.document_fiscal_year_focus == b.profit_year and a.company_name == b.company_name\")"
   ]
  },
  {
   "cell_type": "code",
   "execution_count": 29,
   "metadata": {},
   "outputs": [
    {
     "name": "stdout",
     "output_type": "stream",
     "text": [
      "+-------+-------------------------------------+------------+--------------------+-----------+--------------------------+---------------+--------------+---------------------+-----------------------+-----------------------------+-------------------------------+---------------+---------------------------------+------------------------------------+------------------------------------+-----------------------------+----------------------+------------------------------------------+--------------------------------------------------------------+------------------------------------------+--------------------------------------------------------------+------------------------------------------+--------------------------------------------------------------+-------------+-----------------+-------------------+----------------------------------+-------------------+------------------------------+------------------------+--------------------------------------------+------------------------------------------+------------------------+-----------------------------+----------+--------------------------+----------------------+----+-----------+----------+\n",
      "|cik    |company_name                         |assigned_sic|accession_number_int|filing_date|CostOfGoodsAndServicesSold|CostOfGoodsSold|CostOfServices|EarningsPerShareBasic|EarningsPerShareDiluted|GainLossOnDispositionOfAssets|GeneralAndAdministrativeExpense|IncomeTaxesPaid|IncreaseDecreaseInAccountsPayable|IncreaseDecreaseInAccountsReceivable|IncreaseDecreaseInAccruedLiabilities|IncreaseDecreaseInInventories|LaborAndRelatedExpense|NetCashProvidedByUsedInFinancingActivities|NetCashProvidedByUsedInFinancingActivitiesContinuingOperations|NetCashProvidedByUsedInInvestingActivities|NetCashProvidedByUsedInInvestingActivitiesContinuingOperations|NetCashProvidedByUsedInOperatingActivities|NetCashProvidedByUsedInOperatingActivitiesContinuingOperations|NetIncomeLoss|OperatingExpenses|OperatingIncomeLoss|PaymentsForRepurchaseOfCommonStock|PaymentsOfDividends|PaymentsOfDividendsCommonStock|PaymentsOfFinancingCosts|PaymentsToAcquireBusinessesNetOfCashAcquired|PaymentsToAcquirePropertyPlantAndEquipment|RepaymentsOfLongTermDebt|ResearchAndDevelopmentExpense|Revenues  |SellingAndMarketingExpense|ShareBasedCompensation|year|profit_year|profit    |\n",
      "+-------+-------------------------------------+------------+--------------------+-----------+--------------------------+---------------+--------------+---------------------+-----------------------+-----------------------------+-------------------------------+---------------+---------------------------------+------------------------------------+------------------------------------+-----------------------------+----------------------+------------------------------------------+--------------------------------------------------------------+------------------------------------------+--------------------------------------------------------------+------------------------------------------+--------------------------------------------------------------+-------------+-----------------+-------------------+----------------------------------+-------------------+------------------------------+------------------------+--------------------------------------------+------------------------------------------+------------------------+-----------------------------+----------+--------------------------+----------------------+----+-----------+----------+\n",
      "|318306 |ABEONA THERAPEUTICS INC.             |2834        |31830613000004      |2013-03-20 |null                      |267000.0       |null          |null                 |null                   |null                         |null                           |null           |null                             |null                                |null                                |43000.0                      |null                  |1904000.0                                 |null                                                          |-13000.0                                  |null                                                          |-3955000.0                                |null                                                          |-1.0532E7    |null             |-4316000.0         |null                              |null               |null                          |null                    |null                                        |13000.0                                   |null                    |2010000.0                    |null      |null                      |390000.0              |2012|2013       |-3804000.0|\n",
      "|1590496|AERKOMM INC.                         |4899        |147793216008603     |2016-02-16 |null                      |6486.0         |null          |null                 |null                   |null                         |null                           |null           |null                             |null                                |-1131.0                             |null                         |null                  |13000.0                                   |null                                                          |null                                      |null                                                          |-37710.0                                  |null                                                          |-36579.0     |40145.0          |-36579.0           |null                              |null               |null                          |null                    |null                                        |null                                      |null                    |null                         |null      |null                      |null                  |2015|2016       |-24613.0  |\n",
      "|1004434|AFFILIATED MANAGERS GROUP, INC.      |6282        |104746913001515     |2013-02-22 |null                      |null           |null          |3.36                 |3.28                   |null                         |null                           |null           |null                             |3.48E7                              |null                                |null                         |7.847E8               |null                                      |1.462E8                                                       |null                                      |-8.023E8                                                      |null                                      |6.332E8                                                       |1.74E8       |1.4051E9         |4.004E8            |6.09E7                            |null               |null                          |1.04E7                  |null                                        |2.0E7                                     |null                    |null                         |null      |null                      |4.76E7                |2012|2013       |6.341E8   |\n",
      "|897077 |ALAMO GROUP INC                      |3523        |89707713000009      |2013-03-11 |4.8489E8                  |null           |null          |2.43                 |2.4                    |null                         |null                           |null           |null                             |-4770000.0                          |null                                |-6932000.0                   |null                  |-9942000.0                                |null                                                          |-4090000.0                                |null                                                          |5.1263E7                                  |null                                                          |2.8903E7     |null             |4.5349E7           |null                              |null               |2854000.0                     |null                    |0.0                                         |4654000.0                                 |null                    |null                         |null      |null                      |940000.0              |2012|2013       |5.0737E7  |\n",
      "|1124804|ALLSCRIPTS HEALTHCARE SOLUTIONS, INC.|7373        |156459017002448     |2017-02-27 |null                      |null           |4.59174E8     |-0.14                |-0.14                  |null                         |null                           |null           |4.0456E7                         |1.7826E7                            |1490000.0                           |null                         |null                  |null                                      |8.65271E8                                                     |null                                      |-1.154006E9                                                   |null                                      |2.69004E8                                                     |-2.5652E7    |null             |5.9771E7           |1.21241E8                         |null               |null                          |null                    |null                                        |3.551E7                                   |null                    |1.87906E8                    |1.549899E9|null                      |4.2877E7              |2016|2017       |4.1917E7  |\n",
      "+-------+-------------------------------------+------------+--------------------+-----------+--------------------------+---------------+--------------+---------------------+-----------------------+-----------------------------+-------------------------------+---------------+---------------------------------+------------------------------------+------------------------------------+-----------------------------+----------------------+------------------------------------------+--------------------------------------------------------------+------------------------------------------+--------------------------------------------------------------+------------------------------------------+--------------------------------------------------------------+-------------+-----------------+-------------------+----------------------------------+-------------------+------------------------------+------------------------+--------------------------------------------+------------------------------------------+------------------------+-----------------------------+----------+--------------------------+----------------------+----+-----------+----------+\n",
      "only showing top 5 rows\n",
      "\n"
     ]
    }
   ],
   "source": [
    "df_temp1.show(5, False)"
   ]
  },
  {
   "cell_type": "code",
   "execution_count": 30,
   "metadata": {},
   "outputs": [
    {
     "data": {
      "text/plain": [
       "31916"
      ]
     },
     "execution_count": 30,
     "metadata": {},
     "output_type": "execute_result"
    }
   ],
   "source": [
    "df_temp1.count()"
   ]
  },
  {
   "cell_type": "code",
   "execution_count": 46,
   "metadata": {},
   "outputs": [],
   "source": [
    "df_temp1.write.parquet(\"s3://502-project-1/data\",mode=\"overwrite\")"
   ]
  }
 ],
 "metadata": {
  "kernelspec": {
   "display_name": "Python 3",
   "language": "python",
   "name": "python3"
  },
  "language_info": {
   "codemirror_mode": {
    "name": "ipython",
    "version": 3
   },
   "file_extension": ".py",
   "mimetype": "text/x-python",
   "name": "python",
   "nbconvert_exporter": "python",
   "pygments_lexer": "ipython3",
   "version": "3.7.6"
  }
 },
 "nbformat": 4,
 "nbformat_minor": 4
}
