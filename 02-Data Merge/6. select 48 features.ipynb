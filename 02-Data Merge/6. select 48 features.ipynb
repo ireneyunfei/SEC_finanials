{
 "cells": [
  {
   "cell_type": "code",
   "execution_count": 1,
   "metadata": {
    "collapsed": true
   },
   "outputs": [],
   "source": [
    "import findspark\n",
    "findspark.init()"
   ]
  },
  {
   "cell_type": "code",
   "execution_count": 2,
   "metadata": {},
   "outputs": [
    {
     "data": {
      "text/html": [
       "\n",
       "            <div>\n",
       "                <p><b>SparkSession - in-memory</b></p>\n",
       "                \n",
       "        <div>\n",
       "            <p><b>SparkContext</b></p>\n",
       "\n",
       "            <p><a href=\"http://ip-172-31-23-125.ec2.internal:4040\">Spark UI</a></p>\n",
       "\n",
       "            <dl>\n",
       "              <dt>Version</dt>\n",
       "                <dd><code>v2.4.4</code></dd>\n",
       "              <dt>Master</dt>\n",
       "                <dd><code>yarn</code></dd>\n",
       "              <dt>AppName</dt>\n",
       "                <dd><code>abc</code></dd>\n",
       "            </dl>\n",
       "        </div>\n",
       "        \n",
       "            </div>\n",
       "        "
      ],
      "text/plain": [
       "<pyspark.sql.session.SparkSession at 0x7f0a5197e450>"
      ]
     },
     "execution_count": 2,
     "metadata": {},
     "output_type": "execute_result"
    }
   ],
   "source": [
    "from pyspark.sql import SparkSession\n",
    "spark = SparkSession.builder.appName('abc').getOrCreate()\n",
    "spark"
   ]
  },
  {
   "cell_type": "markdown",
   "metadata": {},
   "source": [
    "### Read in the merged dataset"
   ]
  },
  {
   "cell_type": "code",
   "execution_count": 4,
   "metadata": {
    "collapsed": true
   },
   "outputs": [],
   "source": [
    "df = spark.read.parquet('s3://sec-finc/annual_statement_data_v1/')"
   ]
  },
  {
   "cell_type": "code",
   "execution_count": 5,
   "metadata": {},
   "outputs": [
    {
     "name": "stdout",
     "output_type": "stream",
     "text": [
      "+-------+--------------------+------------+--------------------+-----------+--------------------------+------------+--------------------+--------------------+----------+----------+------------+------------+-------------+--------+----+---------------------+--------------+--------------------------+------------+-------------+------------+---------+\n",
      "|    cik|        company_name|assigned_sic|accession_number_int|filing_date|document_fiscal_year_focus|datapoint_id|      datapoint_name|     datapoint_label|start_date|  end_date|period_month|string_value|numeric_value|decimals|unit|parent_datapoint_name|statement_type|report_section_description|     version|segment_label|segment_hash|footnotes|\n",
      "+-------+--------------------+------------+--------------------+-----------+--------------------------+------------+--------------------+--------------------+----------+----------+------------+------------+-------------+--------+----+---------------------+--------------+--------------------------+------------+-------------+------------+---------+\n",
      "|1023844|NATIONAL HOLDINGS...|        6200|     143774912008501| 2012-08-14|                      2012|    58473476|    ProfessionalFees|   Professional fees|2012-04-01|2012-06-30|           3|      803000|     803000.0|       0| USD| OperatingExpenses...|             I|      Statement - Conde...|us-gaap/2012|         null|        null|     null|\n",
      "|1023844|NATIONAL HOLDINGS...|        6200|     143774912008501| 2012-08-14|                      2012|    58473478|    ProfessionalFees|   Professional fees|2011-10-01|2012-06-30|           9|     1979000|    1979000.0|       0| USD| OperatingExpenses...|             I|      Statement - Conde...|us-gaap/2012|         null|        null|     null|\n",
      "|1023844|NATIONAL HOLDINGS...|        6200|     143774912008501| 2012-08-14|                      2012|    58473550|IncreaseDecreaseI...|Receivables from ...|2011-10-01|2012-06-30|           9|      196000|     196000.0|       0| USD| ChangesInAssetsAn...|             C|      Statement - Conde...|us-gaap/2012|         null|        null|     null|\n",
      "|1023844|NATIONAL HOLDINGS...|        6200|     143774912008501| 2012-08-14|                      2012|    58473479|    ProfessionalFees|   Professional fees|2010-10-01|2011-06-30|           9|     1399000|    1399000.0|       0| USD| OperatingExpenses...|             I|      Statement - Conde...|us-gaap/2012|         null|        null|     null|\n",
      "|1023844|NATIONAL HOLDINGS...|        6200|     143774912008501| 2012-08-14|                      2012|    58473477|    ProfessionalFees|   Professional fees|2011-04-01|2011-06-30|           3|      410000|     410000.0|       0| USD| OperatingExpenses...|             I|      Statement - Conde...|us-gaap/2012|         null|        null|     null|\n",
      "|1023844|NATIONAL HOLDINGS...|        6200|     143774912008501| 2012-08-14|                      2012|    58473551|IncreaseDecreaseI...|Receivables from ...|2010-10-01|2011-06-30|           9|       18000|      18000.0|       0| USD| ChangesInAssetsAn...|             C|      Statement - Conde...|us-gaap/2012|         null|        null|     null|\n",
      "|1023844|NATIONAL HOLDINGS...|        6200|     143774912008501| 2012-08-14|                      2012|    58473482|     InterestExpense|            Interest|2011-10-01|2012-06-30|           9|      764000|     764000.0|       0| USD| OperatingExpenses...|             I|      Statement - Conde...|us-gaap/2012|         null|        null|     null|\n",
      "|1023844|NATIONAL HOLDINGS...|        6200|     143774912008501| 2012-08-14|                      2012|    58473480|     InterestExpense|            Interest|2012-04-01|2012-06-30|           3|      213000|     213000.0|       0| USD| OperatingExpenses...|             I|      Statement - Conde...|us-gaap/2012|         null|        null|     null|\n",
      "|1023844|NATIONAL HOLDINGS...|        6200|     143774912008501| 2012-08-14|                      2012|    58473552|IncreaseDecreaseI...|   Other receivables|2011-10-01|2012-06-30|           9|      779000|     779000.0|       0| USD| ChangesInAssetsAn...|             C|      Statement - Conde...|us-gaap/2012|         null|        null|     null|\n",
      "|1023844|NATIONAL HOLDINGS...|        6200|     143774912008501| 2012-08-14|                      2012|    58473483|     InterestExpense|            Interest|2010-10-01|2011-06-30|           9|      864000|     864000.0|       0| USD| OperatingExpenses...|             I|      Statement - Conde...|us-gaap/2012|         null|        null|     null|\n",
      "+-------+--------------------+------------+--------------------+-----------+--------------------------+------------+--------------------+--------------------+----------+----------+------------+------------+-------------+--------+----+---------------------+--------------+--------------------------+------------+-------------+------------+---------+\n",
      "only showing top 10 rows\n",
      "\n"
     ]
    }
   ],
   "source": [
    "df.show(10)"
   ]
  },
  {
   "cell_type": "code",
   "execution_count": 8,
   "metadata": {
    "collapsed": true
   },
   "outputs": [],
   "source": [
    "#df.write.parquet(\"s3://sec-finc/annual_statement_data_v3\")"
   ]
  },
  {
   "cell_type": "code",
   "execution_count": 6,
   "metadata": {},
   "outputs": [
    {
     "data": {
      "text/plain": [
       "DataFrame[cik: int, company_name: string, assigned_sic: int, accession_number_int: bigint, filing_date: date, document_fiscal_year_focus: int, datapoint_id: bigint, datapoint_name: string, datapoint_label: string, start_date: date, end_date: date, period_month: bigint, string_value: string, numeric_value: double, decimals: int, unit: string, parent_datapoint_name: string, statement_type: string, report_section_description: string, version: string, segment_label: string, segment_hash: string, footnotes: string]"
      ]
     },
     "execution_count": 6,
     "metadata": {},
     "output_type": "execute_result"
    }
   ],
   "source": [
    "df.cache()"
   ]
  },
  {
   "cell_type": "markdown",
   "metadata": {},
   "source": [
    "### select 48 features as we needed"
   ]
  },
  {
   "cell_type": "code",
   "execution_count": 7,
   "metadata": {
    "collapsed": true
   },
   "outputs": [],
   "source": [
    "df.createOrReplaceTempView('SelectedDF')"
   ]
  },
  {
   "cell_type": "code",
   "execution_count": 8,
   "metadata": {
    "collapsed": true
   },
   "outputs": [],
   "source": [
    "SelectedDF1 = spark.sql('''\n",
    "    SELECT *\n",
    "    FROM SelectedDF\n",
    "    WHERE datapoint_name in ('CashAndCashEquivalentsAtCarryingValue', 'NetIncomeLoss', 'OperatingIncomeLoss', 'Revenues', \n",
    "    'SalesRevenueNet ', 'CostOfRevenue ', 'EarningsPerShareBasic', 'EarningsPerShareDiluted', \n",
    "    'NetCashProvidedByUsedInOperatingActivities', 'NetCashProvidedByUsedInFinancingActivities', \n",
    "    'NetCashProvidedByUsedInInvestingActivities', 'NetCashProvidedByUsedInOperatingActivitiesContinuingOperations', \n",
    "    'NetCashProvidedByUsedInFinancingActivitiesContinuingOperations', 'NetCashProvidedByUsedInInvestingActivitiesContinuingOperations', \n",
    "    'ShareBasedCompensation', 'PaymentsToAcquirePropertyPlantAndEquipment', 'OperatingExpenses', 'GeneralAndAdministrativeExpense', \n",
    "    'SellingGeneralAndAdministrativeExpense ', 'SellingAndMarketingExpense', 'IncomeTaxesPaid', 'ResearchAndDevelopmentExpense', \n",
    "    'PaymentsForRepurchaseOfCommonStock', 'CostOfGoodsSold', 'CostOfGoodsAndServicesSold', 'CostOfServices', 'RepaymentsOfLongTermDebt', \n",
    "    'PaymentsToAcquireBusinessesNetOfCashAcquired', 'PaymentsOfDividendsCommonStock', 'PaymentsOfDividends', 'LaborAndRelatedExpense', \n",
    "    'PaymentsOfFinancingCosts', 'IncreaseDecreaseInAccountsReceivable', 'AccountsReceivableNetCurrent', 'IncreaseDecreaseInInventories', \n",
    "    'IncreaseDecreaseInAccruedLiabilities', 'IncreaseDecreaseInAccountsPayable', 'LiabilitiesCurrent', 'Liabilities', \n",
    "    'AccountsPayableCurrent', 'StockholdersEquity', 'Assets', 'AssetsCurrent', 'GainLossOnDispositionOfAssets', \n",
    "    'CommonStockValue', 'PreferredStockValue', 'Goodwill', 'PropertyPlantAndEquipmentNet')\n",
    "''')"
   ]
  },
  {
   "cell_type": "code",
   "execution_count": 9,
   "metadata": {},
   "outputs": [
    {
     "name": "stdout",
     "output_type": "stream",
     "text": [
      "+-------+--------------------+------------+--------------------+-----------+--------------------------+------------+--------------------+--------------------+----------+----------+------------+------------+-------------+--------+----+---------------------+--------------+--------------------------+------------+-------------+------------+---------+\n",
      "|    cik|        company_name|assigned_sic|accession_number_int|filing_date|document_fiscal_year_focus|datapoint_id|      datapoint_name|     datapoint_label|start_date|  end_date|period_month|string_value|numeric_value|decimals|unit|parent_datapoint_name|statement_type|report_section_description|     version|segment_label|segment_hash|footnotes|\n",
      "+-------+--------------------+------------+--------------------+-----------+--------------------------+------------+--------------------+--------------------+----------+----------+------------+------------+-------------+--------+----+---------------------+--------------+--------------------------+------------+-------------+------------+---------+\n",
      "|1023844|NATIONAL HOLDINGS...|        6200|     143774912008501| 2012-08-14|                      2012|    58473490|   OperatingExpenses|Total Operating E...|2011-10-01|2012-06-30|           9|    90763000|     9.0763E7|       0| USD|   StatementLineItems|             I|      Statement - Conde...|us-gaap/2012|         null|        null|     null|\n",
      "|1023844|NATIONAL HOLDINGS...|        6200|     143774912008501| 2012-08-14|                      2012|    58473488|   OperatingExpenses|Total Operating E...|2012-04-01|2012-06-30|           3|    30420000|      3.042E7|       0| USD|   StatementLineItems|             I|      Statement - Conde...|us-gaap/2012|         null|        null|     null|\n",
      "|1023844|NATIONAL HOLDINGS...|        6200|     143774912008501| 2012-08-14|                      2012|    58473489|   OperatingExpenses|Total Operating E...|2011-04-01|2011-06-30|           3|    32387000|     3.2387E7|       0| USD|   StatementLineItems|             I|      Statement - Conde...|us-gaap/2012|         null|        null|     null|\n",
      "|1023844|NATIONAL HOLDINGS...|        6200|     143774912008501| 2012-08-14|                      2012|    58473491|   OperatingExpenses|Total Operating E...|2010-10-01|2011-06-30|           9|   101469000|    1.01469E8|       0| USD|   StatementLineItems|             I|      Statement - Conde...|us-gaap/2012|         null|        null|     null|\n",
      "|1023844|NATIONAL HOLDINGS...|        6200|     143774912008501| 2012-08-14|                      2012|    58473494| OperatingIncomeLoss|Net Income (Loss)...|2011-10-01|2012-06-30|           9|    -1066000|   -1066000.0|       0| USD|   StatementLineItems|             I|      Statement - Conde...|us-gaap/2012|         null|        null|     null|\n",
      "|1023844|NATIONAL HOLDINGS...|        6200|     143774912008501| 2012-08-14|                      2012|    58473492| OperatingIncomeLoss|Net Income (Loss)...|2012-04-01|2012-06-30|           3|      670000|     670000.0|       0| USD|   StatementLineItems|             I|      Statement - Conde...|us-gaap/2012|         null|        null|     null|\n",
      "|1023844|NATIONAL HOLDINGS...|        6200|     143774912008501| 2012-08-14|                      2012|    58473493| OperatingIncomeLoss|Net Income (Loss)...|2011-04-01|2011-06-30|           3|     -347000|    -347000.0|       0| USD|   StatementLineItems|             I|      Statement - Conde...|us-gaap/2012|         null|        null|     null|\n",
      "|1023844|NATIONAL HOLDINGS...|        6200|     143774912008501| 2012-08-14|                      2012|    58473495| OperatingIncomeLoss|Net Income (Loss)...|2010-10-01|2011-06-30|           9|     -802000|    -802000.0|       0| USD|   StatementLineItems|             I|      Statement - Conde...|us-gaap/2012|         null|        null|     null|\n",
      "|1023844|NATIONAL HOLDINGS...|        6200|     143774912008501| 2012-08-14|                      2012|    58473566|NetCashProvidedBy...|Net cash used in ...|2011-10-01|2012-06-30|           9|     -388000|    -388000.0|       0| USD| CashFlowsFromOper...|             C|      Statement - Conde...|us-gaap/2012|         null|        null|     null|\n",
      "|1023844|NATIONAL HOLDINGS...|        6200|     143774912008501| 2012-08-14|                      2012|    58473567|NetCashProvidedBy...|Net cash used in ...|2010-10-01|2011-06-30|           9|      406000|     406000.0|       0| USD| CashFlowsFromOper...|             C|      Statement - Conde...|us-gaap/2012|         null|        null|     null|\n",
      "+-------+--------------------+------------+--------------------+-----------+--------------------------+------------+--------------------+--------------------+----------+----------+------------+------------+-------------+--------+----+---------------------+--------------+--------------------------+------------+-------------+------------+---------+\n",
      "only showing top 10 rows\n",
      "\n"
     ]
    }
   ],
   "source": [
    "SelectedDF1.show(10)"
   ]
  },
  {
   "cell_type": "markdown",
   "metadata": {},
   "source": [
    "### save the dataset with selected features"
   ]
  },
  {
   "cell_type": "code",
   "execution_count": 3,
   "metadata": {
    "collapsed": true
   },
   "outputs": [],
   "source": [
    "SelectedDF.write.parquet('s3://sec-finc/uploaded/')"
   ]
  },
  {
   "cell_type": "markdown",
   "metadata": {},
   "source": [
    "### check final number of companies"
   ]
  },
  {
   "cell_type": "code",
   "execution_count": 16,
   "metadata": {
    "collapsed": true
   },
   "outputs": [],
   "source": [
    "SelectedDF.createOrReplaceTempView('SelectedDF')\n",
    "comp = spark.sql('''\n",
    "SELECT COUNT (DISTINCT company_name)\n",
    "FROM SelectedDF\n",
    "''')"
   ]
  },
  {
   "cell_type": "code",
   "execution_count": 17,
   "metadata": {},
   "outputs": [
    {
     "name": "stdout",
     "output_type": "stream",
     "text": [
      "+----------------------------+\n",
      "|count(DISTINCT company_name)|\n",
      "+----------------------------+\n",
      "|                        8293|\n",
      "+----------------------------+\n",
      "\n"
     ]
    }
   ],
   "source": [
    "comp.show()"
   ]
  }
 ],
 "metadata": {
  "kernelspec": {
   "display_name": "Python 3",
   "language": "python",
   "name": "python3"
  },
  "language_info": {
   "codemirror_mode": {
    "name": "ipython",
    "version": 3
   },
   "file_extension": ".py",
   "mimetype": "text/x-python",
   "name": "python",
   "nbconvert_exporter": "python",
   "pygments_lexer": "ipython3",
   "version": "3.6.1"
  }
 },
 "nbformat": 4,
 "nbformat_minor": 4
}
