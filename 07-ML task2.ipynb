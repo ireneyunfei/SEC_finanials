{
 "cells": [
  {
   "cell_type": "code",
   "execution_count": 1,
   "metadata": {},
   "outputs": [
    {
     "data": {
      "text/html": [
       "\n",
       "            <div>\n",
       "                <p><b>SparkSession - in-memory</b></p>\n",
       "                \n",
       "        <div>\n",
       "            <p><b>SparkContext</b></p>\n",
       "\n",
       "            <p><a href=\"http://ip-172-31-24-176.ec2.internal:4040\">Spark UI</a></p>\n",
       "\n",
       "            <dl>\n",
       "              <dt>Version</dt>\n",
       "                <dd><code>v2.4.4</code></dd>\n",
       "              <dt>Master</dt>\n",
       "                <dd><code>yarn</code></dd>\n",
       "              <dt>AppName</dt>\n",
       "                <dd><code>abc</code></dd>\n",
       "            </dl>\n",
       "        </div>\n",
       "        \n",
       "            </div>\n",
       "        "
      ],
      "text/plain": [
       "<pyspark.sql.session.SparkSession at 0x7fc4101b7b10>"
      ]
     },
     "execution_count": 1,
     "metadata": {},
     "output_type": "execute_result"
    }
   ],
   "source": [
    "import findspark\n",
    "findspark.init()\n",
    "from pyspark.sql import SparkSession\n",
    "spark = SparkSession.builder.appName('abc').config(\"spark.jars.packages\", \"com.microsoft.ml.spark:mmlspark_2.11:1.0.0-rc1\").config(\"spark.jars.repositories\", \"https://mmlspark.azureedge.net/maven\").getOrCreate()\n",
    "spark"
   ]
  },
  {
   "cell_type": "markdown",
   "metadata": {},
   "source": [
    "## This notebook built a ml model to predict industry according to the financial performance\n",
    "### read in the dataset and print schema"
   ]
  },
  {
   "cell_type": "code",
   "execution_count": 6,
   "metadata": {},
   "outputs": [
    {
     "name": "stdout",
     "output_type": "stream",
     "text": [
      "root\n",
      " |-- company_name: string (nullable = true)\n",
      " |-- assigned_sic: integer (nullable = true)\n",
      " |-- document_fiscal_year_focus: integer (nullable = true)\n",
      " |-- CostOfGoodsAndServicesSold: double (nullable = true)\n",
      " |-- CostOfGoodsSold: double (nullable = true)\n",
      " |-- CostOfServices: double (nullable = true)\n",
      " |-- EarningsPerShareBasic: double (nullable = true)\n",
      " |-- EarningsPerShareDiluted: double (nullable = true)\n",
      " |-- GainLossOnDispositionOfAssets: double (nullable = true)\n",
      " |-- GeneralAndAdministrativeExpense: double (nullable = true)\n",
      " |-- IncomeTaxesPaid: double (nullable = true)\n",
      " |-- IncreaseDecreaseInAccountsPayable: double (nullable = true)\n",
      " |-- IncreaseDecreaseInAccountsReceivable: double (nullable = true)\n",
      " |-- IncreaseDecreaseInAccruedLiabilities: double (nullable = true)\n",
      " |-- IncreaseDecreaseInInventories: double (nullable = true)\n",
      " |-- LaborAndRelatedExpense: double (nullable = true)\n",
      " |-- NetCashProvidedByUsedInFinancingActivities: double (nullable = true)\n",
      " |-- NetCashProvidedByUsedInFinancingActivitiesContinuingOperations: double (nullable = true)\n",
      " |-- NetCashProvidedByUsedInInvestingActivities: double (nullable = true)\n",
      " |-- NetCashProvidedByUsedInInvestingActivitiesContinuingOperations: double (nullable = true)\n",
      " |-- NetCashProvidedByUsedInOperatingActivities: double (nullable = true)\n",
      " |-- NetCashProvidedByUsedInOperatingActivitiesContinuingOperations: double (nullable = true)\n",
      " |-- NetIncomeLoss: double (nullable = true)\n",
      " |-- OperatingExpenses: double (nullable = true)\n",
      " |-- OperatingIncomeLoss: double (nullable = true)\n",
      " |-- PaymentsForRepurchaseOfCommonStock: double (nullable = true)\n",
      " |-- PaymentsOfDividends: double (nullable = true)\n",
      " |-- PaymentsOfDividendsCommonStock: double (nullable = true)\n",
      " |-- PaymentsOfFinancingCosts: double (nullable = true)\n",
      " |-- PaymentsToAcquireBusinessesNetOfCashAcquired: double (nullable = true)\n",
      " |-- PaymentsToAcquirePropertyPlantAndEquipment: double (nullable = true)\n",
      " |-- RepaymentsOfLongTermDebt: double (nullable = true)\n",
      " |-- ResearchAndDevelopmentExpense: double (nullable = true)\n",
      " |-- Revenues: double (nullable = true)\n",
      " |-- SellingAndMarketingExpense: double (nullable = true)\n",
      " |-- ShareBasedCompensation: double (nullable = true)\n",
      "\n"
     ]
    }
   ],
   "source": [
    "df = spark.read.parquet('s3://sec-finc/pivot_data_vfinal/')\n",
    "df.printSchema()\n",
    "df = df.na.drop(subset=['NetIncomeLoss'])"
   ]
  },
  {
   "cell_type": "markdown",
   "metadata": {},
   "source": [
    "### fill missing value"
   ]
  },
  {
   "cell_type": "code",
   "execution_count": 7,
   "metadata": {},
   "outputs": [
    {
     "name": "stdout",
     "output_type": "stream",
     "text": [
      "+------------+------------+--------------------------+--------------------------+---------------+--------------+---------------------+-----------------------+-----------------------------+-------------------------------+---------------+---------------------------------+------------------------------------+------------------------------------+-----------------------------+----------------------+------------------------------------------+--------------------------------------------------------------+------------------------------------------+--------------------------------------------------------------+------------------------------------------+--------------------------------------------------------------+-------------+-----------------+-------------------+----------------------------------+-------------------+------------------------------+------------------------+--------------------------------------------+------------------------------------------+------------------------+-----------------------------+--------+--------------------------+----------------------+\n",
      "|company_name|assigned_sic|document_fiscal_year_focus|CostOfGoodsAndServicesSold|CostOfGoodsSold|CostOfServices|EarningsPerShareBasic|EarningsPerShareDiluted|GainLossOnDispositionOfAssets|GeneralAndAdministrativeExpense|IncomeTaxesPaid|IncreaseDecreaseInAccountsPayable|IncreaseDecreaseInAccountsReceivable|IncreaseDecreaseInAccruedLiabilities|IncreaseDecreaseInInventories|LaborAndRelatedExpense|NetCashProvidedByUsedInFinancingActivities|NetCashProvidedByUsedInFinancingActivitiesContinuingOperations|NetCashProvidedByUsedInInvestingActivities|NetCashProvidedByUsedInInvestingActivitiesContinuingOperations|NetCashProvidedByUsedInOperatingActivities|NetCashProvidedByUsedInOperatingActivitiesContinuingOperations|NetIncomeLoss|OperatingExpenses|OperatingIncomeLoss|PaymentsForRepurchaseOfCommonStock|PaymentsOfDividends|PaymentsOfDividendsCommonStock|PaymentsOfFinancingCosts|PaymentsToAcquireBusinessesNetOfCashAcquired|PaymentsToAcquirePropertyPlantAndEquipment|RepaymentsOfLongTermDebt|ResearchAndDevelopmentExpense|Revenues|SellingAndMarketingExpense|ShareBasedCompensation|\n",
      "+------------+------------+--------------------------+--------------------------+---------------+--------------+---------------------+-----------------------+-----------------------------+-------------------------------+---------------+---------------------------------+------------------------------------+------------------------------------+-----------------------------+----------------------+------------------------------------------+--------------------------------------------------------------+------------------------------------------+--------------------------------------------------------------+------------------------------------------+--------------------------------------------------------------+-------------+-----------------+-------------------+----------------------------------+-------------------+------------------------------+------------------------+--------------------------------------------+------------------------------------------+------------------------+-----------------------------+--------+--------------------------+----------------------+\n",
      "|           0|           9|                         0|                     31082|          29644|         32643|                18266|                  18932|                        31849|                          21030|          25895|                            21730|                               18101|                               26773|                        21729|                 29831|                                      9778|                                                         26405|                                     11605|                                                         26454|                                      8644|                                                         25396|            0|            21308|              13728|                             25611|              30343|                         28472|                   31579|                                       28449|                                     13858|                   27151|                        27706|   23163|                     31104|                 12512|\n",
      "+------------+------------+--------------------------+--------------------------+---------------+--------------+---------------------+-----------------------+-----------------------------+-------------------------------+---------------+---------------------------------+------------------------------------+------------------------------------+-----------------------------+----------------------+------------------------------------------+--------------------------------------------------------------+------------------------------------------+--------------------------------------------------------------+------------------------------------------+--------------------------------------------------------------+-------------+-----------------+-------------------+----------------------------------+-------------------+------------------------------+------------------------+--------------------------------------------+------------------------------------------+------------------------+-----------------------------+--------+--------------------------+----------------------+\n",
      "\n"
     ]
    }
   ],
   "source": [
    "from pyspark.sql.functions import isnan, count, when, col, isnull\n",
    "df.select([count(when(isnull(c), c)).alias(c) for c in df.columns]).show()\n",
    "df = df.na.fill(0)"
   ]
  },
  {
   "cell_type": "markdown",
   "metadata": {},
   "source": [
    "The Standard Industrial Classification (SIC) is a system for classifying industries by a four-digit code.\n",
    "There are 10 sectors of industry. For simplification, we categorized them into 2 groups: *1). agriculture and manufacturing, and 2). sales and services.* The first group includes Agriculture, Forestry and Fishing; Mining; Construction; Manufacturing; Transportation, Communications, Electric, Gas and Sanitary service. The second group contains Wholesale Trade; Retail Trade; Finance, Insurance and Real Estate; Services; Public Administration."
   ]
  },
  {
   "cell_type": "code",
   "execution_count": 118,
   "metadata": {},
   "outputs": [],
   "source": [
    "df.createOrReplaceTempView(\"dfTable\")\n",
    "inc = spark.sql('''\n",
    "select *, CASE \\\n",
    "    when assigned_sic >=100 and assigned_sic<5000 then 1 \\\n",
    "    when assigned_sic>=5000 then 2 \\\n",
    "    else null end as industry_label from dfTable\n",
    "''')"
   ]
  },
  {
   "cell_type": "markdown",
   "metadata": {},
   "source": [
    "### add the label"
   ]
  },
  {
   "cell_type": "code",
   "execution_count": 119,
   "metadata": {},
   "outputs": [],
   "source": [
    "from pyspark.sql.types import *\n",
    "inc = inc.withColumn(\"industry_label\", inc[\"industry_label\"].cast(StringType()))"
   ]
  },
  {
   "cell_type": "code",
   "execution_count": 120,
   "metadata": {},
   "outputs": [
    {
     "name": "stdout",
     "output_type": "stream",
     "text": [
      "+--------------+-----+\n",
      "|industry_label|count|\n",
      "+--------------+-----+\n",
      "|          null|    9|\n",
      "|             1|17448|\n",
      "|             2|17271|\n",
      "+--------------+-----+\n",
      "\n"
     ]
    }
   ],
   "source": [
    "inc.select(\"industry_label\").groupby(\"industry_label\").count().show()"
   ]
  },
  {
   "cell_type": "markdown",
   "metadata": {},
   "source": [
    "### drop where response is missing"
   ]
  },
  {
   "cell_type": "code",
   "execution_count": 121,
   "metadata": {},
   "outputs": [],
   "source": [
    "inc = inc.na.drop(subset=['industry_label'])"
   ]
  },
  {
   "cell_type": "code",
   "execution_count": 122,
   "metadata": {},
   "outputs": [
    {
     "data": {
      "text/plain": [
       "[('company_name', 'string'),\n",
       " ('assigned_sic', 'int'),\n",
       " ('document_fiscal_year_focus', 'int'),\n",
       " ('CostOfGoodsAndServicesSold', 'double'),\n",
       " ('CostOfGoodsSold', 'double'),\n",
       " ('CostOfServices', 'double'),\n",
       " ('EarningsPerShareBasic', 'double'),\n",
       " ('EarningsPerShareDiluted', 'double'),\n",
       " ('GainLossOnDispositionOfAssets', 'double'),\n",
       " ('GeneralAndAdministrativeExpense', 'double'),\n",
       " ('IncomeTaxesPaid', 'double'),\n",
       " ('IncreaseDecreaseInAccountsPayable', 'double'),\n",
       " ('IncreaseDecreaseInAccountsReceivable', 'double'),\n",
       " ('IncreaseDecreaseInAccruedLiabilities', 'double'),\n",
       " ('IncreaseDecreaseInInventories', 'double'),\n",
       " ('LaborAndRelatedExpense', 'double'),\n",
       " ('NetCashProvidedByUsedInFinancingActivities', 'double'),\n",
       " ('NetCashProvidedByUsedInFinancingActivitiesContinuingOperations', 'double'),\n",
       " ('NetCashProvidedByUsedInInvestingActivities', 'double'),\n",
       " ('NetCashProvidedByUsedInInvestingActivitiesContinuingOperations', 'double'),\n",
       " ('NetCashProvidedByUsedInOperatingActivities', 'double'),\n",
       " ('NetCashProvidedByUsedInOperatingActivitiesContinuingOperations', 'double'),\n",
       " ('NetIncomeLoss', 'double'),\n",
       " ('OperatingExpenses', 'double'),\n",
       " ('OperatingIncomeLoss', 'double'),\n",
       " ('PaymentsForRepurchaseOfCommonStock', 'double'),\n",
       " ('PaymentsOfDividends', 'double'),\n",
       " ('PaymentsOfDividendsCommonStock', 'double'),\n",
       " ('PaymentsOfFinancingCosts', 'double'),\n",
       " ('PaymentsToAcquireBusinessesNetOfCashAcquired', 'double'),\n",
       " ('PaymentsToAcquirePropertyPlantAndEquipment', 'double'),\n",
       " ('RepaymentsOfLongTermDebt', 'double'),\n",
       " ('ResearchAndDevelopmentExpense', 'double'),\n",
       " ('Revenues', 'double'),\n",
       " ('SellingAndMarketingExpense', 'double'),\n",
       " ('ShareBasedCompensation', 'double'),\n",
       " ('industry_label', 'string')]"
      ]
     },
     "execution_count": 122,
     "metadata": {},
     "output_type": "execute_result"
    }
   ],
   "source": [
    "inc.dtypes"
   ]
  },
  {
   "cell_type": "markdown",
   "metadata": {},
   "source": [
    "### encode categorical variable to numerical"
   ]
  },
  {
   "cell_type": "code",
   "execution_count": 123,
   "metadata": {},
   "outputs": [],
   "source": [
    "from pyspark.ml.feature import VectorAssembler,StringIndexer, IndexToString\n",
    "# convert stings to numerical\n",
    "indexer1 = StringIndexer(inputCol=\"industry_label\", outputCol=\"industry_label_n\",handleInvalid=\"skip\")"
   ]
  },
  {
   "cell_type": "code",
   "execution_count": 134,
   "metadata": {},
   "outputs": [],
   "source": [
    "numericCols = ['CostOfGoodsAndServicesSold', 'CostOfGoodsSold', 'CostOfServices', 'EarningsPerShareBasic', \n",
    "               'EarningsPerShareDiluted', 'GainLossOnDispositionOfAssets', 'GeneralAndAdministrativeExpense', \n",
    "               'IncomeTaxesPaid', 'IncreaseDecreaseInAccountsPayable', 'IncreaseDecreaseInAccountsReceivable', \n",
    "               'IncreaseDecreaseInAccruedLiabilities', 'IncreaseDecreaseInInventories', \n",
    "               'LaborAndRelatedExpense', 'NetCashProvidedByUsedInFinancingActivities', \n",
    "               'NetCashProvidedByUsedInFinancingActivitiesContinuingOperations', \n",
    "               'NetCashProvidedByUsedInInvestingActivities', 'NetCashProvidedByUsedInInvestingActivitiesContinuingOperations', \n",
    "               'NetCashProvidedByUsedInOperatingActivities', 'NetCashProvidedByUsedInOperatingActivitiesContinuingOperations', \n",
    "               'NetIncomeLoss', 'OperatingExpenses', 'OperatingIncomeLoss', 'PaymentsForRepurchaseOfCommonStock', \n",
    "               'PaymentsOfDividends', 'PaymentsOfDividendsCommonStock', 'PaymentsOfFinancingCosts', 'PaymentsToAcquireBusinessesNetOfCashAcquired', \n",
    "               'PaymentsToAcquirePropertyPlantAndEquipment', 'RepaymentsOfLongTermDebt', 'ResearchAndDevelopmentExpense', \n",
    "               'Revenues', 'SellingAndMarketingExpense', 'ShareBasedCompensation']\n",
    "\n",
    "assembler = VectorAssembler(inputCols=numericCols, outputCol=\"features1\", handleInvalid=\"keep\")"
   ]
  },
  {
   "cell_type": "markdown",
   "metadata": {},
   "source": [
    "### build ml pipeline"
   ]
  },
  {
   "cell_type": "code",
   "execution_count": 136,
   "metadata": {},
   "outputs": [
    {
     "name": "stdout",
     "output_type": "stream",
     "text": [
      "root\n",
      " |-- features1: vector (nullable = true)\n",
      " |-- industry_label_n: double (nullable = false)\n",
      " |-- CostOfGoodsAndServicesSold: double (nullable = false)\n",
      " |-- CostOfGoodsSold: double (nullable = false)\n",
      " |-- CostOfServices: double (nullable = false)\n",
      " |-- EarningsPerShareBasic: double (nullable = false)\n",
      " |-- EarningsPerShareDiluted: double (nullable = false)\n",
      " |-- GainLossOnDispositionOfAssets: double (nullable = false)\n",
      " |-- GeneralAndAdministrativeExpense: double (nullable = false)\n",
      " |-- IncomeTaxesPaid: double (nullable = false)\n",
      " |-- IncreaseDecreaseInAccountsPayable: double (nullable = false)\n",
      " |-- IncreaseDecreaseInAccountsReceivable: double (nullable = false)\n",
      " |-- IncreaseDecreaseInAccruedLiabilities: double (nullable = false)\n",
      " |-- IncreaseDecreaseInInventories: double (nullable = false)\n",
      " |-- LaborAndRelatedExpense: double (nullable = false)\n",
      " |-- NetCashProvidedByUsedInFinancingActivities: double (nullable = false)\n",
      " |-- NetCashProvidedByUsedInFinancingActivitiesContinuingOperations: double (nullable = false)\n",
      " |-- NetCashProvidedByUsedInInvestingActivities: double (nullable = false)\n",
      " |-- NetCashProvidedByUsedInInvestingActivitiesContinuingOperations: double (nullable = false)\n",
      " |-- NetCashProvidedByUsedInOperatingActivities: double (nullable = false)\n",
      " |-- NetCashProvidedByUsedInOperatingActivitiesContinuingOperations: double (nullable = false)\n",
      " |-- NetIncomeLoss: double (nullable = false)\n",
      " |-- OperatingExpenses: double (nullable = false)\n",
      " |-- OperatingIncomeLoss: double (nullable = false)\n",
      " |-- PaymentsForRepurchaseOfCommonStock: double (nullable = false)\n",
      " |-- PaymentsOfDividends: double (nullable = false)\n",
      " |-- PaymentsOfDividendsCommonStock: double (nullable = false)\n",
      " |-- PaymentsOfFinancingCosts: double (nullable = false)\n",
      " |-- PaymentsToAcquireBusinessesNetOfCashAcquired: double (nullable = false)\n",
      " |-- PaymentsToAcquirePropertyPlantAndEquipment: double (nullable = false)\n",
      " |-- RepaymentsOfLongTermDebt: double (nullable = false)\n",
      " |-- ResearchAndDevelopmentExpense: double (nullable = false)\n",
      " |-- Revenues: double (nullable = false)\n",
      " |-- SellingAndMarketingExpense: double (nullable = false)\n",
      " |-- ShareBasedCompensation: double (nullable = false)\n",
      "\n"
     ]
    }
   ],
   "source": [
    "from pyspark.ml import Pipeline\n",
    "\n",
    "pipeline = Pipeline(stages=[indexer1,assembler])\n",
    "\n",
    "pipelineModel = pipeline.fit(inc)\n",
    "\n",
    "Cols = ['industry_label_n','CostOfGoodsAndServicesSold', 'CostOfGoodsSold', 'CostOfServices', 'EarningsPerShareBasic', \n",
    "               'EarningsPerShareDiluted', 'GainLossOnDispositionOfAssets', 'GeneralAndAdministrativeExpense', \n",
    "               'IncomeTaxesPaid', 'IncreaseDecreaseInAccountsPayable', 'IncreaseDecreaseInAccountsReceivable', \n",
    "               'IncreaseDecreaseInAccruedLiabilities', 'IncreaseDecreaseInInventories', \n",
    "               'LaborAndRelatedExpense', 'NetCashProvidedByUsedInFinancingActivities', \n",
    "               'NetCashProvidedByUsedInFinancingActivitiesContinuingOperations', \n",
    "               'NetCashProvidedByUsedInInvestingActivities', 'NetCashProvidedByUsedInInvestingActivitiesContinuingOperations', \n",
    "               'NetCashProvidedByUsedInOperatingActivities', 'NetCashProvidedByUsedInOperatingActivitiesContinuingOperations', \n",
    "               'NetIncomeLoss', 'OperatingExpenses', 'OperatingIncomeLoss', 'PaymentsForRepurchaseOfCommonStock', \n",
    "               'PaymentsOfDividends', 'PaymentsOfDividendsCommonStock', 'PaymentsOfFinancingCosts', 'PaymentsToAcquireBusinessesNetOfCashAcquired', \n",
    "               'PaymentsToAcquirePropertyPlantAndEquipment', 'RepaymentsOfLongTermDebt', 'ResearchAndDevelopmentExpense', \n",
    "               'Revenues', 'SellingAndMarketingExpense', 'ShareBasedCompensation']\n",
    "\n",
    "inc = pipelineModel.transform(inc)\n",
    "selectedCols = ['features1'] + Cols\n",
    "inc = inc.select(selectedCols)\n",
    "inc.printSchema()"
   ]
  },
  {
   "cell_type": "code",
   "execution_count": 137,
   "metadata": {},
   "outputs": [],
   "source": [
    "import mmlspark\n",
    "\n",
    "lgbClassifier = LightGBMClassifier(learningRate=0.3,\n",
    "                           numIterations=100,\n",
    "                           numLeaves=31, featuresCol='features1',labelCol='industry_label_n')\n",
    "\n",
    "train, test = inc.randomSplit([0.85, 0.15], seed=1)\n",
    "lgbClassifierModel = lgbClassifier.fit(train)\n",
    "test_class = lgbClassifierModel.transform(test)"
   ]
  },
  {
   "cell_type": "markdown",
   "metadata": {},
   "source": [
    "### see the convert the label to original string type"
   ]
  },
  {
   "cell_type": "code",
   "execution_count": 141,
   "metadata": {},
   "outputs": [],
   "source": [
    "converter = IndexToString(inputCol=\"industry_label_n\", outputCol=\"originalCategory\")\n",
    "converted = converter.transform(inc)"
   ]
  },
  {
   "cell_type": "code",
   "execution_count": 144,
   "metadata": {},
   "outputs": [
    {
     "name": "stdout",
     "output_type": "stream",
     "text": [
      "+----------------+----------------+\n",
      "|industry_label_n|originalCategory|\n",
      "+----------------+----------------+\n",
      "|             1.0|               2|\n",
      "|             0.0|               1|\n",
      "+----------------+----------------+\n",
      "\n"
     ]
    }
   ],
   "source": [
    "converted.select(\"industry_label_n\", \"originalCategory\").distinct().show()"
   ]
  },
  {
   "cell_type": "markdown",
   "metadata": {},
   "source": [
    "label 0 represents industry \"2\" while label 0 represents industry \"1\""
   ]
  },
  {
   "cell_type": "markdown",
   "metadata": {},
   "source": [
    "### Evaluation\n",
    "areaUnderROC"
   ]
  },
  {
   "cell_type": "code",
   "execution_count": 63,
   "metadata": {},
   "outputs": [
    {
     "name": "stdout",
     "output_type": "stream",
     "text": [
      "0.917395279451731\n"
     ]
    }
   ],
   "source": [
    "from pyspark.ml.evaluation import BinaryClassificationEvaluator as bce\n",
    "evaluator = bce(rawPredictionCol='probability', labelCol='industry_label_n')\n",
    "print(evaluator.evaluate(test_class, {evaluator.metricName: 'areaUnderROC'}))"
   ]
  },
  {
   "cell_type": "code",
   "execution_count": 65,
   "metadata": {},
   "outputs": [
    {
     "name": "stdout",
     "output_type": "stream",
     "text": [
      "              precision    recall  f1-score   support\n",
      "\n",
      "         0.0       0.82      0.85      0.84      2604\n",
      "         1.0       0.85      0.82      0.83      2600\n",
      "\n",
      "    accuracy                           0.83      5204\n",
      "   macro avg       0.83      0.83      0.83      5204\n",
      "weighted avg       0.83      0.83      0.83      5204\n",
      "\n"
     ]
    }
   ],
   "source": [
    "from sklearn.metrics import classification_report, confusion_matrix\n",
    "y_true = test_class.select(['industry_label_n']).collect()\n",
    "y_pred = test_class.select(['prediction']).collect()\n",
    "print(classification_report(y_true, y_pred))"
   ]
  },
  {
   "cell_type": "code",
   "execution_count": 66,
   "metadata": {},
   "outputs": [
    {
     "data": {
      "text/plain": [
       "array([[2222,  382],\n",
       "       [ 480, 2120]])"
      ]
     },
     "execution_count": 66,
     "metadata": {},
     "output_type": "execute_result"
    }
   ],
   "source": [
    "confusion_matrix(y_true, y_pred, labels=[0, 1])"
   ]
  },
  {
   "cell_type": "markdown",
   "metadata": {},
   "source": [
    "### Plot the feature importance"
   ]
  },
  {
   "cell_type": "code",
   "execution_count": 85,
   "metadata": {},
   "outputs": [],
   "source": [
    "import pandas as pd\n",
    "features=['CostOfGoodsAndServicesSold', 'CostOfGoodsSold', 'CostOfServices', 'EarningsPerShareBasic', \n",
    "               'EarningsPerShareDiluted', 'GainLossOnDispositionOfAssets', 'GeneralAndAdministrativeExpense', \n",
    "               'IncomeTaxesPaid', 'IncreaseDecreaseInAccountsPayable', 'IncreaseDecreaseInAccountsReceivable', \n",
    "               'IncreaseDecreaseInAccruedLiabilities', 'IncreaseDecreaseInInventories', \n",
    "               'LaborAndRelatedExpense', 'NetCashProvidedByUsedInFinancingActivities', \n",
    "               'NetCashProvidedByUsedInFinancingActivitiesContinuingOperations', \n",
    "               'NetCashProvidedByUsedInInvestingActivities', 'NetCashProvidedByUsedInInvestingActivitiesContinuingOperations', \n",
    "               'NetCashProvidedByUsedInOperatingActivities', 'NetCashProvidedByUsedInOperatingActivitiesContinuingOperations', \n",
    "               'NetIncomeLoss', 'OperatingExpenses', 'OperatingIncomeLoss', 'PaymentsForRepurchaseOfCommonStock', \n",
    "               'PaymentsOfDividends', 'PaymentsOfDividendsCommonStock', 'PaymentsOfFinancingCosts', 'PaymentsToAcquireBusinessesNetOfCashAcquired', \n",
    "               'PaymentsToAcquirePropertyPlantAndEquipment', 'RepaymentsOfLongTermDebt', 'ResearchAndDevelopmentExpense', \n",
    "               'Revenues', 'SellingAndMarketingExpense', 'ShareBasedCompensation']\n",
    "importance = lgbClassifierModel.getFeatureImportances()\n",
    "imp = pd.DataFrame()\n",
    "imp['feature'] = features\n",
    "imp['importance']=importance"
   ]
  },
  {
   "cell_type": "code",
   "execution_count": 90,
   "metadata": {},
   "outputs": [
    {
     "data": {
      "text/html": [
       "<div>\n",
       "<style scoped>\n",
       "    .dataframe tbody tr th:only-of-type {\n",
       "        vertical-align: middle;\n",
       "    }\n",
       "\n",
       "    .dataframe tbody tr th {\n",
       "        vertical-align: top;\n",
       "    }\n",
       "\n",
       "    .dataframe thead th {\n",
       "        text-align: right;\n",
       "    }\n",
       "</style>\n",
       "<table border=\"1\" class=\"dataframe\">\n",
       "  <thead>\n",
       "    <tr style=\"text-align: right;\">\n",
       "      <th></th>\n",
       "      <th>feature</th>\n",
       "      <th>importance</th>\n",
       "    </tr>\n",
       "  </thead>\n",
       "  <tbody>\n",
       "    <tr>\n",
       "      <th>0</th>\n",
       "      <td>PaymentsToAcquirePropertyPlantAndEquipment</td>\n",
       "      <td>202.0</td>\n",
       "    </tr>\n",
       "    <tr>\n",
       "      <th>1</th>\n",
       "      <td>OperatingIncomeLoss</td>\n",
       "      <td>200.0</td>\n",
       "    </tr>\n",
       "    <tr>\n",
       "      <th>2</th>\n",
       "      <td>ShareBasedCompensation</td>\n",
       "      <td>172.0</td>\n",
       "    </tr>\n",
       "    <tr>\n",
       "      <th>3</th>\n",
       "      <td>NetIncomeLoss</td>\n",
       "      <td>153.0</td>\n",
       "    </tr>\n",
       "    <tr>\n",
       "      <th>4</th>\n",
       "      <td>IncreaseDecreaseInAccountsReceivable</td>\n",
       "      <td>149.0</td>\n",
       "    </tr>\n",
       "    <tr>\n",
       "      <th>5</th>\n",
       "      <td>GeneralAndAdministrativeExpense</td>\n",
       "      <td>146.0</td>\n",
       "    </tr>\n",
       "    <tr>\n",
       "      <th>6</th>\n",
       "      <td>IncreaseDecreaseInInventories</td>\n",
       "      <td>143.0</td>\n",
       "    </tr>\n",
       "    <tr>\n",
       "      <th>7</th>\n",
       "      <td>Revenues</td>\n",
       "      <td>134.0</td>\n",
       "    </tr>\n",
       "    <tr>\n",
       "      <th>8</th>\n",
       "      <td>OperatingExpenses</td>\n",
       "      <td>116.0</td>\n",
       "    </tr>\n",
       "    <tr>\n",
       "      <th>9</th>\n",
       "      <td>NetCashProvidedByUsedInOperatingActivities</td>\n",
       "      <td>111.0</td>\n",
       "    </tr>\n",
       "  </tbody>\n",
       "</table>\n",
       "</div>"
      ],
      "text/plain": [
       "                                      feature  importance\n",
       "0  PaymentsToAcquirePropertyPlantAndEquipment       202.0\n",
       "1                         OperatingIncomeLoss       200.0\n",
       "2                      ShareBasedCompensation       172.0\n",
       "3                               NetIncomeLoss       153.0\n",
       "4        IncreaseDecreaseInAccountsReceivable       149.0\n",
       "5             GeneralAndAdministrativeExpense       146.0\n",
       "6               IncreaseDecreaseInInventories       143.0\n",
       "7                                    Revenues       134.0\n",
       "8                           OperatingExpenses       116.0\n",
       "9  NetCashProvidedByUsedInOperatingActivities       111.0"
      ]
     },
     "execution_count": 90,
     "metadata": {},
     "output_type": "execute_result"
    }
   ],
   "source": [
    "imp = imp.sort_values(by='importance', ascending=0)\n",
    "imp = imp.reset_index(drop = True)\n",
    "imp = imp[0:10]\n",
    "imp"
   ]
  },
  {
   "cell_type": "code",
   "execution_count": 91,
   "metadata": {},
   "outputs": [
    {
     "data": {
      "text/plain": [
       "<matplotlib.axes._subplots.AxesSubplot at 0x7fc3f20a3d90>"
      ]
     },
     "execution_count": 91,
     "metadata": {},
     "output_type": "execute_result"
    },
    {
     "data": {
      "image/png": "[encoded data removed]",
      "text/plain": [
       "<Figure size 432x288 with 1 Axes>"
      ]
     },
     "metadata": {
      "needs_background": "light"
     },
     "output_type": "display_data"
    }
   ],
   "source": [
    "from matplotlib import pyplot as plt\n",
    "import numpy as np\n",
    "imp.plot(kind='barh',x='feature',y='importance')"
   ]
  },
  {
   "cell_type": "markdown",
   "metadata": {},
   "source": [
    "### compare the difference in the most important features between the two groups\n",
    "detailed analyses please see the report"
   ]
  },
  {
   "cell_type": "code",
   "execution_count": 107,
   "metadata": {},
   "outputs": [],
   "source": [
    "inc.createOrReplaceTempView(\"inc\")\n",
    "top10 = spark.sql('''\n",
    "select PaymentsToAcquirePropertyPlantAndEquipment,\n",
    "OperatingIncomeLoss,\n",
    "ShareBasedCompensation,\n",
    "NetIncomeLoss,\n",
    "IncreaseDecreaseInAccountsReceivable,\n",
    "GeneralAndAdministrativeExpense,\n",
    "IncreaseDecreaseInInventories,\n",
    "Revenues,\n",
    "OperatingExpenses,\n",
    "NetCashProvidedByUsedInOperatingActivities,\n",
    "industry_label_n\n",
    "from inc\n",
    "''')"
   ]
  },
  {
   "cell_type": "code",
   "execution_count": 114,
   "metadata": {},
   "outputs": [
    {
     "data": {
      "text/plain": [
       "PaymentsToAcquirePropertyPlantAndEquipment    1.747440e+08\n",
       "OperatingIncomeLoss                           1.961909e+08\n",
       "ShareBasedCompensation                        1.891467e+07\n",
       "NetIncomeLoss                                 8.128655e+08\n",
       "IncreaseDecreaseInAccountsReceivable          8.036808e+06\n",
       "GeneralAndAdministrativeExpense               1.617463e+08\n",
       "IncreaseDecreaseInInventories                -1.922402e+06\n",
       "Revenues                                      1.966043e+09\n",
       "OperatingExpenses                             1.738115e+08\n",
       "NetCashProvidedByUsedInOperatingActivities    9.838758e+08\n",
       "industry_label_n                              1.000000e+00\n",
       "dtype: float64"
      ]
     },
     "execution_count": 114,
     "metadata": {},
     "output_type": "execute_result"
    }
   ],
   "source": [
    "top10[top10['industry_label_n']==1].mean(axis = 0)"
   ]
  },
  {
   "cell_type": "code",
   "execution_count": 116,
   "metadata": {},
   "outputs": [
    {
     "data": {
      "text/plain": [
       "PaymentsToAcquirePropertyPlantAndEquipment    6.601431e+08\n",
       "OperatingIncomeLoss                           1.068636e+09\n",
       "ShareBasedCompensation                        1.335568e+07\n",
       "NetIncomeLoss                                 8.773825e+08\n",
       "IncreaseDecreaseInAccountsReceivable          3.391371e+07\n",
       "GeneralAndAdministrativeExpense               2.407248e+07\n",
       "IncreaseDecreaseInInventories                 8.529190e+07\n",
       "Revenues                                      8.762541e+09\n",
       "OperatingExpenses                             1.069280e+09\n",
       "NetCashProvidedByUsedInOperatingActivities    1.816322e+09\n",
       "industry_label_n                              0.000000e+00\n",
       "dtype: float64"
      ]
     },
     "execution_count": 116,
     "metadata": {},
     "output_type": "execute_result"
    }
   ],
   "source": [
    "top10[top10['industry_label_n']==0].mean(axis = 0)"
   ]
  },
  {
   "cell_type": "code",
   "execution_count": null,
   "metadata": {},
   "outputs": [],
   "source": []
  }
 ],
 "metadata": {
  "kernelspec": {
   "display_name": "Python 3",
   "language": "python",
   "name": "python3"
  },
  "language_info": {
   "codemirror_mode": {
    "name": "ipython",
    "version": 3
   },
   "file_extension": ".py",
   "mimetype": "text/x-python",
   "name": "python",
   "nbconvert_exporter": "python",
   "pygments_lexer": "ipython3",
   "version": "3.7.6"
  }
 },
 "nbformat": 4,
 "nbformat_minor": 4
}
